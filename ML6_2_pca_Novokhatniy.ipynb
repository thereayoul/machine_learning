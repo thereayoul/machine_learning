{
  "cells": [
    {
      "cell_type": "markdown",
      "metadata": {
        "id": "6fJd2YQJm3hk"
      },
      "source": [
        "# Понижение размерности\n",
        "### Цель работы\n",
        "Применить методы понижения размерности для решения задач машинного обучения."
      ]
    },
    {
      "cell_type": "code",
      "execution_count": null,
      "metadata": {
        "id": "M8cRBbiXm3hn",
        "outputId": "d462d1d0-9178-406b-da20-41cdf5111ed2"
      },
      "outputs": [
        {
          "name": "stderr",
          "output_type": "stream",
          "text": [
            "C:\\ProgramData\\Anaconda3\\lib\\site-packages\\scipy\\__init__.py:146: UserWarning: A NumPy version >=1.16.5 and <1.23.0 is required for this version of SciPy (detected version 1.24.1\n",
            "  warnings.warn(f\"A NumPy version >={np_minversion} and <{np_maxversion}\"\n"
          ]
        }
      ],
      "source": [
        "# %matplotlib inline\n",
        "import matplotlib.pyplot as plt\n",
        "import seaborn as sns\n",
        "import numpy as np\n",
        "import pandas as pd\n",
        "\n",
        "from sklearn.ensemble import RandomForestClassifier\n",
        "from sklearn import metrics\n",
        "from sklearn.model_selection import train_test_split\n",
        "\n",
        "from sklearn.cluster import KMeans\n",
        "from sklearn.decomposition import PCA # метод главных компонент\n",
        "from sklearn.preprocessing import normalize # нормализация данных по строке"
      ]
    },
    {
      "cell_type": "code",
      "execution_count": null,
      "metadata": {
        "scrolled": true,
        "id": "Knz9gqmwm3hp",
        "outputId": "829a3ec8-37b8-4b31-eb82-6263e793acc6"
      },
      "outputs": [
        {
          "data": {
            "text/plain": [
              "'1.5.2'"
            ]
          },
          "execution_count": 2,
          "metadata": {},
          "output_type": "execute_result"
        }
      ],
      "source": [
        "pd.__version__"
      ]
    },
    {
      "cell_type": "markdown",
      "metadata": {
        "id": "9OSZXUgym3hq"
      },
      "source": [
        "### Задания для выполнения"
      ]
    },
    {
      "cell_type": "markdown",
      "metadata": {
        "id": "sKHjvyZ7m3hq"
      },
      "source": [
        "__1.__ Загрузите прилагающийся датасет credit_data."
      ]
    },
    {
      "cell_type": "code",
      "execution_count": null,
      "metadata": {
        "id": "5C8xW3A5m3hq"
      },
      "outputs": [],
      "source": [
        "credit_data = pd.read_csv('credit_data.csv', index_col='Unnamed: 0')"
      ]
    },
    {
      "cell_type": "code",
      "execution_count": null,
      "metadata": {
        "id": "_9MLI-abm3hr",
        "outputId": "7f303965-c3b2-4bee-846e-01319f6a0e57"
      },
      "outputs": [
        {
          "data": {
            "text/html": [
              "<div>\n",
              "<style scoped>\n",
              "    .dataframe tbody tr th:only-of-type {\n",
              "        vertical-align: middle;\n",
              "    }\n",
              "\n",
              "    .dataframe tbody tr th {\n",
              "        vertical-align: top;\n",
              "    }\n",
              "\n",
              "    .dataframe thead th {\n",
              "        text-align: right;\n",
              "    }\n",
              "</style>\n",
              "<table border=\"1\" class=\"dataframe\">\n",
              "  <thead>\n",
              "    <tr style=\"text-align: right;\">\n",
              "      <th></th>\n",
              "      <th>Age</th>\n",
              "      <th>Sex</th>\n",
              "      <th>Job</th>\n",
              "      <th>Housing</th>\n",
              "      <th>Saving accounts</th>\n",
              "      <th>Checking account</th>\n",
              "      <th>Credit amount</th>\n",
              "      <th>Duration</th>\n",
              "      <th>Purpose</th>\n",
              "      <th>Risk</th>\n",
              "    </tr>\n",
              "  </thead>\n",
              "  <tbody>\n",
              "    <tr>\n",
              "      <th>0</th>\n",
              "      <td>67</td>\n",
              "      <td>male</td>\n",
              "      <td>2</td>\n",
              "      <td>own</td>\n",
              "      <td>NaN</td>\n",
              "      <td>little</td>\n",
              "      <td>1169</td>\n",
              "      <td>6</td>\n",
              "      <td>radio/TV</td>\n",
              "      <td>good</td>\n",
              "    </tr>\n",
              "    <tr>\n",
              "      <th>1</th>\n",
              "      <td>22</td>\n",
              "      <td>female</td>\n",
              "      <td>2</td>\n",
              "      <td>own</td>\n",
              "      <td>little</td>\n",
              "      <td>moderate</td>\n",
              "      <td>5951</td>\n",
              "      <td>48</td>\n",
              "      <td>radio/TV</td>\n",
              "      <td>bad</td>\n",
              "    </tr>\n",
              "    <tr>\n",
              "      <th>2</th>\n",
              "      <td>49</td>\n",
              "      <td>male</td>\n",
              "      <td>1</td>\n",
              "      <td>own</td>\n",
              "      <td>little</td>\n",
              "      <td>NaN</td>\n",
              "      <td>2096</td>\n",
              "      <td>12</td>\n",
              "      <td>education</td>\n",
              "      <td>good</td>\n",
              "    </tr>\n",
              "    <tr>\n",
              "      <th>3</th>\n",
              "      <td>45</td>\n",
              "      <td>male</td>\n",
              "      <td>2</td>\n",
              "      <td>free</td>\n",
              "      <td>little</td>\n",
              "      <td>little</td>\n",
              "      <td>7882</td>\n",
              "      <td>42</td>\n",
              "      <td>furniture/equipment</td>\n",
              "      <td>good</td>\n",
              "    </tr>\n",
              "    <tr>\n",
              "      <th>4</th>\n",
              "      <td>53</td>\n",
              "      <td>male</td>\n",
              "      <td>2</td>\n",
              "      <td>free</td>\n",
              "      <td>little</td>\n",
              "      <td>little</td>\n",
              "      <td>4870</td>\n",
              "      <td>24</td>\n",
              "      <td>car</td>\n",
              "      <td>bad</td>\n",
              "    </tr>\n",
              "  </tbody>\n",
              "</table>\n",
              "</div>"
            ],
            "text/plain": [
              "   Age     Sex  Job Housing Saving accounts Checking account  Credit amount  \\\n",
              "0   67    male    2     own             NaN           little           1169   \n",
              "1   22  female    2     own          little         moderate           5951   \n",
              "2   49    male    1     own          little              NaN           2096   \n",
              "3   45    male    2    free          little           little           7882   \n",
              "4   53    male    2    free          little           little           4870   \n",
              "\n",
              "   Duration              Purpose  Risk  \n",
              "0         6             radio/TV  good  \n",
              "1        48             radio/TV   bad  \n",
              "2        12            education  good  \n",
              "3        42  furniture/equipment  good  \n",
              "4        24                  car   bad  "
            ]
          },
          "execution_count": 4,
          "metadata": {},
          "output_type": "execute_result"
        }
      ],
      "source": [
        "credit_data.head()"
      ]
    },
    {
      "cell_type": "markdown",
      "metadata": {
        "id": "m2kVyVngm3hr"
      },
      "source": [
        "В первую очередь загрузим датасет, выведем количество пустых значений в каждом столбце:"
      ]
    },
    {
      "cell_type": "code",
      "execution_count": null,
      "metadata": {
        "scrolled": true,
        "id": "mg6iQvmBm3hr",
        "outputId": "9072b5f5-8dc8-4490-d334-f6107836c954"
      },
      "outputs": [
        {
          "data": {
            "text/plain": [
              "Age                   0\n",
              "Sex                   0\n",
              "Job                   0\n",
              "Housing               0\n",
              "Saving accounts     183\n",
              "Checking account    394\n",
              "Credit amount         0\n",
              "Duration              0\n",
              "Purpose               0\n",
              "Risk                  0\n",
              "dtype: int64"
            ]
          },
          "execution_count": 5,
          "metadata": {},
          "output_type": "execute_result"
        }
      ],
      "source": [
        "credit_data.isna().sum()"
      ]
    },
    {
      "cell_type": "markdown",
      "metadata": {
        "id": "TZxndCkjm3hs"
      },
      "source": [
        "Удалим столбцы не несущие какой-либо полезной информации, а также вынесем метки строк в отдельный массив target:\n",
        "\n"
      ]
    },
    {
      "cell_type": "code",
      "execution_count": null,
      "metadata": {
        "id": "ME-LweLom3hs"
      },
      "outputs": [],
      "source": [
        "target = credit_data['Risk']\n",
        "credit_data = credit_data.drop(['Risk', 'Purpose'], axis=1)"
      ]
    },
    {
      "cell_type": "markdown",
      "metadata": {
        "id": "UWwZQMnim3hs"
      },
      "source": [
        "Заменим текстовые категориальные признаки на числовые с помощью функции map. Пустые значения в столбцах заменим на 0."
      ]
    },
    {
      "cell_type": "code",
      "execution_count": null,
      "metadata": {
        "scrolled": true,
        "id": "ikO7BWT-m3ht",
        "outputId": "22252577-e224-427e-cf74-7746082250cc"
      },
      "outputs": [
        {
          "data": {
            "text/plain": [
              "little        603\n",
              "moderate      103\n",
              "quite rich     63\n",
              "rich           48\n",
              "Name: Saving accounts, dtype: int64"
            ]
          },
          "execution_count": 7,
          "metadata": {},
          "output_type": "execute_result"
        }
      ],
      "source": [
        "credit_data['Saving accounts'].value_counts()"
      ]
    },
    {
      "cell_type": "code",
      "execution_count": null,
      "metadata": {
        "id": "dxfpS4iom3ht"
      },
      "outputs": [],
      "source": [
        "credit_data['Saving accounts'] = pd.factorize(credit_data['Saving accounts'], use_na_sentinel=False)[0]"
      ]
    },
    {
      "cell_type": "code",
      "execution_count": null,
      "metadata": {
        "id": "qwOSGosGm3ht",
        "outputId": "18ec4f2a-a074-44e6-d8f8-ab50775c6802"
      },
      "outputs": [
        {
          "data": {
            "text/plain": [
              "little      274\n",
              "moderate    269\n",
              "rich         63\n",
              "Name: Checking account, dtype: int64"
            ]
          },
          "execution_count": 9,
          "metadata": {},
          "output_type": "execute_result"
        }
      ],
      "source": [
        "credit_data['Checking account'].value_counts()"
      ]
    },
    {
      "cell_type": "code",
      "execution_count": null,
      "metadata": {
        "id": "P8Uh1pdhm3ht"
      },
      "outputs": [],
      "source": [
        "credit_data['Checking account'] = pd.factorize(credit_data['Checking account'], use_na_sentinel=False)[0]"
      ]
    },
    {
      "cell_type": "code",
      "execution_count": null,
      "metadata": {
        "id": "hVEok252m3ht"
      },
      "outputs": [],
      "source": [
        "target = pd.factorize(target, use_na_sentinel=False)[0]"
      ]
    },
    {
      "cell_type": "code",
      "execution_count": null,
      "metadata": {
        "id": "vEZW-zVCm3hu",
        "outputId": "82a63892-3284-40bb-db9f-a218640492b0"
      },
      "outputs": [
        {
          "data": {
            "text/plain": [
              "0"
            ]
          },
          "execution_count": 12,
          "metadata": {},
          "output_type": "execute_result"
        }
      ],
      "source": [
        "credit_data.isna().sum().sum()"
      ]
    },
    {
      "cell_type": "markdown",
      "metadata": {
        "id": "hmyOZqMlm3hu"
      },
      "source": [
        "__2.__ Проверьте датасет на наличие текстовых атрибутов. Замените текстовые атрибуты на числовые без потери качества данных."
      ]
    },
    {
      "cell_type": "code",
      "execution_count": null,
      "metadata": {
        "id": "ZKYM_8nUm3hu",
        "outputId": "d678b95c-ea68-4eda-e031-6e4f2eaa25b3"
      },
      "outputs": [
        {
          "data": {
            "text/plain": [
              "Index(['Sex', 'Housing'], dtype='object')"
            ]
          },
          "execution_count": 13,
          "metadata": {},
          "output_type": "execute_result"
        }
      ],
      "source": [
        "credit_data.select_dtypes('object').columns"
      ]
    },
    {
      "cell_type": "markdown",
      "metadata": {
        "id": "bzXkhlfnm3hu"
      },
      "source": [
        "Заменим полученные категориальные признаки на индикаторы с помощью метода get_dummies. Это необходимо поскольку модель случайных лесов плохо работает с категориальными признаками, но неплохо обучается с индикаторами."
      ]
    },
    {
      "cell_type": "code",
      "execution_count": null,
      "metadata": {
        "id": "xjgHXgC6m3hu",
        "outputId": "03cd10f0-fdc3-4922-fac9-8ede871a930d"
      },
      "outputs": [
        {
          "data": {
            "text/html": [
              "<div>\n",
              "<style scoped>\n",
              "    .dataframe tbody tr th:only-of-type {\n",
              "        vertical-align: middle;\n",
              "    }\n",
              "\n",
              "    .dataframe tbody tr th {\n",
              "        vertical-align: top;\n",
              "    }\n",
              "\n",
              "    .dataframe thead th {\n",
              "        text-align: right;\n",
              "    }\n",
              "</style>\n",
              "<table border=\"1\" class=\"dataframe\">\n",
              "  <thead>\n",
              "    <tr style=\"text-align: right;\">\n",
              "      <th></th>\n",
              "      <th>Age</th>\n",
              "      <th>Job</th>\n",
              "      <th>Saving accounts</th>\n",
              "      <th>Checking account</th>\n",
              "      <th>Credit amount</th>\n",
              "      <th>Duration</th>\n",
              "      <th>Sex_female</th>\n",
              "      <th>Sex_male</th>\n",
              "      <th>Housing_free</th>\n",
              "      <th>Housing_own</th>\n",
              "      <th>Housing_rent</th>\n",
              "    </tr>\n",
              "  </thead>\n",
              "  <tbody>\n",
              "    <tr>\n",
              "      <th>0</th>\n",
              "      <td>67</td>\n",
              "      <td>2</td>\n",
              "      <td>0</td>\n",
              "      <td>0</td>\n",
              "      <td>1169</td>\n",
              "      <td>6</td>\n",
              "      <td>0</td>\n",
              "      <td>1</td>\n",
              "      <td>0</td>\n",
              "      <td>1</td>\n",
              "      <td>0</td>\n",
              "    </tr>\n",
              "    <tr>\n",
              "      <th>1</th>\n",
              "      <td>22</td>\n",
              "      <td>2</td>\n",
              "      <td>1</td>\n",
              "      <td>1</td>\n",
              "      <td>5951</td>\n",
              "      <td>48</td>\n",
              "      <td>1</td>\n",
              "      <td>0</td>\n",
              "      <td>0</td>\n",
              "      <td>1</td>\n",
              "      <td>0</td>\n",
              "    </tr>\n",
              "    <tr>\n",
              "      <th>2</th>\n",
              "      <td>49</td>\n",
              "      <td>1</td>\n",
              "      <td>1</td>\n",
              "      <td>2</td>\n",
              "      <td>2096</td>\n",
              "      <td>12</td>\n",
              "      <td>0</td>\n",
              "      <td>1</td>\n",
              "      <td>0</td>\n",
              "      <td>1</td>\n",
              "      <td>0</td>\n",
              "    </tr>\n",
              "    <tr>\n",
              "      <th>3</th>\n",
              "      <td>45</td>\n",
              "      <td>2</td>\n",
              "      <td>1</td>\n",
              "      <td>0</td>\n",
              "      <td>7882</td>\n",
              "      <td>42</td>\n",
              "      <td>0</td>\n",
              "      <td>1</td>\n",
              "      <td>1</td>\n",
              "      <td>0</td>\n",
              "      <td>0</td>\n",
              "    </tr>\n",
              "    <tr>\n",
              "      <th>4</th>\n",
              "      <td>53</td>\n",
              "      <td>2</td>\n",
              "      <td>1</td>\n",
              "      <td>0</td>\n",
              "      <td>4870</td>\n",
              "      <td>24</td>\n",
              "      <td>0</td>\n",
              "      <td>1</td>\n",
              "      <td>1</td>\n",
              "      <td>0</td>\n",
              "      <td>0</td>\n",
              "    </tr>\n",
              "  </tbody>\n",
              "</table>\n",
              "</div>"
            ],
            "text/plain": [
              "   Age  Job  Saving accounts  Checking account  Credit amount  Duration  \\\n",
              "0   67    2                0                 0           1169         6   \n",
              "1   22    2                1                 1           5951        48   \n",
              "2   49    1                1                 2           2096        12   \n",
              "3   45    2                1                 0           7882        42   \n",
              "4   53    2                1                 0           4870        24   \n",
              "\n",
              "   Sex_female  Sex_male  Housing_free  Housing_own  Housing_rent  \n",
              "0           0         1             0            1             0  \n",
              "1           1         0             0            1             0  \n",
              "2           0         1             0            1             0  \n",
              "3           0         1             1            0             0  \n",
              "4           0         1             1            0             0  "
            ]
          },
          "execution_count": 14,
          "metadata": {},
          "output_type": "execute_result"
        }
      ],
      "source": [
        "X = pd.get_dummies(credit_data)\n",
        "X.head()"
      ]
    },
    {
      "cell_type": "markdown",
      "metadata": {
        "id": "BrsZArQzm3hu"
      },
      "source": [
        "__3.__ Выведите информацию о количественных параметрах датасета;"
      ]
    },
    {
      "cell_type": "code",
      "execution_count": null,
      "metadata": {
        "id": "AHTyK1ujm3hv",
        "outputId": "2e4a395f-e337-44d9-e21a-a2146457dd63"
      },
      "outputs": [
        {
          "name": "stdout",
          "output_type": "stream",
          "text": [
            "<class 'pandas.core.frame.DataFrame'>\n",
            "Int64Index: 1000 entries, 0 to 999\n",
            "Data columns (total 11 columns):\n",
            " #   Column            Non-Null Count  Dtype\n",
            "---  ------            --------------  -----\n",
            " 0   Age               1000 non-null   int64\n",
            " 1   Job               1000 non-null   int64\n",
            " 2   Saving accounts   1000 non-null   int64\n",
            " 3   Checking account  1000 non-null   int64\n",
            " 4   Credit amount     1000 non-null   int64\n",
            " 5   Duration          1000 non-null   int64\n",
            " 6   Sex_female        1000 non-null   uint8\n",
            " 7   Sex_male          1000 non-null   uint8\n",
            " 8   Housing_free      1000 non-null   uint8\n",
            " 9   Housing_own       1000 non-null   uint8\n",
            " 10  Housing_rent      1000 non-null   uint8\n",
            "dtypes: int64(6), uint8(5)\n",
            "memory usage: 59.6 KB\n"
          ]
        }
      ],
      "source": [
        "X.info()"
      ]
    },
    {
      "cell_type": "markdown",
      "metadata": {
        "id": "PXBA6LL-m3hv"
      },
      "source": [
        "__4.__ Разделите эти данные на тестовую и обучающую выборки;"
      ]
    },
    {
      "cell_type": "code",
      "execution_count": null,
      "metadata": {
        "id": "3td09fkHm3hv"
      },
      "outputs": [],
      "source": [
        "X_train, X_test, Y_train, Y_test = train_test_split(X, target, test_size=0.3)"
      ]
    },
    {
      "cell_type": "markdown",
      "metadata": {
        "id": "pTcCm4g-m3hv"
      },
      "source": [
        "__5.__ Обучите модель случайных лесов на обучающей выборке. Проверьте точность предсказаний.\n"
      ]
    },
    {
      "cell_type": "code",
      "execution_count": null,
      "metadata": {
        "id": "z3sQvBfIm3hv"
      },
      "outputs": [],
      "source": [
        "model = RandomForestClassifier()\n",
        "model.fit(X_train, Y_train)\n",
        "Y_pred = model.predict(X_test)"
      ]
    },
    {
      "cell_type": "markdown",
      "metadata": {
        "id": "Xt9UmnOEm3hv"
      },
      "source": [
        "__6.__ Оцените полученную модель с помощью метрик.\n"
      ]
    },
    {
      "cell_type": "code",
      "execution_count": null,
      "metadata": {
        "id": "x55UZa1dm3hv",
        "outputId": "96da54bd-0f14-4825-d9ba-a8f40521f807"
      },
      "outputs": [
        {
          "data": {
            "text/plain": [
              "<AxesSubplot:>"
            ]
          },
          "execution_count": 18,
          "metadata": {},
          "output_type": "execute_result"
        },
        {
          "data": {
            "image/png": "[encoded data removed]",
            "text/plain": [
              "<Figure size 432x288 with 2 Axes>"
            ]
          },
          "metadata": {
            "needs_background": "light"
          },
          "output_type": "display_data"
        }
      ],
      "source": [
        "sns.heatmap([[metrics.accuracy_score(Y_test, Y_pred),\n",
        "              metrics.precision_score(Y_test, Y_pred),\n",
        "              metrics.recall_score(Y_test, Y_pred)]],\n",
        "            linewidths=0.8, xticklabels=['Accuracy', 'Precision', 'Recall'], yticklabels=[None],\n",
        "            annot=True, annot_kws={'fontsize':18}, cmap='Wistia')"
      ]
    },
    {
      "cell_type": "markdown",
      "metadata": {
        "id": "HCV9hhoZm3hv"
      },
      "source": [
        "__7.__ Понизьте размерность данных с помощью метода главных компонент.\n"
      ]
    },
    {
      "cell_type": "markdown",
      "metadata": {
        "id": "uZGynM0Tm3hw"
      },
      "source": [
        "Нормализуем данные и понизим размерность данных до 2-х атрибутов."
      ]
    },
    {
      "cell_type": "code",
      "execution_count": null,
      "metadata": {
        "id": "KpWtjRd0m3hw"
      },
      "outputs": [],
      "source": [
        "y = KMeans().fit_predict(X)"
      ]
    },
    {
      "cell_type": "code",
      "execution_count": null,
      "metadata": {
        "id": "gOdShlbbm3hw"
      },
      "outputs": [],
      "source": [
        "X_new = normalize(X)"
      ]
    },
    {
      "cell_type": "code",
      "execution_count": null,
      "metadata": {
        "id": "jDUge7O5m3hw",
        "outputId": "56209613-f5f7-44e7-d68e-79bf0ee5d450"
      },
      "outputs": [
        {
          "data": {
            "text/plain": [
              "(1000, 2)"
            ]
          },
          "execution_count": 21,
          "metadata": {},
          "output_type": "execute_result"
        }
      ],
      "source": [
        "X_PCA = PCA(n_components=2).fit_transform(X_new, 2)\n",
        "X_PCA.shape"
      ]
    },
    {
      "cell_type": "markdown",
      "metadata": {
        "id": "MT3Bk66Fm3hw"
      },
      "source": [
        "__8.__ Обучите заново модель случайных лесов и оцените ее эффективность с помощью метрик.\n"
      ]
    },
    {
      "cell_type": "code",
      "execution_count": null,
      "metadata": {
        "id": "5BC6UCEFm3hw"
      },
      "outputs": [],
      "source": [
        "X_train, X_test, Y_train, Y_test = train_test_split(X_PCA, y, test_size=0.3, random_state=True)\n",
        "model_low_size = RandomForestClassifier()\n",
        "model_low_size.fit(X_train, Y_train)\n",
        "Y_pred = model_low_size.predict(X_test)"
      ]
    },
    {
      "cell_type": "code",
      "execution_count": null,
      "metadata": {
        "id": "f_k292MPm3hw",
        "outputId": "2e6c9236-885e-41db-985b-b2e7af0ea1ae"
      },
      "outputs": [
        {
          "data": {
            "text/plain": [
              "<AxesSubplot:>"
            ]
          },
          "execution_count": 23,
          "metadata": {},
          "output_type": "execute_result"
        },
        {
          "data": {
            "image/png": "[encoded data removed]",
            "text/plain": [
              "<Figure size 432x288 with 2 Axes>"
            ]
          },
          "metadata": {
            "needs_background": "light"
          },
          "output_type": "display_data"
        }
      ],
      "source": [
        "sns.heatmap([[metrics.accuracy_score(Y_test, Y_pred),\n",
        "              metrics.precision_score(Y_test, Y_pred, average='weighted'),\n",
        "              metrics.recall_score(Y_test, Y_pred, average='weighted')]],\n",
        "            linewidths=0.8, xticklabels=['Accuracy', 'Precision', 'Recall'], yticklabels=[None],\n",
        "            annot=True, annot_kws={'fontsize':18}, cmap='Wistia')"
      ]
    },
    {
      "cell_type": "markdown",
      "metadata": {
        "id": "hp6vCLlWm3hx"
      },
      "source": [
        "__9.__ Постройте график зависимости точности модели от размерности данных.\n"
      ]
    },
    {
      "cell_type": "code",
      "execution_count": null,
      "metadata": {
        "scrolled": false,
        "id": "NOTTVxFmm3h0",
        "outputId": "85d8c2b8-efa9-46ec-8715-e5dc1670a133"
      },
      "outputs": [
        {
          "data": {
            "text/plain": [
              "<matplotlib.collections.PathCollection at 0x297bd588fa0>"
            ]
          },
          "execution_count": 24,
          "metadata": {},
          "output_type": "execute_result"
        },
        {
          "data": {
            "image/png": "[encoded data removed]",
            "text/plain": [
              "<Figure size 576x432 with 1 Axes>"
            ]
          },
          "metadata": {
            "needs_background": "light"
          },
          "output_type": "display_data"
        }
      ],
      "source": [
        "plt.figure(figsize=(8,6))\n",
        "plt.scatter(X_PCA[:,0], X_PCA[:,1], c=target, cmap='Wistia', edgecolors='black', alpha=0.7)"
      ]
    },
    {
      "cell_type": "code",
      "execution_count": null,
      "metadata": {
        "id": "7VhrDszOm3h0"
      },
      "outputs": [],
      "source": [
        "def pca(n_components):\n",
        "    X_PCA = PCA(n_components=n_components).fit_transform(X_new, 2)\n",
        "    X_train, X_test, Y_train, Y_test = train_test_split(X_PCA, y, test_size=0.3, random_state=True)\n",
        "\n",
        "    model.fit(X_train, Y_train)\n",
        "    Y_pred = model.predict(X_test)\n",
        "\n",
        "    results['n = ' + str(n_components)] = [metrics.accuracy_score(Y_test, Y_pred),\n",
        "                                           metrics.precision_score(Y_test, Y_pred, average='weighted'),\n",
        "                                           metrics.recall_score(Y_test, Y_pred, average='weighted')]"
      ]
    },
    {
      "cell_type": "code",
      "execution_count": null,
      "metadata": {
        "id": "Mxta4Zg7m3h0"
      },
      "outputs": [],
      "source": [
        "results = dict()\n",
        "for n_components in range(2, credit_data.shape[1]):\n",
        "    pca(n_components)"
      ]
    },
    {
      "cell_type": "code",
      "execution_count": null,
      "metadata": {
        "id": "FihtO9Gcm3h1"
      },
      "outputs": [],
      "source": [
        "methods_score = pd.DataFrame(results.values(),\n",
        "                             columns = ['accuracy','precision','recall'],\n",
        "                             index = results.keys())"
      ]
    },
    {
      "cell_type": "code",
      "execution_count": null,
      "metadata": {
        "id": "VkOMz7KUm3h1",
        "outputId": "10aa0e6f-8dfe-4ab0-b58b-62bf8addabc7"
      },
      "outputs": [
        {
          "data": {
            "text/plain": [
              "<AxesSubplot:title={'center':'Сравнение результатов для разного количества компонент'}>"
            ]
          },
          "execution_count": 28,
          "metadata": {},
          "output_type": "execute_result"
        },
        {
          "data": {
            "image/png": "[encoded data removed]",
            "text/plain": [
              "<Figure size 576x432 with 2 Axes>"
            ]
          },
          "metadata": {
            "needs_background": "light"
          },
          "output_type": "display_data"
        }
      ],
      "source": [
        "fig = plt.figure(figsize=(8,6))\n",
        "sns.set_style({'font.family': 'Times New Roman'})\n",
        "\n",
        "plt.title('Сравнение результатов для разного количества компонент', fontsize = 23)\n",
        "\n",
        "sns.heatmap(methods_score, linewidths=.5, annot=True, annot_kws={'fontsize':18}, cmap='Wistia')"
      ]
    },
    {
      "cell_type": "markdown",
      "metadata": {
        "id": "BB2nOlKkm3h1"
      },
      "source": [
        "$$\\text{Оптимальное количество компонент: }5 $$"
      ]
    }
  ],
  "metadata": {
    "kernelspec": {
      "display_name": "Python 3 (ipykernel)",
      "language": "python",
      "name": "python3"
    },
    "language_info": {
      "codemirror_mode": {
        "name": "ipython",
        "version": 3
      },
      "file_extension": ".py",
      "mimetype": "text/x-python",
      "name": "python",
      "nbconvert_exporter": "python",
      "pygments_lexer": "ipython3",
      "version": "3.9.7"
    },
    "colab": {
      "provenance": []
    }
  },
  "nbformat": 4,
  "nbformat_minor": 0
}