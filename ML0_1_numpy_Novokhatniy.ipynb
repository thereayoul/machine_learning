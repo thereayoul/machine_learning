{
  "cells": [
    {
      "cell_type": "markdown",
      "metadata": {
        "id": "bjvkW0wsDjwf"
      },
      "source": [
        "<h1 align='center'>Numpy - многомерные массивы данных</h1>"
      ]
    },
    {
      "cell_type": "markdown",
      "metadata": {
        "id": "rJDvvt6hDjwg"
      },
      "source": [
        "[Cсылка](https://disk.yandex.ru/d/IE8K3D5e7q4fEw) на файлы лабораторной"
      ]
    },
    {
      "cell_type": "code",
      "execution_count": 1,
      "metadata": {
        "id": "I-qt7y9NDjwg"
      },
      "outputs": [],
      "source": [
        "# комменарий\n",
        "%matplotlib inline\n",
        "#команда об интерактивном использовании matplotlib\n",
        "import matplotlib.pyplot as plt #импорт функций подмодуля pyplot об интерактивном\n",
        "#использовании matplotlib"
      ]
    },
    {
      "cell_type": "markdown",
      "metadata": {
        "id": "J7pmSkenDjwh"
      },
      "source": [
        "## Введение"
      ]
    },
    {
      "cell_type": "markdown",
      "metadata": {
        "id": "wk_0e6VYDjwh"
      },
      "source": [
        "Пакет `numpy` (модуль) используется почти во всех численных вычислениях с использованием Python. Это пакет, который обеспечивает высокопроизводительные векторные, матричные и многомерные структуры данных для Python. Он реализован на C и Fortran, поэтому, когда вычисления векторизуются (формулируются векторами и матрицами), производительность очень хорошая.\n",
        "Чтобы использовать `numpy`, вам нужно импортировать модуль, используя, например,:"
      ]
    },
    {
      "cell_type": "code",
      "execution_count": 2,
      "metadata": {
        "id": "I5yDto-6Djwh"
      },
      "outputs": [],
      "source": [
        "from numpy import * #при этом отсутсвует необходимость использования numpy.array\n",
        "#import nympy as np - позволяет сократить имя объекта используя np.array"
      ]
    },
    {
      "cell_type": "markdown",
      "metadata": {
        "id": "tsCC6JApDjwh"
      },
      "source": [
        "В пакете `numpy` терминологией, используемой для векторов, матриц и многомерных наборов данных, является *array*.\n"
      ]
    },
    {
      "cell_type": "markdown",
      "metadata": {
        "id": "86fZkZa-Djwi"
      },
      "source": [
        "## Создание `numpy` *arrays*"
      ]
    },
    {
      "cell_type": "markdown",
      "metadata": {
        "id": "DXwUH5TtDjwi"
      },
      "source": [
        "Существует несколько способов инициализации новых массивов numpy, например из\n",
        "\n",
        "* список Python или кортежи\n",
        "* использование функций, предназначенных для генерации массивов numpy, таких как `arange`, `linspace` и т. д.\n",
        "* чтение данных из файлов"
      ]
    },
    {
      "cell_type": "markdown",
      "metadata": {
        "id": "avfnj5RVDjwi"
      },
      "source": [
        "### Создание из списка (*list*)"
      ]
    },
    {
      "cell_type": "markdown",
      "metadata": {
        "id": "ha8moyj-Djwi"
      },
      "source": [
        "Например, для создания новых векторных и матричных массивов из списков Python мы можем использовать `numpy.array`."
      ]
    },
    {
      "cell_type": "code",
      "execution_count": null,
      "metadata": {
        "id": "06ZQRybYDjwi",
        "outputId": "8f141577-ea6a-411d-a645-ad80e9ce0a63",
        "colab": {
          "base_uri": "https://localhost:8080/"
        }
      },
      "outputs": [
        {
          "output_type": "execute_result",
          "data": {
            "text/plain": [
              "array([1, 2, 3, 4])"
            ]
          },
          "metadata": {},
          "execution_count": 3
        }
      ],
      "source": [
        "# вектор: аргумент функции array список (list) Python\n",
        "v = array([1,2,3,4])\n",
        "\n",
        "v"
      ]
    },
    {
      "cell_type": "code",
      "execution_count": null,
      "metadata": {
        "id": "82PreAd1Djwj",
        "outputId": "e206d309-1c44-46a8-bc06-a107fbb69d56",
        "colab": {
          "base_uri": "https://localhost:8080/"
        }
      },
      "outputs": [
        {
          "output_type": "execute_result",
          "data": {
            "text/plain": [
              "array([[1, 2],\n",
              "       [3, 4]])"
            ]
          },
          "metadata": {},
          "execution_count": 4
        }
      ],
      "source": [
        "# матрица: аргумент функции array вложенный список (nestled list) Python\n",
        "M = array([[1, 2], [3, 4]])\n",
        "M"
      ]
    },
    {
      "cell_type": "markdown",
      "metadata": {
        "id": "ZEepBwJaDjwj"
      },
      "source": [
        " `v` и `M` -- объекты общего типа `ndarray`, который создает модуль `numpy`."
      ]
    },
    {
      "cell_type": "code",
      "execution_count": null,
      "metadata": {
        "id": "vJeK7dzODjwj",
        "outputId": "6d04ef26-5b65-47fb-8a1e-246e0f292578",
        "colab": {
          "base_uri": "https://localhost:8080/"
        }
      },
      "outputs": [
        {
          "output_type": "execute_result",
          "data": {
            "text/plain": [
              "(numpy.ndarray, numpy.ndarray)"
            ]
          },
          "metadata": {},
          "execution_count": 5
        }
      ],
      "source": [
        "type(v), type(M)"
      ]
    },
    {
      "cell_type": "markdown",
      "metadata": {
        "id": "9IzFDJEHDjwk"
      },
      "source": [
        "Разница между `v` и `M` заключается только в их форме. Мы можем получить информацию о форме массива с помощью `ndarray.shape` свойства."
      ]
    },
    {
      "cell_type": "code",
      "execution_count": null,
      "metadata": {
        "id": "UlFxUFUJDjwk",
        "outputId": "7e51926f-6132-45d6-adcf-5589d570649b",
        "colab": {
          "base_uri": "https://localhost:8080/"
        }
      },
      "outputs": [
        {
          "output_type": "execute_result",
          "data": {
            "text/plain": [
              "(4,)"
            ]
          },
          "metadata": {},
          "execution_count": 6
        }
      ],
      "source": [
        "v.shape"
      ]
    },
    {
      "cell_type": "code",
      "execution_count": null,
      "metadata": {
        "id": "Nofq0TmbDjwk",
        "outputId": "67ca8ecb-d55c-4dcb-c66c-08f568879fab",
        "colab": {
          "base_uri": "https://localhost:8080/"
        }
      },
      "outputs": [
        {
          "output_type": "execute_result",
          "data": {
            "text/plain": [
              "(2, 2)"
            ]
          },
          "metadata": {},
          "execution_count": 7
        }
      ],
      "source": [
        "M.shape"
      ]
    },
    {
      "cell_type": "markdown",
      "metadata": {
        "id": "r_BzW-EGDjwk"
      },
      "source": [
        "Количество элементов в массиве доступно через свойство `ndarray.size`:"
      ]
    },
    {
      "cell_type": "code",
      "execution_count": null,
      "metadata": {
        "id": "63J8tDRpDjwk",
        "outputId": "b6c6665d-6159-4638-e435-10a0d0ad7edb",
        "colab": {
          "base_uri": "https://localhost:8080/"
        }
      },
      "outputs": [
        {
          "output_type": "execute_result",
          "data": {
            "text/plain": [
              "4"
            ]
          },
          "metadata": {},
          "execution_count": 8
        }
      ],
      "source": [
        "M.size"
      ]
    },
    {
      "cell_type": "markdown",
      "metadata": {
        "id": "MZ-6vMJ-Djwl"
      },
      "source": [
        "Так же можно использовать функции `numpy.shape` и `numpy.size`. Использование дублирующих методы функций характерно для Python как языка поддерживающего как объектно-ориентированную так и функциональную парадигмы программирования."
      ]
    },
    {
      "cell_type": "code",
      "execution_count": null,
      "metadata": {
        "id": "yqwDP11NDjwl",
        "outputId": "2d4d01ab-c37d-4409-fb71-03cc7c950ef2",
        "colab": {
          "base_uri": "https://localhost:8080/"
        }
      },
      "outputs": [
        {
          "output_type": "execute_result",
          "data": {
            "text/plain": [
              "(2, 2)"
            ]
          },
          "metadata": {},
          "execution_count": 9
        }
      ],
      "source": [
        "shape(M)"
      ]
    },
    {
      "cell_type": "code",
      "execution_count": null,
      "metadata": {
        "id": "4V1E5g-sDjwl",
        "outputId": "d4d7b59a-7fcb-4787-aa35-9faac1369577",
        "colab": {
          "base_uri": "https://localhost:8080/"
        }
      },
      "outputs": [
        {
          "output_type": "execute_result",
          "data": {
            "text/plain": [
              "4"
            ]
          },
          "metadata": {},
          "execution_count": 10
        }
      ],
      "source": [
        "size(M)"
      ]
    },
    {
      "cell_type": "markdown",
      "metadata": {
        "id": "P1Al_4KqDjwl"
      },
      "source": [
        "До сих пор `numpy.ndarray` ужасно похож на список Python (или вложенный список). Почему бы просто не использовать списки Python для вычислений вместо создания нового типа массива?\n",
        "\n",
        "Есть несколько причин:\n",
        "\n",
        "* Списки Python очень общие. Они могут содержать любой вид объекта. Они динамически типизируются. Они не поддерживают математические функции, такие как матричное и точечное умножение и т. д. Реализация таких функций для списков Python была бы не очень эффективной из-за динамической типизации.\n",
        "* Массивы Numpy **статически типизированы** и **однородны**. Тип элементов определяется при создании массива.\n",
        "* Массивы Numpy эффективны для работы с памятью.\n",
        "* Из-за статической типизации быстро реализуются математические функции, такие как умножение и сложение массивов `numpy`, функции могут быть реализованы на компилируемом языке (используется C и Fortran).\n",
        "\n",
        "Используя свойство `dtype` (тип данных) `ndarray`, мы можем увидеть, какой тип имеют данные массива:"
      ]
    },
    {
      "cell_type": "code",
      "execution_count": null,
      "metadata": {
        "id": "r4-76LAzDjwm",
        "outputId": "07ad54cb-5767-4037-ca11-c9ae390cb284",
        "colab": {
          "base_uri": "https://localhost:8080/"
        }
      },
      "outputs": [
        {
          "output_type": "execute_result",
          "data": {
            "text/plain": [
              "dtype('int64')"
            ]
          },
          "metadata": {},
          "execution_count": 11
        }
      ],
      "source": [
        "M.dtype"
      ]
    },
    {
      "cell_type": "markdown",
      "metadata": {
        "id": "fg_2a9NCDjwm"
      },
      "source": [
        "Обратите внимание, что при не совпадении типов при присвоении будет выдана ошибка, что есть следствие статической типизации `ndarray`:"
      ]
    },
    {
      "cell_type": "code",
      "execution_count": null,
      "metadata": {
        "id": "A9_LQKv_Djwm",
        "outputId": "c985749b-5453-40c8-9be0-a289db5b9ab8"
      },
      "outputs": [
        {
          "ename": "ValueError",
          "evalue": "invalid literal for int() with base 10: 'hello'",
          "output_type": "error",
          "traceback": [
            "\u001b[1;31m---------------------------------------------------------------------------\u001b[0m",
            "\u001b[1;31mValueError\u001b[0m                                Traceback (most recent call last)",
            "\u001b[1;32m<ipython-input-80-e1f336250f69>\u001b[0m in \u001b[0;36m<module>\u001b[1;34m\u001b[0m\n\u001b[1;32m----> 1\u001b[1;33m \u001b[0mM\u001b[0m\u001b[1;33m[\u001b[0m\u001b[1;36m0\u001b[0m\u001b[1;33m,\u001b[0m\u001b[1;36m0\u001b[0m\u001b[1;33m]\u001b[0m \u001b[1;33m=\u001b[0m \u001b[1;34m\"hello\"\u001b[0m\u001b[1;33m\u001b[0m\u001b[1;33m\u001b[0m\u001b[0m\n\u001b[0m",
            "\u001b[1;31mValueError\u001b[0m: invalid literal for int() with base 10: 'hello'"
          ]
        }
      ],
      "source": [
        "M[0,0] = \"hello\""
      ]
    },
    {
      "cell_type": "markdown",
      "metadata": {
        "id": "lOPzydc6Djwm"
      },
      "source": [
        "Если мы хотим, мы можем явно определить тип данных массива при его создании, используя аргумент ключевого слова `dtype`:"
      ]
    },
    {
      "cell_type": "code",
      "execution_count": null,
      "metadata": {
        "id": "GOpun29IDjwm",
        "outputId": "93ffb564-76b5-4f79-c474-4f03f5d5623a",
        "colab": {
          "base_uri": "https://localhost:8080/"
        }
      },
      "outputs": [
        {
          "output_type": "execute_result",
          "data": {
            "text/plain": [
              "array([[1.+0.j, 2.+0.j],\n",
              "       [3.+0.j, 4.+0.j]])"
            ]
          },
          "metadata": {},
          "execution_count": 12
        }
      ],
      "source": [
        "M = array([[1, 2], [3, 4]], dtype=complex)\n",
        "\n",
        "M"
      ]
    },
    {
      "cell_type": "markdown",
      "metadata": {
        "id": "ZlLYdfVZDjwn"
      },
      "source": [
        "Общие типы данных, которые можно использовать с `dtype`: `int`, `float`, `complex`, `bool`, `object` и т. д.\n",
        "\n",
        "Мы также можем явно определить битовый размер типов данных, например: `int64`, `int16`, `float128`, `complex128`."
      ]
    },
    {
      "cell_type": "markdown",
      "metadata": {
        "id": "B-XkjbiTDjwn"
      },
      "source": [
        "### Задание 1\n",
        "Создайте матрицу таблицы умножения с использованием списков"
      ]
    },
    {
      "cell_type": "code",
      "source": [
        "m1 = array([[1,2,3,4,5,6,7,8,9,10]])\n",
        "m2 = array([[1],[2],[3],[4],[5],[6],[7],[8],[9],[10]])\n",
        "total = m2.dot(m1)\n",
        "print(total)"
      ],
      "metadata": {
        "colab": {
          "base_uri": "https://localhost:8080/"
        },
        "id": "SMHXYZpiHmIU",
        "outputId": "db53f796-2786-41c4-e54c-c61593310189"
      },
      "execution_count": null,
      "outputs": [
        {
          "output_type": "stream",
          "name": "stdout",
          "text": [
            "[[  1   2   3   4   5   6   7   8   9  10]\n",
            " [  2   4   6   8  10  12  14  16  18  20]\n",
            " [  3   6   9  12  15  18  21  24  27  30]\n",
            " [  4   8  12  16  20  24  28  32  36  40]\n",
            " [  5  10  15  20  25  30  35  40  45  50]\n",
            " [  6  12  18  24  30  36  42  48  54  60]\n",
            " [  7  14  21  28  35  42  49  56  63  70]\n",
            " [  8  16  24  32  40  48  56  64  72  80]\n",
            " [  9  18  27  36  45  54  63  72  81  90]\n",
            " [ 10  20  30  40  50  60  70  80  90 100]]\n"
          ]
        }
      ]
    },
    {
      "cell_type": "markdown",
      "metadata": {
        "id": "af0rUK6uDjwn"
      },
      "source": [
        "### Функции генерирующие массивы."
      ]
    },
    {
      "cell_type": "markdown",
      "metadata": {
        "id": "KEKxKmogDjwn"
      },
      "source": [
        "Для больших массивов нецелесообразно инициализировать данные вручную, используя явные списки Python. Вместо этого мы можем использовать одну из многих функций в `numpy`, которые генерируют массивы различных форм. Некоторые из наиболее распространенных являются:"
      ]
    },
    {
      "cell_type": "markdown",
      "metadata": {
        "id": "QhzLYGJlDjwn"
      },
      "source": [
        "#### Функция arange"
      ]
    },
    {
      "cell_type": "code",
      "execution_count": null,
      "metadata": {
        "id": "4TPd3ZzNDjwn",
        "outputId": "28a24b03-c7e3-41c7-c21f-23751c337c48"
      },
      "outputs": [
        {
          "data": {
            "text/plain": [
              "array([10,  9,  8,  7,  6])"
            ]
          },
          "execution_count": 82,
          "metadata": {},
          "output_type": "execute_result"
        }
      ],
      "source": [
        "# массив целых от 0 до 10\n",
        "\n",
        "x = arange(10, 5, -1) # аргументы: начало, конец, шаг\n",
        "x"
      ]
    },
    {
      "cell_type": "code",
      "execution_count": null,
      "metadata": {
        "id": "abSUWBjEDjwn",
        "outputId": "7edded22-a618-4509-f95f-cacdce8a4235"
      },
      "outputs": [
        {
          "data": {
            "text/plain": [
              "array([-1.00000000e+00, -9.00000000e-01, -8.00000000e-01, -7.00000000e-01,\n",
              "       -6.00000000e-01, -5.00000000e-01, -4.00000000e-01, -3.00000000e-01,\n",
              "       -2.00000000e-01, -1.00000000e-01, -2.22044605e-16,  1.00000000e-01,\n",
              "        2.00000000e-01,  3.00000000e-01,  4.00000000e-01,  5.00000000e-01,\n",
              "        6.00000000e-01,  7.00000000e-01,  8.00000000e-01,  9.00000000e-01])"
            ]
          },
          "execution_count": 83,
          "metadata": {},
          "output_type": "execute_result"
        }
      ],
      "source": [
        "x = arange(-1, 1, 0.1)\n",
        "\n",
        "x"
      ]
    },
    {
      "cell_type": "markdown",
      "metadata": {
        "id": "-LjMEHsjDjwo"
      },
      "source": [
        "#### Функции linspace и logspace"
      ]
    },
    {
      "cell_type": "code",
      "execution_count": null,
      "metadata": {
        "id": "GmqdaD3uDjwo",
        "outputId": "39e860dd-34f6-4e84-a8ae-bd3daff4d125"
      },
      "outputs": [
        {
          "data": {
            "text/plain": [
              "array([ 5. ,  5.5,  6. ,  6.5,  7. ,  7.5,  8. ,  8.5,  9. ,  9.5, 10. ])"
            ]
          },
          "execution_count": 84,
          "metadata": {},
          "output_type": "execute_result"
        }
      ],
      "source": [
        "# использование linspace, оба конечных значения включены\n",
        "linspace(5, 10, 11)"
      ]
    },
    {
      "cell_type": "code",
      "execution_count": null,
      "metadata": {
        "id": "20rqrAG2Djwo",
        "outputId": "65e6200a-4f43-4f40-98ff-fce30931c4a0"
      },
      "outputs": [
        {
          "data": {
            "text/plain": [
              "array([1.e+00, 1.e+01, 1.e+02, 1.e+03, 1.e+04, 1.e+05, 1.e+06, 1.e+07,\n",
              "       1.e+08, 1.e+09, 1.e+10])"
            ]
          },
          "execution_count": 85,
          "metadata": {},
          "output_type": "execute_result"
        }
      ],
      "source": [
        "logspace(0, 10, 11, base=10) # создание равномерной последовальности в логарифмической шкале"
      ]
    },
    {
      "cell_type": "markdown",
      "metadata": {
        "id": "0IFcMJKCDjwo"
      },
      "source": [
        "#### Функция mgrid"
      ]
    },
    {
      "cell_type": "code",
      "execution_count": null,
      "metadata": {
        "id": "A6rE27z-Djwo"
      },
      "outputs": [],
      "source": [
        "x, y = mgrid[0:5, 0:5] #создает сетку равномерно расположенных значений подобно meshgrid в MATLAB"
      ]
    },
    {
      "cell_type": "code",
      "execution_count": null,
      "metadata": {
        "id": "PtxXZ9QUDjwo",
        "outputId": "d5185510-dc94-4d5b-c003-658dcc3fedab"
      },
      "outputs": [
        {
          "data": {
            "text/plain": [
              "array([[0, 0, 0, 0, 0],\n",
              "       [1, 1, 1, 1, 1],\n",
              "       [2, 2, 2, 2, 2],\n",
              "       [3, 3, 3, 3, 3],\n",
              "       [4, 4, 4, 4, 4]])"
            ]
          },
          "execution_count": 87,
          "metadata": {},
          "output_type": "execute_result"
        }
      ],
      "source": [
        "x"
      ]
    },
    {
      "cell_type": "code",
      "execution_count": null,
      "metadata": {
        "id": "-EivC9QZDjwp",
        "outputId": "4cbdea29-e7c9-4056-ed25-45d96d178cd7"
      },
      "outputs": [
        {
          "data": {
            "text/plain": [
              "array([[0, 1, 2, 3, 4],\n",
              "       [0, 1, 2, 3, 4],\n",
              "       [0, 1, 2, 3, 4],\n",
              "       [0, 1, 2, 3, 4],\n",
              "       [0, 1, 2, 3, 4]])"
            ]
          },
          "execution_count": 88,
          "metadata": {},
          "output_type": "execute_result"
        }
      ],
      "source": [
        "y"
      ]
    },
    {
      "cell_type": "markdown",
      "metadata": {
        "id": "1XjC2ra8Djwp"
      },
      "source": [
        "#### Создание случайных данных средствами random"
      ]
    },
    {
      "cell_type": "code",
      "execution_count": null,
      "metadata": {
        "id": "CaH3XlRvDjwp"
      },
      "outputs": [],
      "source": [
        "from numpy import random"
      ]
    },
    {
      "cell_type": "code",
      "execution_count": null,
      "metadata": {
        "id": "MhRhk_tKDjwp",
        "outputId": "8f6ec5b8-122e-4da2-99ea-577bd4450a38",
        "colab": {
          "base_uri": "https://localhost:8080/"
        }
      },
      "outputs": [
        {
          "output_type": "execute_result",
          "data": {
            "text/plain": [
              "array([[0.60744288, 0.83454418, 0.48263872, 0.69433753, 0.22789932],\n",
              "       [0.12733089, 0.98091686, 0.44026215, 0.92792165, 0.20784376],\n",
              "       [0.96592598, 0.83247064, 0.38399481, 0.00262349, 0.61658859],\n",
              "       [0.62172182, 0.6230292 , 0.91812598, 0.75457861, 0.06832364],\n",
              "       [0.71987137, 0.92838622, 0.03838671, 0.22356251, 0.24492406]])"
            ]
          },
          "metadata": {},
          "execution_count": 20
        }
      ],
      "source": [
        "# случайные данные с равномерным распределением в отрезке [0,1]\n",
        "random.rand(5,5)"
      ]
    },
    {
      "cell_type": "code",
      "execution_count": null,
      "metadata": {
        "id": "pVIfgUEBDjwp",
        "outputId": "f33f1592-8eeb-4097-ed15-b14d007a3512",
        "colab": {
          "base_uri": "https://localhost:8080/"
        }
      },
      "outputs": [
        {
          "output_type": "execute_result",
          "data": {
            "text/plain": [
              "array([[ 1.21932191,  0.47424146,  0.14986913, -0.33845258, -0.77162408],\n",
              "       [ 0.22293027,  1.83589777,  1.33387663,  0.82740466,  0.53659455],\n",
              "       [-1.39635083,  0.25859766,  0.77917599, -1.08516803, -1.11416401],\n",
              "       [ 1.26128994,  1.46320353,  0.30022077,  1.12138723, -0.88566033],\n",
              "       [ 0.04002051,  0.09466209,  0.32581884,  1.19375377,  1.41555993]])"
            ]
          },
          "metadata": {},
          "execution_count": 21
        }
      ],
      "source": [
        "# случайные данные с нормальным распределением\n",
        "random.randn(5,5)"
      ]
    },
    {
      "cell_type": "markdown",
      "metadata": {
        "id": "0RcelqBtDjwp"
      },
      "source": [
        "#### Создание квадратных матриц функцией diag"
      ]
    },
    {
      "cell_type": "code",
      "execution_count": null,
      "metadata": {
        "id": "PDfkrn1bDjwp",
        "outputId": "530179a8-e495-47eb-ad81-69259d1bdcb2",
        "colab": {
          "base_uri": "https://localhost:8080/"
        }
      },
      "outputs": [
        {
          "output_type": "execute_result",
          "data": {
            "text/plain": [
              "array([[1, 0, 0],\n",
              "       [0, 2, 0],\n",
              "       [0, 0, 3]])"
            ]
          },
          "metadata": {},
          "execution_count": 22
        }
      ],
      "source": [
        "# матрица с диагональю\n",
        "diag([1,2,3])"
      ]
    },
    {
      "cell_type": "code",
      "execution_count": null,
      "metadata": {
        "id": "xq3hISPADjwp",
        "outputId": "e666a760-9731-4fa2-edc5-31ba7b619660",
        "colab": {
          "base_uri": "https://localhost:8080/"
        }
      },
      "outputs": [
        {
          "output_type": "execute_result",
          "data": {
            "text/plain": [
              "array([[0, 1, 0, 0],\n",
              "       [0, 0, 2, 0],\n",
              "       [0, 0, 0, 3],\n",
              "       [0, 0, 0, 0]])"
            ]
          },
          "metadata": {},
          "execution_count": 23
        }
      ],
      "source": [
        "# матрица со сдвинутой диагональю\n",
        "diag([1,2,3], k=1)"
      ]
    },
    {
      "cell_type": "markdown",
      "metadata": {
        "id": "vQkMpsNLDjwq"
      },
      "source": [
        "#### Матрицы или спецмассивы zeros и ones"
      ]
    },
    {
      "cell_type": "code",
      "execution_count": null,
      "metadata": {
        "id": "4iG6uA_iDjwq",
        "outputId": "006988f7-5969-4b8b-8f87-5c08f025bc69"
      },
      "outputs": [
        {
          "data": {
            "text/plain": [
              "array([[0., 0., 0.],\n",
              "       [0., 0., 0.],\n",
              "       [0., 0., 0.]])"
            ]
          },
          "execution_count": 94,
          "metadata": {},
          "output_type": "execute_result"
        }
      ],
      "source": [
        "zeros((3,3))"
      ]
    },
    {
      "cell_type": "code",
      "execution_count": null,
      "metadata": {
        "id": "CZ3swhRIDjwq",
        "outputId": "4a227208-1472-40fb-a154-fd9be239924e"
      },
      "outputs": [
        {
          "data": {
            "text/plain": [
              "array([[1., 1., 1.],\n",
              "       [1., 1., 1.],\n",
              "       [1., 1., 1.]])"
            ]
          },
          "execution_count": 245,
          "metadata": {},
          "output_type": "execute_result"
        }
      ],
      "source": [
        "ones((3,3))"
      ]
    },
    {
      "cell_type": "markdown",
      "metadata": {
        "id": "cDsOKmr_Djwq"
      },
      "source": [
        "### Задание 2\n",
        "Создайте функцию, которая принимает как аргументы целое число N и первый элемент (вещественное число el1), и разность (вещественное число d) и создает матрицу по диагонали, которой распологаются первые N членов арифметической прогрессии."
      ]
    },
    {
      "cell_type": "code",
      "source": [
        "def arxd(N,el1,d):\n",
        "  diagonal2 = [el1]\n",
        "  for i in range(N-1):\n",
        "    el1+=d\n",
        "    diagonal2.append(el1)\n",
        "  return diag(diagonal2)\n",
        "N= int(input())\n",
        "el1 = float(input())\n",
        "d = float(input())\n",
        "\n",
        "arxd(N,el1,d)"
      ],
      "metadata": {
        "colab": {
          "base_uri": "https://localhost:8080/"
        },
        "id": "CdSXiBY2KX5C",
        "outputId": "b0a2d748-abbf-4528-9128-5969e91cdb0e"
      },
      "execution_count": null,
      "outputs": [
        {
          "name": "stdout",
          "output_type": "stream",
          "text": [
            "5\n",
            "1\n",
            "6\n"
          ]
        },
        {
          "output_type": "execute_result",
          "data": {
            "text/plain": [
              "array([[ 1.,  0.,  0.,  0.,  0.],\n",
              "       [ 0.,  7.,  0.,  0.,  0.],\n",
              "       [ 0.,  0., 13.,  0.,  0.],\n",
              "       [ 0.,  0.,  0., 19.,  0.],\n",
              "       [ 0.,  0.,  0.,  0., 25.]])"
            ]
          },
          "metadata": {},
          "execution_count": 30
        }
      ]
    },
    {
      "cell_type": "markdown",
      "metadata": {
        "id": "A0_mlL_3Djwq"
      },
      "source": [
        "## Запись и чтение в файл"
      ]
    },
    {
      "cell_type": "markdown",
      "metadata": {
        "id": "9VHHeNT9Djwq"
      },
      "source": [
        "### Файлы данных Comma-separated values (CSV)"
      ]
    },
    {
      "cell_type": "markdown",
      "metadata": {
        "id": "3NakRNb-Djwq"
      },
      "source": [
        "Очень распространенным форматом файлов данных являются значения, разделенные запятыми (CSV), или связанные с ними форматы, такие как TSV (значения, разделенные табуляциями). Для чтения данных из таких файлов в массивы Numpy мы можем использовать функцию `numpy.genfromtxt`. Например:"
      ]
    },
    {
      "cell_type": "code",
      "execution_count": null,
      "metadata": {
        "id": "KiWwEK08Djwq",
        "outputId": "e23feb9a-273a-4800-bdfd-96a3a466ebdf",
        "colab": {
          "base_uri": "https://localhost:8080/",
          "height": 339
        }
      },
      "outputs": [
        {
          "output_type": "error",
          "ename": "ValueError",
          "evalue": "ignored",
          "traceback": [
            "\u001b[0;31m---------------------------------------------------------------------------\u001b[0m",
            "\u001b[0;31mValueError\u001b[0m                                Traceback (most recent call last)",
            "\u001b[0;32m<ipython-input-46-033cbd2c3890>\u001b[0m in \u001b[0;36m<module>\u001b[0;34m\u001b[0m\n\u001b[0;32m----> 1\u001b[0;31m \u001b[0mdata\u001b[0m \u001b[0;34m=\u001b[0m \u001b[0mgenfromtxt\u001b[0m\u001b[0;34m(\u001b[0m\u001b[0;34m'stockholm_td_adj.dat.txt'\u001b[0m\u001b[0;34m)\u001b[0m\u001b[0;34m\u001b[0m\u001b[0;34m\u001b[0m\u001b[0m\n\u001b[0m",
            "\u001b[0;32m/usr/local/lib/python3.7/dist-packages/numpy/lib/npyio.py\u001b[0m in \u001b[0;36mgenfromtxt\u001b[0;34m(fname, dtype, comments, delimiter, skip_header, skip_footer, converters, missing_values, filling_values, usecols, names, excludelist, deletechars, replace_space, autostrip, case_sensitive, defaultfmt, unpack, usemask, loose, invalid_raise, max_rows, encoding, like)\u001b[0m\n\u001b[1;32m   2122\u001b[0m             \u001b[0;31m# Raise an exception ?\u001b[0m\u001b[0;34m\u001b[0m\u001b[0;34m\u001b[0m\u001b[0;34m\u001b[0m\u001b[0m\n\u001b[1;32m   2123\u001b[0m             \u001b[0;32mif\u001b[0m \u001b[0minvalid_raise\u001b[0m\u001b[0;34m:\u001b[0m\u001b[0;34m\u001b[0m\u001b[0;34m\u001b[0m\u001b[0m\n\u001b[0;32m-> 2124\u001b[0;31m                 \u001b[0;32mraise\u001b[0m \u001b[0mValueError\u001b[0m\u001b[0;34m(\u001b[0m\u001b[0merrmsg\u001b[0m\u001b[0;34m)\u001b[0m\u001b[0;34m\u001b[0m\u001b[0;34m\u001b[0m\u001b[0m\n\u001b[0m\u001b[1;32m   2125\u001b[0m             \u001b[0;31m# Issue a warning ?\u001b[0m\u001b[0;34m\u001b[0m\u001b[0;34m\u001b[0m\u001b[0;34m\u001b[0m\u001b[0m\n\u001b[1;32m   2126\u001b[0m             \u001b[0;32melse\u001b[0m\u001b[0;34m:\u001b[0m\u001b[0;34m\u001b[0m\u001b[0;34m\u001b[0m\u001b[0m\n",
            "\u001b[0;31mValueError\u001b[0m: Some errors were detected !\n    Line #105771 (got 9 columns instead of 7)"
          ]
        }
      ],
      "source": [
        "data = genfromtxt('stockholm_td_adj.dat.txt')"
      ]
    },
    {
      "cell_type": "code",
      "execution_count": null,
      "metadata": {
        "id": "t93E9xJtDjwr",
        "outputId": "104b7cb7-fa68-417b-b3a1-63f66554566f",
        "colab": {
          "base_uri": "https://localhost:8080/"
        }
      },
      "outputs": [
        {
          "output_type": "execute_result",
          "data": {
            "text/plain": [
              "(77431, 7)"
            ]
          },
          "metadata": {},
          "execution_count": 35
        }
      ],
      "source": [
        "data.shape"
      ]
    },
    {
      "cell_type": "code",
      "execution_count": null,
      "metadata": {
        "id": "dA5wBI7LDjwr",
        "outputId": "b0107364-874a-4900-9cab-6bb632dcb044",
        "colab": {
          "base_uri": "https://localhost:8080/",
          "height": 295
        }
      },
      "outputs": [
        {
          "output_type": "display_data",
          "data": {
            "text/plain": [
              "<Figure size 1008x288 with 1 Axes>"
            ],
            "image/png": "[encoded data removed]"
          },
          "metadata": {
            "needs_background": "light"
          }
        }
      ],
      "source": [
        "fig, ax = plt.subplots(figsize=(14,4))\n",
        "x=linspace(1,32,31)\n",
        "y=array([data[i,5] for i in range(data.shape[0]) if (data[i,0]==1950)*(data[i,1]==5)])\n",
        "ax.plot(x,y)\n",
        "ax.axis('tight')\n",
        "ax.set_title('tempeatures in Stockholm')\n",
        "ax.set_xlabel('year')\n",
        "ax.set_ylabel('temperature (C)');\n"
      ]
    },
    {
      "cell_type": "markdown",
      "metadata": {
        "id": "UCnsdveJDjwr"
      },
      "source": [
        "Используя `numpy.savetxt` можно записать Numpy массив в файл CSV формате:"
      ]
    },
    {
      "cell_type": "code",
      "execution_count": null,
      "metadata": {
        "id": "_fWWHMGzDjwr",
        "outputId": "4740fabe-a5fe-48a6-9f03-7b252920c6ce",
        "colab": {
          "base_uri": "https://localhost:8080/"
        }
      },
      "outputs": [
        {
          "output_type": "execute_result",
          "data": {
            "text/plain": [
              "array([[0.625114  , 0.36701357, 0.12872507],\n",
              "       [0.73642645, 0.53271157, 0.91969298],\n",
              "       [0.75754826, 0.83515149, 0.00487655]])"
            ]
          },
          "metadata": {},
          "execution_count": 37
        }
      ],
      "source": [
        "M = random.rand(3,3)\n",
        "\n",
        "M"
      ]
    },
    {
      "cell_type": "code",
      "execution_count": null,
      "metadata": {
        "id": "Rr35A7MXDjwr"
      },
      "outputs": [],
      "source": [
        "savetxt(\"random-matrix.csv\", M)"
      ]
    },
    {
      "cell_type": "code",
      "execution_count": null,
      "metadata": {
        "id": "tKG_UWrADjwr",
        "outputId": "8439a71b-8cf7-45fd-fb26-399e8be2da38",
        "colab": {
          "base_uri": "https://localhost:8080/"
        }
      },
      "outputs": [
        {
          "output_type": "execute_result",
          "data": {
            "text/plain": [
              "array([[0.62511, 0.36701, 0.12873],\n",
              "       [0.73643, 0.53271, 0.91969],\n",
              "       [0.75755, 0.83515, 0.00488]])"
            ]
          },
          "metadata": {},
          "execution_count": 39
        }
      ],
      "source": [
        "savetxt(\"random-matrix.csv\", M, fmt='%.5f') # fmt определяет формат данных\n",
        "rand_data = genfromtxt('random-matrix.csv')\n",
        "rand_data"
      ]
    },
    {
      "cell_type": "markdown",
      "metadata": {
        "id": "4YLUh9KyDjwr"
      },
      "source": [
        "### Формат файлов Numpy"
      ]
    },
    {
      "cell_type": "markdown",
      "metadata": {
        "id": "NPS-9xpqDjws"
      },
      "source": [
        "Полезно при хранении и считывании данных массива numpy. Используйте функции `numpy.save` и `numpy.load`:"
      ]
    },
    {
      "cell_type": "code",
      "execution_count": null,
      "metadata": {
        "id": "dD_6zl77Djws"
      },
      "outputs": [],
      "source": [
        "save(\"random-matrix.npy\", M)"
      ]
    },
    {
      "cell_type": "code",
      "execution_count": null,
      "metadata": {
        "id": "XDDT9zXnDjws",
        "outputId": "0eb451f2-e43a-4409-e2b7-55831b61827a",
        "colab": {
          "base_uri": "https://localhost:8080/"
        }
      },
      "outputs": [
        {
          "output_type": "execute_result",
          "data": {
            "text/plain": [
              "array([[0.625114  , 0.36701357, 0.12872507],\n",
              "       [0.73642645, 0.53271157, 0.91969298],\n",
              "       [0.75754826, 0.83515149, 0.00487655]])"
            ]
          },
          "metadata": {},
          "execution_count": 41
        }
      ],
      "source": [
        "load(\"random-matrix.npy\")"
      ]
    },
    {
      "cell_type": "markdown",
      "metadata": {
        "id": "MtLZUE4PDjws"
      },
      "source": [
        "### Задание 3\n",
        "Из данных по температуре в Стокгольме выбрать данные относящиеся к октябрю 1970 года и записать их в бинарный и текстовый файлы oct70.bin и oct70.txt. Затем прочитайте их импортировав в тетрадь ноутбука и сравните."
      ]
    },
    {
      "cell_type": "code",
      "source": [
        "data"
      ],
      "metadata": {
        "colab": {
          "base_uri": "https://localhost:8080/"
        },
        "id": "9AxVgapVQ-ab",
        "outputId": "e55cfcba-1b50-4a01-964b-c3cb774f355c"
      },
      "execution_count": null,
      "outputs": [
        {
          "output_type": "execute_result",
          "data": {
            "text/plain": [
              "array([[ 1.800e+03,  1.000e+00,  1.000e+00, ..., -6.100e+00, -6.100e+00,\n",
              "         1.000e+00],\n",
              "       [ 1.800e+03,  1.000e+00,  2.000e+00, ..., -1.540e+01, -1.540e+01,\n",
              "         1.000e+00],\n",
              "       [ 1.800e+03,  1.000e+00,  3.000e+00, ..., -1.500e+01, -1.500e+01,\n",
              "         1.000e+00],\n",
              "       ...,\n",
              "       [ 2.011e+03,  1.200e+01,  2.900e+01, ...,  4.200e+00,  4.200e+00,\n",
              "         1.000e+00],\n",
              "       [ 2.011e+03,  1.200e+01,  3.000e+01, ..., -1.000e-01, -1.000e-01,\n",
              "         1.000e+00],\n",
              "       [ 2.011e+03,  1.200e+01,  3.100e+01, ..., -3.300e+00, -3.300e+00,\n",
              "         1.000e+00]])"
            ]
          },
          "metadata": {},
          "execution_count": 47
        }
      ]
    },
    {
      "cell_type": "markdown",
      "metadata": {
        "id": "2yP8DAzDDjws"
      },
      "source": [
        "## Дополнительные свойства `numpy` *arrays*"
      ]
    },
    {
      "cell_type": "code",
      "execution_count": null,
      "metadata": {
        "id": "gISQ1-6jDjws",
        "outputId": "fc97274e-4c77-4181-ccff-8dd831778ac5"
      },
      "outputs": [
        {
          "data": {
            "text/plain": [
              "8"
            ]
          },
          "execution_count": 106,
          "metadata": {},
          "output_type": "execute_result"
        }
      ],
      "source": [
        "M.itemsize # размер элемента в байтах"
      ]
    },
    {
      "cell_type": "code",
      "execution_count": null,
      "metadata": {
        "id": "PDI82XdDDjws",
        "outputId": "6f51834a-0034-4682-96ac-cac77e2c8b48"
      },
      "outputs": [
        {
          "data": {
            "text/plain": [
              "72"
            ]
          },
          "execution_count": 107,
          "metadata": {},
          "output_type": "execute_result"
        }
      ],
      "source": [
        "M.nbytes # кол-во байт"
      ]
    },
    {
      "cell_type": "code",
      "execution_count": null,
      "metadata": {
        "id": "cxaQiXgFDjws",
        "outputId": "c7022f75-6bc7-4a88-d7b3-43ad659a6160"
      },
      "outputs": [
        {
          "data": {
            "text/plain": [
              "2"
            ]
          },
          "execution_count": 108,
          "metadata": {},
          "output_type": "execute_result"
        }
      ],
      "source": [
        "M.ndim # размерность"
      ]
    },
    {
      "cell_type": "markdown",
      "metadata": {
        "id": "X7PyE2lHDjws"
      },
      "source": [
        "## Преобразование массивов"
      ]
    },
    {
      "cell_type": "markdown",
      "metadata": {
        "id": "oqCuRf9GDjwt"
      },
      "source": [
        "### Использование индексов"
      ]
    },
    {
      "cell_type": "markdown",
      "metadata": {
        "id": "qsUp8arRDjwt"
      },
      "source": [
        "Доступ к элементам через индекс:"
      ]
    },
    {
      "cell_type": "code",
      "execution_count": null,
      "metadata": {
        "id": "hQ4xWY0XDjwt",
        "outputId": "ac95fd87-d359-4d11-c59c-69807df6d2ba"
      },
      "outputs": [
        {
          "data": {
            "text/plain": [
              "1"
            ]
          },
          "execution_count": 109,
          "metadata": {},
          "output_type": "execute_result"
        }
      ],
      "source": [
        "# v -- вектор, размерность 1, испльзуем 1 индекс\n",
        "v[0]"
      ]
    },
    {
      "cell_type": "code",
      "execution_count": null,
      "metadata": {
        "id": "uDI1vpNmDjwt",
        "outputId": "69a7f866-d5f9-4e03-b12b-f8178f64e129"
      },
      "outputs": [
        {
          "data": {
            "text/plain": [
              "0.36882056243262484"
            ]
          },
          "execution_count": 110,
          "metadata": {},
          "output_type": "execute_result"
        }
      ],
      "source": [
        "# M -- матрица, 2-х мерный объект, используем 2 индекса\n",
        "M[1,1]"
      ]
    },
    {
      "cell_type": "markdown",
      "metadata": {
        "id": "0Yh0HQ5QDjwt"
      },
      "source": [
        "Если мы опустим один из индексов, то получим объект пониженной размерности. В случае двумерной матрицы, получим вектор."
      ]
    },
    {
      "cell_type": "code",
      "execution_count": null,
      "metadata": {
        "id": "j3xVGJrCDjwt",
        "outputId": "772d1549-e2c2-49ce-b6fb-c02d5c2f322d"
      },
      "outputs": [
        {
          "data": {
            "text/plain": [
              "array([[0.01957785, 0.26105203, 0.59452319],\n",
              "       [0.84042664, 0.36882056, 0.06497298],\n",
              "       [0.88157179, 0.65403621, 0.7400268 ]])"
            ]
          },
          "execution_count": 111,
          "metadata": {},
          "output_type": "execute_result"
        }
      ],
      "source": [
        "M"
      ]
    },
    {
      "cell_type": "code",
      "execution_count": null,
      "metadata": {
        "id": "OwblgjO7Djwt",
        "outputId": "a42436d9-6942-4d1f-b60b-6c6596b2362c"
      },
      "outputs": [
        {
          "data": {
            "text/plain": [
              "array([0.84042664, 0.36882056, 0.06497298])"
            ]
          },
          "execution_count": 112,
          "metadata": {},
          "output_type": "execute_result"
        }
      ],
      "source": [
        "M[1]"
      ]
    },
    {
      "cell_type": "markdown",
      "metadata": {
        "id": "K44TAy7oDjwt"
      },
      "source": [
        "Такой же эффект получится при использовании `:` на месте индекса:"
      ]
    },
    {
      "cell_type": "code",
      "execution_count": null,
      "metadata": {
        "id": "OWFgOTXPDjwu",
        "outputId": "0d702865-3cd8-42d3-e4a7-33b7075269bb"
      },
      "outputs": [
        {
          "data": {
            "text/plain": [
              "array([0.84042664, 0.36882056, 0.06497298])"
            ]
          },
          "execution_count": 113,
          "metadata": {},
          "output_type": "execute_result"
        }
      ],
      "source": [
        "M[1,:] # строка (row) 1"
      ]
    },
    {
      "cell_type": "code",
      "execution_count": null,
      "metadata": {
        "id": "g4qRxDopDjwu",
        "outputId": "6e7b8708-deaf-4b63-e762-4bb8f09d96f4"
      },
      "outputs": [
        {
          "data": {
            "text/plain": [
              "array([0.26105203, 0.36882056, 0.65403621])"
            ]
          },
          "execution_count": 114,
          "metadata": {},
          "output_type": "execute_result"
        }
      ],
      "source": [
        "M[:,1] # столбец (column) 1"
      ]
    },
    {
      "cell_type": "markdown",
      "metadata": {
        "id": "EeDrawJ_Djwu"
      },
      "source": [
        "Мы можем присваивать новые значения элементам массива с помощью индексации:"
      ]
    },
    {
      "cell_type": "code",
      "execution_count": null,
      "metadata": {
        "id": "39FtvRAsDjwu"
      },
      "outputs": [],
      "source": [
        "M[0,0] = 1"
      ]
    },
    {
      "cell_type": "code",
      "execution_count": null,
      "metadata": {
        "id": "DCQaFzFSDjwu",
        "outputId": "4af9be8e-6648-47a1-fcc8-ac04ee5c9d27"
      },
      "outputs": [
        {
          "data": {
            "text/plain": [
              "array([[1.        , 0.26105203, 0.59452319],\n",
              "       [0.84042664, 0.36882056, 0.06497298],\n",
              "       [0.88157179, 0.65403621, 0.7400268 ]])"
            ]
          },
          "execution_count": 116,
          "metadata": {},
          "output_type": "execute_result"
        }
      ],
      "source": [
        "M"
      ]
    },
    {
      "cell_type": "code",
      "execution_count": null,
      "metadata": {
        "id": "AdHq-VWPDjwu"
      },
      "outputs": [],
      "source": [
        "# также работает для строк и столбцов\n",
        "M[1,:] = 0\n",
        "M[:,2] = -1"
      ]
    },
    {
      "cell_type": "code",
      "execution_count": null,
      "metadata": {
        "id": "7Abp_tz2Djwu",
        "outputId": "be6581f7-6d03-4cee-8de1-bf5654d37955"
      },
      "outputs": [
        {
          "data": {
            "text/plain": [
              "array([[ 1.        ,  0.26105203, -1.        ],\n",
              "       [ 0.        ,  0.        , -1.        ],\n",
              "       [ 0.88157179,  0.65403621, -1.        ]])"
            ]
          },
          "execution_count": 118,
          "metadata": {},
          "output_type": "execute_result"
        }
      ],
      "source": [
        "M"
      ]
    },
    {
      "cell_type": "markdown",
      "metadata": {
        "id": "9uwyOMN_Djwu"
      },
      "source": [
        "### Срезы (*slice*) по индексам"
      ]
    },
    {
      "cell_type": "markdown",
      "metadata": {
        "id": "SedrB44kDjwu"
      },
      "source": [
        "Срезы по индексам техническое название `M[нижний индекс:верхний индекс:шаг]` предназначенные для извлечения части массива:"
      ]
    },
    {
      "cell_type": "code",
      "execution_count": null,
      "metadata": {
        "id": "bSczOgxQDjwv",
        "outputId": "960cea90-74c3-4eab-cb64-a8d9735c42ef"
      },
      "outputs": [
        {
          "data": {
            "text/plain": [
              "array([1, 2, 3, 4, 5])"
            ]
          },
          "execution_count": 119,
          "metadata": {},
          "output_type": "execute_result"
        }
      ],
      "source": [
        "A = array([1,2,3,4,5])\n",
        "A"
      ]
    },
    {
      "cell_type": "code",
      "execution_count": null,
      "metadata": {
        "id": "RXz_iOXzDjwv",
        "outputId": "c53fdb16-bba6-4bdc-a03c-c968c35bdc26"
      },
      "outputs": [
        {
          "data": {
            "text/plain": [
              "array([2, 3])"
            ]
          },
          "execution_count": 120,
          "metadata": {},
          "output_type": "execute_result"
        }
      ],
      "source": [
        "A[1:3]"
      ]
    },
    {
      "cell_type": "markdown",
      "metadata": {
        "id": "UPpxvE3UDjwv"
      },
      "source": [
        "Срезы массива являются *изменяемыми (mutable)*: если им присвоено новое значение, то исходный массив, из которого был извлечен срез, изменяется:"
      ]
    },
    {
      "cell_type": "code",
      "execution_count": null,
      "metadata": {
        "id": "nDmw8SYNDjwv",
        "outputId": "1ec98081-2a53-4b3a-faf0-a1574297c2ca"
      },
      "outputs": [
        {
          "data": {
            "text/plain": [
              "array([ 1, -2, -3,  4,  5])"
            ]
          },
          "execution_count": 121,
          "metadata": {},
          "output_type": "execute_result"
        }
      ],
      "source": [
        "A[1:3] = [-2,-3]\n",
        "\n",
        "A"
      ]
    },
    {
      "cell_type": "markdown",
      "metadata": {
        "id": "zTi9xG9ZDjwv"
      },
      "source": [
        "Можно не указывать любой из трех параметров среза`M[нижний индекс:верхний индекс:шаг]`:"
      ]
    },
    {
      "cell_type": "code",
      "execution_count": null,
      "metadata": {
        "id": "IEp0UMUWDjwv",
        "outputId": "4010beff-a936-4ff4-d0e4-6060d61c6f6b"
      },
      "outputs": [
        {
          "data": {
            "text/plain": [
              "array([ 1, -2, -3,  4,  5])"
            ]
          },
          "execution_count": 122,
          "metadata": {},
          "output_type": "execute_result"
        }
      ],
      "source": [
        "A[::] # нижний, верхний индексы и шаг (=1) принимают значения по умолчанию"
      ]
    },
    {
      "cell_type": "code",
      "execution_count": null,
      "metadata": {
        "id": "EzUek_OpDjwv",
        "outputId": "d9701e6a-5edf-4c49-a566-8caea598599e"
      },
      "outputs": [
        {
          "data": {
            "text/plain": [
              "array([ 1, -3,  5])"
            ]
          },
          "execution_count": 123,
          "metadata": {},
          "output_type": "execute_result"
        }
      ],
      "source": [
        "A[::2] # шаг равен 2, нижний и верхний индексы принимают значения начала и конца массива"
      ]
    },
    {
      "cell_type": "code",
      "execution_count": null,
      "metadata": {
        "id": "HZVfQkVEDjwv",
        "outputId": "b299c412-473f-477e-db0a-379eb23c22a7"
      },
      "outputs": [
        {
          "data": {
            "text/plain": [
              "array([ 1, -2, -3])"
            ]
          },
          "execution_count": 124,
          "metadata": {},
          "output_type": "execute_result"
        }
      ],
      "source": [
        "A[:3] # первые три элемента"
      ]
    },
    {
      "cell_type": "code",
      "execution_count": null,
      "metadata": {
        "id": "V53XgcbLDjww",
        "outputId": "8345c3a9-72df-4608-b522-860f85a6218d"
      },
      "outputs": [
        {
          "data": {
            "text/plain": [
              "array([4, 5])"
            ]
          },
          "execution_count": 125,
          "metadata": {},
          "output_type": "execute_result"
        }
      ],
      "source": [
        "A[3:] # элементы с индекса 3"
      ]
    },
    {
      "cell_type": "markdown",
      "metadata": {
        "id": "38TcFKiwDjww"
      },
      "source": [
        "Отрицательные индексы отсчитываются с конца массива (положительные - с начала):"
      ]
    },
    {
      "cell_type": "code",
      "execution_count": null,
      "metadata": {
        "id": "4CMR3neHDjww"
      },
      "outputs": [],
      "source": [
        "A = array([1,2,3,4,5])"
      ]
    },
    {
      "cell_type": "code",
      "execution_count": null,
      "metadata": {
        "id": "YlEYi8muDjww",
        "outputId": "6206d93e-e345-4913-b3c4-86858314c8fc"
      },
      "outputs": [
        {
          "data": {
            "text/plain": [
              "5"
            ]
          },
          "execution_count": 127,
          "metadata": {},
          "output_type": "execute_result"
        }
      ],
      "source": [
        "A[-1] # последний элемент массива"
      ]
    },
    {
      "cell_type": "code",
      "execution_count": null,
      "metadata": {
        "id": "tSmHwconDjww",
        "outputId": "82313e90-f499-43cf-9f08-03277c2d03a7"
      },
      "outputs": [
        {
          "data": {
            "text/plain": [
              "array([3, 4, 5])"
            ]
          },
          "execution_count": 128,
          "metadata": {},
          "output_type": "execute_result"
        }
      ],
      "source": [
        "A[-3:] # последние 3 элемента"
      ]
    },
    {
      "cell_type": "markdown",
      "metadata": {
        "id": "UMnlJB4lDjww"
      },
      "source": [
        "Индексный срез работает точно так же для многомерных массивов:"
      ]
    },
    {
      "cell_type": "code",
      "execution_count": null,
      "metadata": {
        "id": "HI10KWtBDjww",
        "outputId": "be7186d9-0857-41a8-d0c8-a29e560d7a88"
      },
      "outputs": [
        {
          "data": {
            "text/plain": [
              "array([[ 0,  1,  2,  3,  4],\n",
              "       [10, 11, 12, 13, 14],\n",
              "       [20, 21, 22, 23, 24],\n",
              "       [30, 31, 32, 33, 34],\n",
              "       [40, 41, 42, 43, 44]])"
            ]
          },
          "execution_count": 3,
          "metadata": {},
          "output_type": "execute_result"
        }
      ],
      "source": [
        "A = array([[n+m*10 for n in range(5)] for m in range(5)])\n",
        "\n",
        "A"
      ]
    },
    {
      "cell_type": "code",
      "execution_count": null,
      "metadata": {
        "id": "Z1Rs2EISDjww",
        "outputId": "61d85c8c-3239-423f-bba6-ceff09ce2a94"
      },
      "outputs": [
        {
          "data": {
            "text/plain": [
              "array([[11, 12, 13],\n",
              "       [21, 22, 23],\n",
              "       [31, 32, 33]])"
            ]
          },
          "execution_count": 130,
          "metadata": {},
          "output_type": "execute_result"
        }
      ],
      "source": [
        "# часть массива\n",
        "A[1:4, 1:4]"
      ]
    },
    {
      "cell_type": "code",
      "execution_count": null,
      "metadata": {
        "id": "sf9PnKeeDjwx",
        "outputId": "4330145f-998a-4705-a021-d407b2ae12f7"
      },
      "outputs": [
        {
          "data": {
            "text/plain": [
              "array([[ 0,  2,  4],\n",
              "       [20, 22, 24],\n",
              "       [40, 42, 44]])"
            ]
          },
          "execution_count": 131,
          "metadata": {},
          "output_type": "execute_result"
        }
      ],
      "source": [
        "# пошаговое извлечение\n",
        "A[::2, ::2]"
      ]
    },
    {
      "cell_type": "markdown",
      "metadata": {
        "id": "Cr45WIc0Djwx"
      },
      "source": [
        "### Задание 4\n",
        "Используя срезы извлеките нечетные элементы матрицы А."
      ]
    },
    {
      "cell_type": "markdown",
      "metadata": {
        "id": "kNeE1K1wDjwx"
      },
      "source": [
        "### Необычное индексирование"
      ]
    },
    {
      "cell_type": "markdown",
      "metadata": {
        "id": "kzixZ04FDjwx"
      },
      "source": [
        "О необычном индексировании говорят, когда массив или список используется в качестве индекса:"
      ]
    },
    {
      "cell_type": "code",
      "execution_count": null,
      "metadata": {
        "id": "KHgH9HF1Djwx",
        "outputId": "2a268d64-c554-474c-8736-11b621caca35"
      },
      "outputs": [
        {
          "data": {
            "text/plain": [
              "array([[10, 11, 12, 13, 14],\n",
              "       [20, 21, 22, 23, 24],\n",
              "       [30, 31, 32, 33, 34]])"
            ]
          },
          "execution_count": 132,
          "metadata": {},
          "output_type": "execute_result"
        }
      ],
      "source": [
        "row_indices = [1, 2, 3]\n",
        "A[row_indices]"
      ]
    },
    {
      "cell_type": "code",
      "execution_count": null,
      "metadata": {
        "id": "-39Kc-c8Djwx",
        "outputId": "dec3085c-2d6d-4e3f-cef1-d91bee923241"
      },
      "outputs": [
        {
          "data": {
            "text/plain": [
              "array([[ 1,  2,  4],\n",
              "       [11, 12, 14],\n",
              "       [21, 22, 24],\n",
              "       [31, 32, 34],\n",
              "       [41, 42, 44]])"
            ]
          },
          "execution_count": 4,
          "metadata": {},
          "output_type": "execute_result"
        }
      ],
      "source": [
        "col_indices = [1, 2, -1] # вспомним, что -1 это последний элемент\n",
        "A[:,col_indices]"
      ]
    },
    {
      "cell_type": "markdown",
      "metadata": {
        "id": "QszDwDRtDjwx"
      },
      "source": [
        "Можно также использовать индексные маски: Если индексная маска представляет собой массив Numpy типа данных `bool`, то элемент выбирается (True) или нет (False) в зависимости от значения индексной маски в позиции каждого элемента:"
      ]
    },
    {
      "cell_type": "code",
      "execution_count": null,
      "metadata": {
        "id": "ENYSPpKtDjwx",
        "outputId": "a11b0502-feae-4d65-f0bd-40028fd920cd"
      },
      "outputs": [
        {
          "data": {
            "text/plain": [
              "array([0, 1, 2, 3, 4])"
            ]
          },
          "execution_count": 134,
          "metadata": {},
          "output_type": "execute_result"
        }
      ],
      "source": [
        "B = array([n for n in range(5)])\n",
        "B"
      ]
    },
    {
      "cell_type": "code",
      "execution_count": null,
      "metadata": {
        "id": "yHCBdPzbDjwy",
        "outputId": "19170740-40aa-4a69-e2aa-188ff3f49d43"
      },
      "outputs": [
        {
          "data": {
            "text/plain": [
              "array([0, 2])"
            ]
          },
          "execution_count": 135,
          "metadata": {},
          "output_type": "execute_result"
        }
      ],
      "source": [
        "row_mask = array([True, False, True, False, False])\n",
        "B[row_mask]"
      ]
    },
    {
      "cell_type": "code",
      "execution_count": null,
      "metadata": {
        "id": "p63aN_3ZDjwy",
        "outputId": "a4f6e801-d2f8-4eae-d341-904ab8a5e038"
      },
      "outputs": [
        {
          "data": {
            "text/plain": [
              "array([0, 2])"
            ]
          },
          "execution_count": 136,
          "metadata": {},
          "output_type": "execute_result"
        }
      ],
      "source": [
        "# тот же результат\n",
        "row_mask = array([1,0,1,0,0], dtype=bool)\n",
        "B[row_mask]"
      ]
    },
    {
      "cell_type": "markdown",
      "metadata": {
        "id": "7CTPk6f0Djwy"
      },
      "source": [
        "Эта функция очень полезна для условного выбора элементов из массива, используя, например, операторы сравнения:"
      ]
    },
    {
      "cell_type": "code",
      "execution_count": null,
      "metadata": {
        "id": "wDMsM4Q-Djwy",
        "outputId": "f9907c28-a50b-41d6-ac8b-83bc24d819bd"
      },
      "outputs": [
        {
          "data": {
            "text/plain": [
              "array([0. , 0.5, 1. , 1.5, 2. , 2.5, 3. , 3.5, 4. , 4.5, 5. , 5.5, 6. ,\n",
              "       6.5, 7. , 7.5, 8. , 8.5, 9. , 9.5])"
            ]
          },
          "execution_count": 137,
          "metadata": {},
          "output_type": "execute_result"
        }
      ],
      "source": [
        "x = arange(0, 10, 0.5)\n",
        "x"
      ]
    },
    {
      "cell_type": "code",
      "execution_count": null,
      "metadata": {
        "id": "jp1GACDXDjwy",
        "outputId": "505f1d6d-b437-44eb-d681-b4c8713fda4f"
      },
      "outputs": [
        {
          "data": {
            "text/plain": [
              "array([False, False, False, False, False, False, False, False, False,\n",
              "       False, False,  True,  True,  True,  True, False, False, False,\n",
              "       False, False])"
            ]
          },
          "execution_count": 138,
          "metadata": {},
          "output_type": "execute_result"
        }
      ],
      "source": [
        "mask = (5 < x) * (x < 7.5)\n",
        "\n",
        "mask"
      ]
    },
    {
      "cell_type": "code",
      "execution_count": null,
      "metadata": {
        "id": "J-sTFXTkDjwy",
        "outputId": "33cd28ec-2768-4fd6-b75f-2786619efd9e"
      },
      "outputs": [
        {
          "data": {
            "text/plain": [
              "array([5.5, 6. , 6.5, 7. ])"
            ]
          },
          "execution_count": 139,
          "metadata": {},
          "output_type": "execute_result"
        }
      ],
      "source": [
        "x[mask]"
      ]
    },
    {
      "cell_type": "markdown",
      "metadata": {
        "id": "mO3_NFuNDjwy"
      },
      "source": [
        "### Задание 5\n",
        "Используйте массив из задания 1 (таблицу умножения) извлеките из него при помощи маски все числа кратные 3."
      ]
    },
    {
      "cell_type": "markdown",
      "metadata": {
        "id": "9n15-B4NDjwz"
      },
      "source": [
        "## Функции для извлечения данных из массивов и создания массивов"
      ]
    },
    {
      "cell_type": "markdown",
      "metadata": {
        "id": "eDiSmDWJDjwz"
      },
      "source": [
        "### Функция where"
      ]
    },
    {
      "cell_type": "markdown",
      "metadata": {
        "id": "IA-eiWb9Djwz"
      },
      "source": [
        "Индексную маску можно превратить в список индексов, используя `where`:"
      ]
    },
    {
      "cell_type": "code",
      "execution_count": null,
      "metadata": {
        "id": "zuJhYA8SDjwz",
        "outputId": "6203d807-358e-4e09-a4f5-cfc7f8fd8dfa"
      },
      "outputs": [
        {
          "data": {
            "text/plain": [
              "(array([11, 12, 13, 14], dtype=int64),)"
            ]
          },
          "execution_count": 140,
          "metadata": {},
          "output_type": "execute_result"
        }
      ],
      "source": [
        "indices = where(mask)\n",
        "\n",
        "indices"
      ]
    },
    {
      "cell_type": "code",
      "execution_count": null,
      "metadata": {
        "id": "VK6GjXbtDjwz",
        "outputId": "50717ced-7e0b-4e86-9f44-f28bc3526edc"
      },
      "outputs": [
        {
          "data": {
            "text/plain": [
              "array([5.5, 6. , 6.5, 7. ])"
            ]
          },
          "execution_count": 141,
          "metadata": {},
          "output_type": "execute_result"
        }
      ],
      "source": [
        "x[indices] # действие этого списка эквивалентно маске, т.е. x[mask]"
      ]
    },
    {
      "cell_type": "markdown",
      "metadata": {
        "id": "X4TKPmF4Djwz"
      },
      "source": [
        "### Функция diag"
      ]
    },
    {
      "cell_type": "markdown",
      "metadata": {
        "id": "0Etkfq7zDjwz"
      },
      "source": [
        "При помощи функции diag можно извлекать диагональные элементы с главной и смещенных диагоналей:"
      ]
    },
    {
      "cell_type": "code",
      "execution_count": null,
      "metadata": {
        "id": "qNNBfe8QDjwz",
        "outputId": "563775ca-2737-480f-fb4f-1bd9eb097cd2"
      },
      "outputs": [
        {
          "data": {
            "text/plain": [
              "array([ 0, 11, 22, 33, 44])"
            ]
          },
          "execution_count": 142,
          "metadata": {},
          "output_type": "execute_result"
        }
      ],
      "source": [
        "diag(A)"
      ]
    },
    {
      "cell_type": "code",
      "execution_count": null,
      "metadata": {
        "id": "Nk8CUgarDjw0",
        "outputId": "abc44ce0-8406-47d7-bedd-2061e7d77d6b"
      },
      "outputs": [
        {
          "data": {
            "text/plain": [
              "array([10, 21, 32, 43])"
            ]
          },
          "execution_count": 143,
          "metadata": {},
          "output_type": "execute_result"
        }
      ],
      "source": [
        "diag(A, -1)"
      ]
    },
    {
      "cell_type": "markdown",
      "metadata": {
        "id": "SPHK-q-ZDjw0"
      },
      "source": [
        "### Функция take"
      ]
    },
    {
      "cell_type": "markdown",
      "metadata": {
        "id": "xqy_DQaEDjw0"
      },
      "source": [
        "Функция `take` подобна описанной выше необычной индексации:"
      ]
    },
    {
      "cell_type": "code",
      "execution_count": null,
      "metadata": {
        "id": "6WHdhrQQDjw0",
        "outputId": "139ba008-2a28-40b5-ded2-b8927ed3f1c1"
      },
      "outputs": [
        {
          "data": {
            "text/plain": [
              "array([-3, -2, -1,  0,  1,  2])"
            ]
          },
          "execution_count": 144,
          "metadata": {},
          "output_type": "execute_result"
        }
      ],
      "source": [
        "v2 = arange(-3,3)\n",
        "v2"
      ]
    },
    {
      "cell_type": "code",
      "execution_count": null,
      "metadata": {
        "id": "S3UFLbRlDjw0",
        "outputId": "10a244b1-f3f0-4da3-c908-bba4d7adb004"
      },
      "outputs": [
        {
          "data": {
            "text/plain": [
              "array([-2,  0,  2])"
            ]
          },
          "execution_count": 145,
          "metadata": {},
          "output_type": "execute_result"
        }
      ],
      "source": [
        "row_indices = [1, 3, 5]\n",
        "v2[row_indices] # необычная индексация"
      ]
    },
    {
      "cell_type": "code",
      "execution_count": null,
      "metadata": {
        "id": "bBM4bjAHDjw0",
        "outputId": "4265b686-2dc4-40e4-ff58-b831c16c5610"
      },
      "outputs": [
        {
          "data": {
            "text/plain": [
              "array([-2,  0,  2])"
            ]
          },
          "execution_count": 146,
          "metadata": {},
          "output_type": "execute_result"
        }
      ],
      "source": [
        "v2.take(row_indices)"
      ]
    },
    {
      "cell_type": "markdown",
      "metadata": {
        "id": "h910KIk_Djw0"
      },
      "source": [
        "Но функция `take` так же работает на списках и других объектах:"
      ]
    },
    {
      "cell_type": "code",
      "execution_count": null,
      "metadata": {
        "id": "8P_N5bUqDjw0",
        "outputId": "fb221acf-c09b-4faa-8976-e187d3e2c3a1"
      },
      "outputs": [
        {
          "data": {
            "text/plain": [
              "array([-2,  0,  2])"
            ]
          },
          "execution_count": 147,
          "metadata": {},
          "output_type": "execute_result"
        }
      ],
      "source": [
        "take([-3, -2, -1,  0,  1,  2], row_indices)"
      ]
    },
    {
      "cell_type": "markdown",
      "metadata": {
        "id": "GOoWK1uSDjw1"
      },
      "source": [
        "### Функция choose"
      ]
    },
    {
      "cell_type": "markdown",
      "metadata": {
        "id": "M_pIOR-YDjw1"
      },
      "source": [
        "Создает массив собирая элементы из нескольких массивов:"
      ]
    },
    {
      "cell_type": "code",
      "execution_count": null,
      "metadata": {
        "id": "ydJTS6qFDjw1",
        "outputId": "dfd0112a-780e-4f7c-eaaf-ebcb0319bc46"
      },
      "outputs": [
        {
          "data": {
            "text/plain": [
              "array([ 5, -2,  5, -2])"
            ]
          },
          "execution_count": 148,
          "metadata": {},
          "output_type": "execute_result"
        }
      ],
      "source": [
        "which = [1, 0, 1, 0]\n",
        "choices = [[-2,-2,-2,-2], [5,5,5,5]]\n",
        "\n",
        "choose(which, choices)"
      ]
    },
    {
      "cell_type": "markdown",
      "metadata": {
        "id": "FgwEvlFnDjw1"
      },
      "source": [
        "### Задание 7\n",
        "Разбить массив таблицы умножения из задания 1 на два массива содержащие четные и нечетные значения, а затем собрать его в исходное состояние используя choose()"
      ]
    },
    {
      "cell_type": "markdown",
      "metadata": {
        "id": "y1QSjU2jDjw1"
      },
      "source": [
        "## Линейная алгебра"
      ]
    },
    {
      "cell_type": "markdown",
      "metadata": {
        "id": "dWfB0mA-Djw1"
      },
      "source": [
        "Векторизация кода-это ключ к написанию эффективных численных вычислений с помощью Python / Numpy. Это означает, что максимально возможная часть программы должна быть сформулирована в терминах матричных и векторных операций, таких как матричного умножения."
      ]
    },
    {
      "cell_type": "markdown",
      "metadata": {
        "id": "wC99k-QYDjw1"
      },
      "source": [
        "### Операции между числами и векторами"
      ]
    },
    {
      "cell_type": "markdown",
      "metadata": {
        "id": "-agA5mNuDjw1"
      },
      "source": [
        "Мы можем использовать обычные арифметические операторы для умножения, сложения, вычитания и деления массивов со скалярами или обычными числами."
      ]
    },
    {
      "cell_type": "code",
      "execution_count": null,
      "metadata": {
        "id": "jT2yuzbGDjw1"
      },
      "outputs": [],
      "source": [
        "v1 = arange(0, 5)"
      ]
    },
    {
      "cell_type": "code",
      "execution_count": null,
      "metadata": {
        "id": "QzrdgOjfDjw2",
        "outputId": "0333dadb-b49b-449d-e576-439c300cc0ec"
      },
      "outputs": [
        {
          "data": {
            "text/plain": [
              "array([0, 2, 4, 6, 8])"
            ]
          },
          "execution_count": 150,
          "metadata": {},
          "output_type": "execute_result"
        }
      ],
      "source": [
        "v1 * 2"
      ]
    },
    {
      "cell_type": "code",
      "execution_count": null,
      "metadata": {
        "id": "9CY4kCSMDjw2",
        "outputId": "b2a49087-062d-4876-d0f1-31dbc346be69"
      },
      "outputs": [
        {
          "data": {
            "text/plain": [
              "array([2, 3, 4, 5, 6])"
            ]
          },
          "execution_count": 151,
          "metadata": {},
          "output_type": "execute_result"
        }
      ],
      "source": [
        "v1 + 2"
      ]
    },
    {
      "cell_type": "code",
      "execution_count": null,
      "metadata": {
        "id": "8nuNqxMyDjw2",
        "outputId": "918dfab8-8e6e-4307-ad9d-c73c1ec74f4e"
      },
      "outputs": [
        {
          "data": {
            "text/plain": [
              "(array([[ 0,  2,  4,  6,  8],\n",
              "        [20, 22, 24, 26, 28],\n",
              "        [40, 42, 44, 46, 48],\n",
              "        [60, 62, 64, 66, 68],\n",
              "        [80, 82, 84, 86, 88]]),\n",
              " array([[ 2,  3,  4,  5,  6],\n",
              "        [12, 13, 14, 15, 16],\n",
              "        [22, 23, 24, 25, 26],\n",
              "        [32, 33, 34, 35, 36],\n",
              "        [42, 43, 44, 45, 46]]))"
            ]
          },
          "execution_count": 152,
          "metadata": {},
          "output_type": "execute_result"
        }
      ],
      "source": [
        "A * 2, A + 2"
      ]
    },
    {
      "cell_type": "markdown",
      "metadata": {
        "id": "_6StOlLyDjw2"
      },
      "source": [
        "### Поэлементные операции между массивами"
      ]
    },
    {
      "cell_type": "markdown",
      "metadata": {
        "id": "pciJbjRuDjw2"
      },
      "source": [
        "Когда мы складываем, вычитаем, умножаем и делим массивы друг с другом, поведение по умолчанию-это операции **по элементам**, т.е. между элементами с совпадающими индексами:"
      ]
    },
    {
      "cell_type": "code",
      "execution_count": null,
      "metadata": {
        "id": "QJDdFJGoDjw2",
        "outputId": "b96c559e-f02c-4c88-d66a-676e03e3ddc3"
      },
      "outputs": [
        {
          "data": {
            "text/plain": [
              "array([[   0,    1,    4,    9,   16],\n",
              "       [ 100,  121,  144,  169,  196],\n",
              "       [ 400,  441,  484,  529,  576],\n",
              "       [ 900,  961, 1024, 1089, 1156],\n",
              "       [1600, 1681, 1764, 1849, 1936]])"
            ]
          },
          "execution_count": 153,
          "metadata": {},
          "output_type": "execute_result"
        }
      ],
      "source": [
        "A * A # поэлементное умножение"
      ]
    },
    {
      "cell_type": "code",
      "execution_count": null,
      "metadata": {
        "id": "GncSE6-3Djw2",
        "outputId": "6983b2a7-feca-4981-ef33-aa0cf54f7f72"
      },
      "outputs": [
        {
          "data": {
            "text/plain": [
              "array([ 0,  1,  4,  9, 16])"
            ]
          },
          "execution_count": 154,
          "metadata": {},
          "output_type": "execute_result"
        }
      ],
      "source": [
        "v1 * v1"
      ]
    },
    {
      "cell_type": "markdown",
      "metadata": {
        "id": "DVHdpYRrDjw3"
      },
      "source": [
        "Если мы умножим массивы с совместимыми размерами, то получим элементарное умножение каждой строки:"
      ]
    },
    {
      "cell_type": "code",
      "execution_count": null,
      "metadata": {
        "id": "ZoT72i2ADjw3",
        "outputId": "5b43478a-2097-430b-d239-6bc0f87effee"
      },
      "outputs": [
        {
          "data": {
            "text/plain": [
              "((5, 5), (5,))"
            ]
          },
          "execution_count": 155,
          "metadata": {},
          "output_type": "execute_result"
        }
      ],
      "source": [
        "A.shape, v1.shape"
      ]
    },
    {
      "cell_type": "code",
      "execution_count": null,
      "metadata": {
        "id": "RPWjHn0lDjw3",
        "outputId": "8a7a7850-e41a-4b34-cec5-6f91bfa7ec4d"
      },
      "outputs": [
        {
          "data": {
            "text/plain": [
              "array([[  0,   1,   4,   9,  16],\n",
              "       [  0,  11,  24,  39,  56],\n",
              "       [  0,  21,  44,  69,  96],\n",
              "       [  0,  31,  64,  99, 136],\n",
              "       [  0,  41,  84, 129, 176]])"
            ]
          },
          "execution_count": 156,
          "metadata": {},
          "output_type": "execute_result"
        }
      ],
      "source": [
        "A * v1"
      ]
    },
    {
      "cell_type": "markdown",
      "metadata": {
        "id": "XKXdW3jIDjw3"
      },
      "source": [
        "### Алгебра матриц"
      ]
    },
    {
      "cell_type": "markdown",
      "metadata": {
        "id": "yg27sTmRDjw3"
      },
      "source": [
        "А как насчет умножения матриц? Есть два пути. Мы можем либо использовать функцию `dot`, которая применяет умножение матрица-матрица, матрица-вектор или скалярное векторное к своим двум аргументам:"
      ]
    },
    {
      "cell_type": "code",
      "execution_count": null,
      "metadata": {
        "id": "VcQ3t5LADjw3",
        "outputId": "440a0c08-9abe-476e-e35c-2bdb74ba6575"
      },
      "outputs": [
        {
          "data": {
            "text/plain": [
              "array([[ 300,  310,  320,  330,  340],\n",
              "       [1300, 1360, 1420, 1480, 1540],\n",
              "       [2300, 2410, 2520, 2630, 2740],\n",
              "       [3300, 3460, 3620, 3780, 3940],\n",
              "       [4300, 4510, 4720, 4930, 5140]])"
            ]
          },
          "execution_count": 157,
          "metadata": {},
          "output_type": "execute_result"
        }
      ],
      "source": [
        "dot(A, A)"
      ]
    },
    {
      "cell_type": "code",
      "execution_count": null,
      "metadata": {
        "id": "9Akg3khwDjw3",
        "outputId": "f0779f63-9d55-4356-e3ec-4b929b1fa399"
      },
      "outputs": [
        {
          "data": {
            "text/plain": [
              "array([ 30, 130, 230, 330, 430])"
            ]
          },
          "execution_count": 158,
          "metadata": {},
          "output_type": "execute_result"
        }
      ],
      "source": [
        "dot(A, v1)"
      ]
    },
    {
      "cell_type": "code",
      "execution_count": null,
      "metadata": {
        "id": "S3Hs4oL3Djw3",
        "outputId": "23b3ae40-ffdd-4a98-f538-bd3723a3e6a7"
      },
      "outputs": [
        {
          "data": {
            "text/plain": [
              "30"
            ]
          },
          "execution_count": 159,
          "metadata": {},
          "output_type": "execute_result"
        }
      ],
      "source": [
        "dot(v1, v1)"
      ]
    },
    {
      "cell_type": "markdown",
      "metadata": {
        "id": "A8-KftK_Djw4"
      },
      "source": [
        "В качестве альтернативы мы можем привести объекты типа массива к типу `matrix`. Это изменяет поведение стандартных арифметических операторов `+, -, *` для использования алгебры матриц."
      ]
    },
    {
      "cell_type": "code",
      "execution_count": null,
      "metadata": {
        "id": "GIH7WG2lDjw4"
      },
      "outputs": [],
      "source": [
        "M = matrix(A)\n",
        "v = matrix(v1).T # транспонирует массив в вектор столбец"
      ]
    },
    {
      "cell_type": "code",
      "execution_count": null,
      "metadata": {
        "id": "lJUaIqOcDjw4",
        "outputId": "f08e6410-5cae-42f0-818e-dcc37618c38b"
      },
      "outputs": [
        {
          "data": {
            "text/plain": [
              "matrix([[0],\n",
              "        [1],\n",
              "        [2],\n",
              "        [3],\n",
              "        [4]])"
            ]
          },
          "execution_count": 161,
          "metadata": {},
          "output_type": "execute_result"
        }
      ],
      "source": [
        "v"
      ]
    },
    {
      "cell_type": "code",
      "execution_count": null,
      "metadata": {
        "id": "R0EYxHbeDjw4",
        "outputId": "d3ce65ef-ed3d-4258-e54f-5d86d886f374"
      },
      "outputs": [
        {
          "data": {
            "text/plain": [
              "matrix([[ 300,  310,  320,  330,  340],\n",
              "        [1300, 1360, 1420, 1480, 1540],\n",
              "        [2300, 2410, 2520, 2630, 2740],\n",
              "        [3300, 3460, 3620, 3780, 3940],\n",
              "        [4300, 4510, 4720, 4930, 5140]])"
            ]
          },
          "execution_count": 162,
          "metadata": {},
          "output_type": "execute_result"
        }
      ],
      "source": [
        "M * M"
      ]
    },
    {
      "cell_type": "code",
      "execution_count": null,
      "metadata": {
        "id": "oymBqEcUDjw4",
        "outputId": "51a97626-4b11-4f23-aab1-3c1dc8b35dc4"
      },
      "outputs": [
        {
          "data": {
            "text/plain": [
              "matrix([[ 30],\n",
              "        [130],\n",
              "        [230],\n",
              "        [330],\n",
              "        [430]])"
            ]
          },
          "execution_count": 163,
          "metadata": {},
          "output_type": "execute_result"
        }
      ],
      "source": [
        "M * v"
      ]
    },
    {
      "cell_type": "code",
      "execution_count": null,
      "metadata": {
        "id": "VqGA6lwsDjw4",
        "outputId": "77b36d36-ea91-4f10-d2cc-627588b6e5c4"
      },
      "outputs": [
        {
          "data": {
            "text/plain": [
              "matrix([[30]])"
            ]
          },
          "execution_count": 164,
          "metadata": {},
          "output_type": "execute_result"
        }
      ],
      "source": [
        "# скалярное произведение\n",
        "v.T * v"
      ]
    },
    {
      "cell_type": "code",
      "execution_count": null,
      "metadata": {
        "id": "N3na1xy_Djw4",
        "outputId": "096bdc87-6c67-4939-f306-6728ca9150a2"
      },
      "outputs": [
        {
          "data": {
            "text/plain": [
              "matrix([[ 30],\n",
              "        [131],\n",
              "        [232],\n",
              "        [333],\n",
              "        [434]])"
            ]
          },
          "execution_count": 165,
          "metadata": {},
          "output_type": "execute_result"
        }
      ],
      "source": [
        "# с объектами типа matrix работают все операции\n",
        "v + M*v"
      ]
    },
    {
      "cell_type": "markdown",
      "metadata": {
        "id": "IxsWwcTVDjw4"
      },
      "source": [
        "Если использовать операции `+, -, *` с несовместимыми объектами будет выброс исключения или ошибки"
      ]
    },
    {
      "cell_type": "code",
      "execution_count": null,
      "metadata": {
        "id": "-uPRJQg0Djw5"
      },
      "outputs": [],
      "source": [
        "v = matrix([1,2,3,4,5]).T"
      ]
    },
    {
      "cell_type": "code",
      "execution_count": null,
      "metadata": {
        "id": "MMzMv1BCDjw5",
        "outputId": "26ab7005-db3b-417a-f44e-0ae567b59cbf"
      },
      "outputs": [
        {
          "data": {
            "text/plain": [
              "((5, 5), (5, 1))"
            ]
          },
          "execution_count": 167,
          "metadata": {},
          "output_type": "execute_result"
        }
      ],
      "source": [
        "shape(M), shape(v)"
      ]
    },
    {
      "cell_type": "code",
      "execution_count": null,
      "metadata": {
        "id": "nGTnDGieDjw5",
        "outputId": "4d58651e-3c43-4e57-df48-7886fb464bac"
      },
      "outputs": [
        {
          "data": {
            "text/plain": [
              "matrix([[ 40],\n",
              "        [190],\n",
              "        [340],\n",
              "        [490],\n",
              "        [640]])"
            ]
          },
          "execution_count": 168,
          "metadata": {},
          "output_type": "execute_result"
        }
      ],
      "source": [
        "M * v"
      ]
    },
    {
      "cell_type": "markdown",
      "metadata": {
        "id": "AprMZvT8Djw5"
      },
      "source": [
        "Посмотрите также другие подобные функции: `inner`, `outer`, `cross`, `kron`, `tensordot`. Попробуйте набрать `help(kron)`."
      ]
    },
    {
      "cell_type": "markdown",
      "metadata": {
        "id": "yc4R_0NgDjw5"
      },
      "source": [
        "### Преобразования массив/матрица"
      ]
    },
    {
      "cell_type": "markdown",
      "metadata": {
        "id": "W7KhWwixDjw5"
      },
      "source": [
        "Выше мы уже использовали `.T` для транспонирования матричного объекта `v`. Мы также могли бы использовать функцию `transpose` для выполнения того же самого.\n",
        "\n",
        "Другими математическими функциями, преобразующими матричные объекты, являются:"
      ]
    },
    {
      "cell_type": "code",
      "execution_count": null,
      "metadata": {
        "id": "RGZIkVO1Djw5",
        "outputId": "0ceb55f6-9406-4c5f-dd13-e12c498f52d7"
      },
      "outputs": [
        {
          "data": {
            "text/plain": [
              "matrix([[0.+1.j, 0.+2.j],\n",
              "        [0.+3.j, 0.+4.j]])"
            ]
          },
          "execution_count": 169,
          "metadata": {},
          "output_type": "execute_result"
        }
      ],
      "source": [
        "C = matrix([[1j, 2j], [3j, 4j]])\n",
        "C"
      ]
    },
    {
      "cell_type": "code",
      "execution_count": null,
      "metadata": {
        "id": "fLQZ3xGWDjw5",
        "outputId": "8d0f22df-fdef-4a51-849a-6244fe4deb6b"
      },
      "outputs": [
        {
          "data": {
            "text/plain": [
              "matrix([[0.-1.j, 0.-2.j],\n",
              "        [0.-3.j, 0.-4.j]])"
            ]
          },
          "execution_count": 170,
          "metadata": {},
          "output_type": "execute_result"
        }
      ],
      "source": [
        "conjugate(C)"
      ]
    },
    {
      "cell_type": "markdown",
      "metadata": {
        "id": "CDwCmE1jDjw5"
      },
      "source": [
        "Эрмитово сопряжение: `transpose + conjugate`"
      ]
    },
    {
      "cell_type": "code",
      "execution_count": null,
      "metadata": {
        "id": "Gc369yH_Djw5",
        "outputId": "63567d01-efbf-4a12-8f4a-7cfd8348836b"
      },
      "outputs": [
        {
          "data": {
            "text/plain": [
              "matrix([[0.-1.j, 0.-3.j],\n",
              "        [0.-2.j, 0.-4.j]])"
            ]
          },
          "execution_count": 171,
          "metadata": {},
          "output_type": "execute_result"
        }
      ],
      "source": [
        "C.H"
      ]
    },
    {
      "cell_type": "markdown",
      "metadata": {
        "id": "wayWrA9IDjw6"
      },
      "source": [
        "Можно извлекать действительную и мнимую часть комплексного объекта, используя `real` и `imag`:"
      ]
    },
    {
      "cell_type": "code",
      "execution_count": null,
      "metadata": {
        "id": "AiL1uw2iDjw6",
        "outputId": "05849bf5-a6d1-40dc-f2f2-317a19daf673"
      },
      "outputs": [
        {
          "data": {
            "text/plain": [
              "matrix([[0., 0.],\n",
              "        [0., 0.]])"
            ]
          },
          "execution_count": 172,
          "metadata": {},
          "output_type": "execute_result"
        }
      ],
      "source": [
        "real(C) # то же, что и: C.real"
      ]
    },
    {
      "cell_type": "code",
      "execution_count": null,
      "metadata": {
        "id": "MhBRs2NoDjw6",
        "outputId": "26ec7ccc-4060-4da4-eb4f-e4d45716721f"
      },
      "outputs": [
        {
          "data": {
            "text/plain": [
              "matrix([[1., 2.],\n",
              "        [3., 4.]])"
            ]
          },
          "execution_count": 173,
          "metadata": {},
          "output_type": "execute_result"
        }
      ],
      "source": [
        "imag(C) # то же, что и: C.imag"
      ]
    },
    {
      "cell_type": "markdown",
      "metadata": {
        "id": "ZQCB82v4Djw6"
      },
      "source": [
        "Или комплексный аргумент(угол) и модуль"
      ]
    },
    {
      "cell_type": "code",
      "execution_count": null,
      "metadata": {
        "id": "oO-aWG57Djw6",
        "outputId": "f3e6bf60-c156-4594-c27d-6a2174524a66"
      },
      "outputs": [
        {
          "data": {
            "text/plain": [
              "matrix([[0.78539816, 1.10714872],\n",
              "        [1.24904577, 1.32581766]])"
            ]
          },
          "execution_count": 174,
          "metadata": {},
          "output_type": "execute_result"
        }
      ],
      "source": [
        "angle(C+1) # для пользователей MATLAB, angle используется вместо arg"
      ]
    },
    {
      "cell_type": "code",
      "execution_count": null,
      "metadata": {
        "id": "mCzQ8crDDjw6",
        "outputId": "334ecbd9-7f4c-4981-e46d-35e8b898dc71"
      },
      "outputs": [
        {
          "data": {
            "text/plain": [
              "matrix([[1., 2.],\n",
              "        [3., 4.]])"
            ]
          },
          "execution_count": 175,
          "metadata": {},
          "output_type": "execute_result"
        }
      ],
      "source": [
        "abs(C)"
      ]
    },
    {
      "cell_type": "markdown",
      "metadata": {
        "id": "J7QUemPJDjw6"
      },
      "source": [
        "### Задание 8\n",
        "Даны вектора v1(0,1,2,3,4) v2(5,6,7,8,9) найти угол между ними, учитывая что косинус угла между векторами можно найти как отношения их скалярного произведения к их длинам."
      ]
    },
    {
      "cell_type": "markdown",
      "metadata": {
        "id": "33palR22Djw6"
      },
      "source": [
        "### Вычисления над матрицами"
      ]
    },
    {
      "cell_type": "markdown",
      "metadata": {
        "id": "4M0GA3b5Djw7"
      },
      "source": [
        "#### Функция Inv - инверсия"
      ]
    },
    {
      "cell_type": "code",
      "execution_count": null,
      "metadata": {
        "id": "uz8eBEG8Djw7",
        "outputId": "b659dc32-1a3f-47fb-9f68-bb428ed103a7"
      },
      "outputs": [
        {
          "data": {
            "text/plain": [
              "matrix([[0.+2.j , 0.-1.j ],\n",
              "        [0.-1.5j, 0.+0.5j]])"
            ]
          },
          "execution_count": 176,
          "metadata": {},
          "output_type": "execute_result"
        }
      ],
      "source": [
        "linalg.inv(C) # эквивалентно C.I"
      ]
    },
    {
      "cell_type": "code",
      "execution_count": null,
      "metadata": {
        "id": "MK0dS3G7Djw7",
        "outputId": "4099caa0-7c03-4dcd-d1bf-56ebac0e48d9"
      },
      "outputs": [
        {
          "data": {
            "text/plain": [
              "matrix([[1.0000000e+00+0.j, 8.8817842e-16+0.j],\n",
              "        [0.0000000e+00+0.j, 1.0000000e+00+0.j]])"
            ]
          },
          "execution_count": 177,
          "metadata": {},
          "output_type": "execute_result"
        }
      ],
      "source": [
        "C.I * C"
      ]
    },
    {
      "cell_type": "markdown",
      "metadata": {
        "id": "foPnU2HADjw7"
      },
      "source": [
        "#### Функция det - детерминант"
      ]
    },
    {
      "cell_type": "code",
      "execution_count": null,
      "metadata": {
        "id": "rTWUg6CzDjw7",
        "outputId": "affee2cf-633b-4f12-c2b7-21069578ae81"
      },
      "outputs": [
        {
          "data": {
            "text/plain": [
              "(2.0000000000000004+0j)"
            ]
          },
          "execution_count": 178,
          "metadata": {},
          "output_type": "execute_result"
        }
      ],
      "source": [
        "linalg.det(C)"
      ]
    },
    {
      "cell_type": "code",
      "execution_count": null,
      "metadata": {
        "id": "qyszLU6TDjw7",
        "outputId": "fe31bd0b-c1d9-46cd-b203-9f5a1825a62b"
      },
      "outputs": [
        {
          "data": {
            "text/plain": [
              "(0.5+0j)"
            ]
          },
          "execution_count": 179,
          "metadata": {},
          "output_type": "execute_result"
        }
      ],
      "source": [
        "linalg.det(C.I)"
      ]
    },
    {
      "cell_type": "markdown",
      "metadata": {
        "id": "9LGV7W5QDjw7"
      },
      "source": [
        "### Задача 9\n",
        "Создайте две матрицы размером (5,5). Одна матрица содержит 5 в шахматном порядке как в задаче домашнего задания, другая имеет треугольную форму содержающую 5 на основной диагонали и в позициях выше ее, а ниже все 0. Посчитайте их детерминант и найдите обратные матрицы. Если для матрицы не у дается найти обратную, видимо этому мешает нулевое значение детерминанта."
      ]
    },
    {
      "cell_type": "markdown",
      "metadata": {
        "id": "0YxzDTuFDjw8"
      },
      "source": [
        "### Обработка данных"
      ]
    },
    {
      "cell_type": "markdown",
      "metadata": {
        "id": "9c8GS_7sDjw8"
      },
      "source": [
        "Часто бывает полезно хранить наборы данных в массивах Numpy. Numpy предоставляет ряд функций для вычисления статистики наборов данных в массивах.\n",
        "\n",
        "Например, давайте рассчитаем некоторые свойства из набора данных температуры Стокгольма, использованного выше."
      ]
    },
    {
      "cell_type": "code",
      "execution_count": null,
      "metadata": {
        "id": "xviSre-KDjw8",
        "outputId": "389c9461-2408-4bf9-9925-127ba0a21dd4"
      },
      "outputs": [
        {
          "data": {
            "text/plain": [
              "(77431, 7)"
            ]
          },
          "execution_count": 180,
          "metadata": {},
          "output_type": "execute_result"
        }
      ],
      "source": [
        "# напоминаем в переменной data храняться данные температуры в Стокгольме\n",
        "data.shape"
      ]
    },
    {
      "cell_type": "markdown",
      "metadata": {
        "id": "01HnTdU2Djw8"
      },
      "source": [
        "#### Функция mean"
      ]
    },
    {
      "cell_type": "code",
      "execution_count": null,
      "metadata": {
        "id": "Y5SloQsBDjw8",
        "outputId": "78da2a6d-0606-4a61-ed19-4ab0de7d8385"
      },
      "outputs": [
        {
          "data": {
            "text/plain": [
              "6.197109684751585"
            ]
          },
          "execution_count": 181,
          "metadata": {},
          "output_type": "execute_result"
        }
      ],
      "source": [
        "# the temperature data is in column 3\n",
        "mean(data[:,3])"
      ]
    },
    {
      "cell_type": "markdown",
      "metadata": {
        "id": "vSd63ih_Djw8"
      },
      "source": [
        "Средняя дневная температура в Стокгольме за последние 200 лет 6.2 C."
      ]
    },
    {
      "cell_type": "markdown",
      "metadata": {
        "id": "0vAQv3vNDjw8"
      },
      "source": [
        "#### Функции стандартного отклонения и дисперсии"
      ]
    },
    {
      "cell_type": "code",
      "execution_count": null,
      "metadata": {
        "id": "YkLfx8Y9Djw8",
        "outputId": "0422b77a-5021-44f4-ce16-1a68def71fe5"
      },
      "outputs": [
        {
          "data": {
            "text/plain": [
              "(8.282271621340573, 68.59602320966341)"
            ]
          },
          "execution_count": 182,
          "metadata": {},
          "output_type": "execute_result"
        }
      ],
      "source": [
        "std(data[:,3]), var(data[:,3])"
      ]
    },
    {
      "cell_type": "code",
      "execution_count": null,
      "metadata": {
        "id": "Nc5JsJ62Djw8"
      },
      "outputs": [],
      "source": []
    },
    {
      "cell_type": "markdown",
      "metadata": {
        "id": "6Xduf0J2Djw8"
      },
      "source": [
        "#### Функции min и max"
      ]
    },
    {
      "cell_type": "code",
      "execution_count": null,
      "metadata": {
        "id": "TI1BkEQDDjw9",
        "outputId": "c1e98660-3a1e-4f79-bbac-293fc5ceea50"
      },
      "outputs": [
        {
          "data": {
            "text/plain": [
              "-25.8"
            ]
          },
          "execution_count": 183,
          "metadata": {},
          "output_type": "execute_result"
        }
      ],
      "source": [
        "# минимальная температура\n",
        "data[:,3].min()"
      ]
    },
    {
      "cell_type": "code",
      "execution_count": null,
      "metadata": {
        "id": "mxVjJvHNDjw9",
        "outputId": "32b585f4-8b4a-4ba7-d33d-630ae14e806b"
      },
      "outputs": [
        {
          "data": {
            "text/plain": [
              "28.3"
            ]
          },
          "execution_count": 184,
          "metadata": {},
          "output_type": "execute_result"
        }
      ],
      "source": [
        "# максимальная температура\n",
        "data[:,3].max()"
      ]
    },
    {
      "cell_type": "markdown",
      "metadata": {
        "id": "i6mgsgxXDjw9"
      },
      "source": [
        "#### Функции sum, prod и trace"
      ]
    },
    {
      "cell_type": "code",
      "execution_count": null,
      "metadata": {
        "id": "k_iE6de6Djw9",
        "outputId": "7adf06f1-7102-4af9-9407-40b53a974573"
      },
      "outputs": [
        {
          "data": {
            "text/plain": [
              "array([0, 1, 2, 3, 4, 5, 6, 7, 8, 9])"
            ]
          },
          "execution_count": 185,
          "metadata": {},
          "output_type": "execute_result"
        }
      ],
      "source": [
        "d = arange(0, 10)\n",
        "d"
      ]
    },
    {
      "cell_type": "code",
      "execution_count": null,
      "metadata": {
        "id": "q9XjmfcVDjw9",
        "outputId": "82517a50-ce2d-4d62-94f4-61504b0aced5"
      },
      "outputs": [
        {
          "data": {
            "text/plain": [
              "45"
            ]
          },
          "execution_count": 186,
          "metadata": {},
          "output_type": "execute_result"
        }
      ],
      "source": [
        "# сумма всех элементов\n",
        "sum(d)"
      ]
    },
    {
      "cell_type": "code",
      "execution_count": null,
      "metadata": {
        "id": "yLDWfTzaDjw9",
        "outputId": "900e3665-71c2-443b-da6a-93407319da4c"
      },
      "outputs": [
        {
          "data": {
            "text/plain": [
              "3628800"
            ]
          },
          "execution_count": 187,
          "metadata": {},
          "output_type": "execute_result"
        }
      ],
      "source": [
        "# произведение всех элементов\n",
        "prod(d+1)"
      ]
    },
    {
      "cell_type": "code",
      "execution_count": null,
      "metadata": {
        "id": "fjVitwvtDjw9",
        "outputId": "90fe116b-64b4-4d98-b9ba-e6c10e092cc2"
      },
      "outputs": [
        {
          "data": {
            "text/plain": [
              "array([ 0,  1,  3,  6, 10, 15, 21, 28, 36, 45], dtype=int32)"
            ]
          },
          "execution_count": 188,
          "metadata": {},
          "output_type": "execute_result"
        }
      ],
      "source": [
        "# совокупная сумма\n",
        "cumsum(d)"
      ]
    },
    {
      "cell_type": "code",
      "execution_count": null,
      "metadata": {
        "id": "an2__bkaDjw9",
        "outputId": "019eec89-3893-4bc3-b2d6-5c63cd34e4a5"
      },
      "outputs": [
        {
          "data": {
            "text/plain": [
              "array([      1,       2,       6,      24,     120,     720,    5040,\n",
              "         40320,  362880, 3628800], dtype=int32)"
            ]
          },
          "execution_count": 189,
          "metadata": {},
          "output_type": "execute_result"
        }
      ],
      "source": [
        "# совокупное произведение\n",
        "cumprod(d+1)"
      ]
    },
    {
      "cell_type": "code",
      "execution_count": null,
      "metadata": {
        "id": "ynQMq9EJDjw-",
        "outputId": "8c4232e2-8fb5-4380-92f8-136b3f87b7f9"
      },
      "outputs": [
        {
          "data": {
            "text/plain": [
              "110"
            ]
          },
          "execution_count": 190,
          "metadata": {},
          "output_type": "execute_result"
        }
      ],
      "source": [
        "# тоже что и: diag(A).sum()\n",
        "trace(A)"
      ]
    },
    {
      "cell_type": "markdown",
      "metadata": {
        "id": "TI2VjH0UDjw-"
      },
      "source": [
        "### Вычисления на подмножествах массива"
      ]
    },
    {
      "cell_type": "markdown",
      "metadata": {
        "id": "hLYxf3PyDjw-"
      },
      "source": [
        "Можно выполнять вычисления на подмножествах используя индексирование, необычное индексирование и другие методы извлечения данных из массива.\n",
        "\n",
        "Рассмотрим данные массива температур в Стокгольме:"
      ]
    },
    {
      "cell_type": "markdown",
      "metadata": {
        "id": "VnExFZe5Djw-"
      },
      "source": [
        "Формат данных: год, месяц, день, дневная средняя температура, самая низкая, самая высокая, местность.\n",
        "\n",
        "Если необходимо извлечь среднюю температуру в какой-то конкретный месяц, например февраль, тогда нужно создать маску индексов и использовать ее для извлечения данных только за этот месяц:"
      ]
    },
    {
      "cell_type": "code",
      "execution_count": null,
      "metadata": {
        "id": "EQ7xYFI-Djw-",
        "outputId": "f9ef411e-22d1-4e0b-8574-14aaa5ada229"
      },
      "outputs": [
        {
          "data": {
            "text/plain": [
              "array([ 1.,  2.,  3.,  4.,  5.,  6.,  7.,  8.,  9., 10., 11., 12.])"
            ]
          },
          "execution_count": 191,
          "metadata": {},
          "output_type": "execute_result"
        }
      ],
      "source": [
        "unique(data[:,1]) # столбик месяцев от 1 до 12"
      ]
    },
    {
      "cell_type": "code",
      "execution_count": null,
      "metadata": {
        "id": "sP4B3LgrDjw-"
      },
      "outputs": [],
      "source": [
        "mask_feb = data[:,1] == 2"
      ]
    },
    {
      "cell_type": "code",
      "execution_count": null,
      "metadata": {
        "id": "6gmy522VDjw-",
        "outputId": "a290d421-736f-4c02-cc6c-3ef254be88ee"
      },
      "outputs": [
        {
          "data": {
            "text/plain": [
              "-3.212109570736596"
            ]
          },
          "execution_count": 193,
          "metadata": {},
          "output_type": "execute_result"
        }
      ],
      "source": [
        "# температурные данные в столбике 3\n",
        "mean(data[mask_feb,3])"
      ]
    },
    {
      "cell_type": "markdown",
      "metadata": {
        "id": "0aniD9j8Djw-"
      },
      "source": [
        "С этими интструментами открываются широкие возможности для обработки данных. Например, чтобы извлечь среднюю температуру за месяц по всем месяцам достаточно несколько строк кода:"
      ]
    },
    {
      "cell_type": "code",
      "execution_count": null,
      "metadata": {
        "id": "EaC0NeXQDjw-",
        "outputId": "03737651-766e-4eba-d22a-8727132ec958"
      },
      "outputs": [
        {
          "data": {
            "image/png": "[encoded data removed]",
            "text/plain": [
              "<Figure size 432x288 with 1 Axes>"
            ]
          },
          "metadata": {
            "needs_background": "light"
          },
          "output_type": "display_data"
        }
      ],
      "source": [
        "months = arange(1,13)\n",
        "monthly_mean = [mean(data[data[:,1] == month, 3]) for month in months]\n",
        "\n",
        "fig, ax = plt.subplots()\n",
        "ax.bar(months, monthly_mean)\n",
        "ax.set_xlabel(\"Month\")\n",
        "ax.set_ylabel(\"Monthly avg. temp.\");"
      ]
    },
    {
      "cell_type": "markdown",
      "metadata": {
        "id": "mwnyjlwyDjw_"
      },
      "source": [
        "### Вычисления с данными высокой размерности"
      ]
    },
    {
      "cell_type": "markdown",
      "metadata": {
        "id": "q3TCXZRADjw_"
      },
      "source": [
        "Когда функции, такие как `min`, `max` и т. д. применяются к многомерным массивам, иногда полезно применять расчет ко всему массиву, а иногда только на основе строки или столбца. Используя аргумент `axis`, мы можем указать, как должны вести себя эти функции:"
      ]
    },
    {
      "cell_type": "code",
      "execution_count": null,
      "metadata": {
        "id": "FeDQSpRFDjw_",
        "outputId": "f4d4a8b0-de70-4024-a28a-930b67b9fc2c"
      },
      "outputs": [
        {
          "data": {
            "text/plain": [
              "array([[0.86270493, 0.96981009, 0.96959743],\n",
              "       [0.35425871, 0.52085563, 0.48726959],\n",
              "       [0.61650805, 0.05690313, 0.1292265 ]])"
            ]
          },
          "execution_count": 195,
          "metadata": {},
          "output_type": "execute_result"
        }
      ],
      "source": [
        "m = random.rand(3,3)\n",
        "m"
      ]
    },
    {
      "cell_type": "code",
      "execution_count": null,
      "metadata": {
        "id": "QYQUcTvRDjw_",
        "outputId": "0c487939-c9ae-41db-9a8d-fba68b5de01b"
      },
      "outputs": [
        {
          "data": {
            "text/plain": [
              "0.9698100908575067"
            ]
          },
          "execution_count": 196,
          "metadata": {},
          "output_type": "execute_result"
        }
      ],
      "source": [
        "# максимум по массиву\n",
        "m.max()"
      ]
    },
    {
      "cell_type": "code",
      "execution_count": null,
      "metadata": {
        "id": "7fjO1A1vDjw_",
        "outputId": "1568a67d-ecbe-4e2c-f4b6-406293af14a9"
      },
      "outputs": [
        {
          "data": {
            "text/plain": [
              "array([0.86270493, 0.96981009, 0.96959743])"
            ]
          },
          "execution_count": 197,
          "metadata": {},
          "output_type": "execute_result"
        }
      ],
      "source": [
        "# максимумы по каждому столбцу\n",
        "m.max(axis=0)"
      ]
    },
    {
      "cell_type": "code",
      "execution_count": null,
      "metadata": {
        "id": "gc-zOA0mDjw_",
        "outputId": "bfc48f31-1fa2-4084-e2bb-b9340b3c9b07"
      },
      "outputs": [
        {
          "data": {
            "text/plain": [
              "array([0.96981009, 0.52085563, 0.61650805])"
            ]
          },
          "execution_count": 198,
          "metadata": {},
          "output_type": "execute_result"
        }
      ],
      "source": [
        "# максимумы по каждой строке\n",
        "m.max(axis=1)"
      ]
    },
    {
      "cell_type": "markdown",
      "metadata": {
        "id": "c8lDl3kGDjw_"
      },
      "source": [
        "Многие другие функции и методы в классах `array` и `matrix` принимают один и тот же (необязательный) аргумент ключевого слова `axis`."
      ]
    },
    {
      "cell_type": "markdown",
      "metadata": {
        "id": "jLZC6C8CDjw_"
      },
      "source": [
        "## Преобразования формы, размера и соединение массивов"
      ]
    },
    {
      "cell_type": "markdown",
      "metadata": {
        "id": "nK7FyzMDDjw_"
      },
      "source": [
        "Форма массива Numpy может быть изменена без копирования базовых данных, что делает его быстрой операцией даже для больших массивов."
      ]
    },
    {
      "cell_type": "code",
      "execution_count": null,
      "metadata": {
        "id": "p8K1VWYPDjw_",
        "outputId": "5bfac14a-8eb2-47ec-be4a-b0b4f3365afa"
      },
      "outputs": [
        {
          "data": {
            "text/plain": [
              "array([[ 0,  1,  2,  3,  4],\n",
              "       [10, 11, 12, 13, 14],\n",
              "       [20, 21, 22, 23, 24],\n",
              "       [30, 31, 32, 33, 34],\n",
              "       [40, 41, 42, 43, 44]])"
            ]
          },
          "execution_count": 199,
          "metadata": {},
          "output_type": "execute_result"
        }
      ],
      "source": [
        "A"
      ]
    },
    {
      "cell_type": "code",
      "execution_count": null,
      "metadata": {
        "id": "DBshTATODjxA"
      },
      "outputs": [],
      "source": [
        "n, m = A.shape"
      ]
    },
    {
      "cell_type": "code",
      "execution_count": null,
      "metadata": {
        "id": "NMfnbgQ6DjxA",
        "outputId": "491ce68c-d905-47d9-dd8b-a182c4795008"
      },
      "outputs": [
        {
          "data": {
            "text/plain": [
              "array([[ 0,  1,  2,  3,  4, 10, 11, 12, 13, 14, 20, 21, 22, 23, 24, 30,\n",
              "        31, 32, 33, 34, 40, 41, 42, 43, 44]])"
            ]
          },
          "execution_count": 201,
          "metadata": {},
          "output_type": "execute_result"
        }
      ],
      "source": [
        "B = A.reshape((1,n*m))\n",
        "B"
      ]
    },
    {
      "cell_type": "code",
      "execution_count": null,
      "metadata": {
        "id": "Lr4PA3LcDjxA",
        "outputId": "80e8f879-3b34-4d32-f116-f4153efe0c85"
      },
      "outputs": [
        {
          "data": {
            "text/plain": [
              "array([[ 5,  5,  5,  5,  5, 10, 11, 12, 13, 14, 20, 21, 22, 23, 24, 30,\n",
              "        31, 32, 33, 34, 40, 41, 42, 43, 44]])"
            ]
          },
          "execution_count": 202,
          "metadata": {},
          "output_type": "execute_result"
        }
      ],
      "source": [
        "B[0,0:5] = 5 # изменим массив\n",
        "\n",
        "B"
      ]
    },
    {
      "cell_type": "code",
      "execution_count": null,
      "metadata": {
        "id": "K0b_14uLDjxA",
        "outputId": "856e05fb-1d7c-40e7-bedb-1b42f2a51b68"
      },
      "outputs": [
        {
          "data": {
            "text/plain": [
              "array([[ 5,  5,  5,  5,  5],\n",
              "       [10, 11, 12, 13, 14],\n",
              "       [20, 21, 22, 23, 24],\n",
              "       [30, 31, 32, 33, 34],\n",
              "       [40, 41, 42, 43, 44]])"
            ]
          },
          "execution_count": 203,
          "metadata": {},
          "output_type": "execute_result"
        }
      ],
      "source": [
        "A # и оригинальные данные тоже изменятся. A и B это ссылки на одни и теже данные"
      ]
    },
    {
      "cell_type": "markdown",
      "metadata": {
        "id": "rUGftucJDjxA"
      },
      "source": [
        "Мы также можем использовать функцию `flatten`, чтобы превратить массив более высоких измерений в вектор. Но эта функция создает копию данных."
      ]
    },
    {
      "cell_type": "code",
      "execution_count": null,
      "metadata": {
        "id": "h9cgymI1DjxA",
        "outputId": "332db7ab-4b65-4908-d809-7e4f515de5fe"
      },
      "outputs": [
        {
          "data": {
            "text/plain": [
              "array([ 5,  5,  5,  5,  5, 10, 11, 12, 13, 14, 20, 21, 22, 23, 24, 30, 31,\n",
              "       32, 33, 34, 40, 41, 42, 43, 44])"
            ]
          },
          "execution_count": 204,
          "metadata": {},
          "output_type": "execute_result"
        }
      ],
      "source": [
        "B = A.flatten()\n",
        "\n",
        "B"
      ]
    },
    {
      "cell_type": "code",
      "execution_count": null,
      "metadata": {
        "id": "WtKDY9q7DjxA",
        "outputId": "5f580923-2f0f-4905-9681-51ac005fc0de"
      },
      "outputs": [
        {
          "data": {
            "text/plain": [
              "array([10, 10, 10, 10, 10, 10, 11, 12, 13, 14, 20, 21, 22, 23, 24, 30, 31,\n",
              "       32, 33, 34, 40, 41, 42, 43, 44])"
            ]
          },
          "execution_count": 205,
          "metadata": {},
          "output_type": "execute_result"
        }
      ],
      "source": [
        "B[0:5] = 10\n",
        "\n",
        "B"
      ]
    },
    {
      "cell_type": "code",
      "execution_count": null,
      "metadata": {
        "id": "IA6w5pm_DjxA",
        "outputId": "f2ceec47-d2b5-4b28-9f0b-a668e8de98ba"
      },
      "outputs": [
        {
          "data": {
            "text/plain": [
              "array([[ 5,  5,  5,  5,  5],\n",
              "       [10, 11, 12, 13, 14],\n",
              "       [20, 21, 22, 23, 24],\n",
              "       [30, 31, 32, 33, 34],\n",
              "       [40, 41, 42, 43, 44]])"
            ]
          },
          "execution_count": 206,
          "metadata": {},
          "output_type": "execute_result"
        }
      ],
      "source": [
        "A # теперь A неизменилась, поскольку данные B это копия A, теперь B не ссылается на те же данные."
      ]
    },
    {
      "cell_type": "markdown",
      "metadata": {
        "id": "-e99iE56DjxA"
      },
      "source": [
        "## Дополнение новых размерностей: newaxis"
      ]
    },
    {
      "cell_type": "markdown",
      "metadata": {
        "id": "J9C0n3TfDjxB"
      },
      "source": [
        "С `newaxis`, можно добавить новые размерности в массив. Например, превратить вектор в матрицу:"
      ]
    },
    {
      "cell_type": "code",
      "execution_count": null,
      "metadata": {
        "id": "oZfxEl9WDjxB"
      },
      "outputs": [],
      "source": [
        "v = array([1,2,3])"
      ]
    },
    {
      "cell_type": "code",
      "execution_count": null,
      "metadata": {
        "id": "4EgfkYo9DjxB",
        "outputId": "1f649077-96d0-42d5-b769-49c4a8f51ddd"
      },
      "outputs": [
        {
          "data": {
            "text/plain": [
              "(3,)"
            ]
          },
          "execution_count": 208,
          "metadata": {},
          "output_type": "execute_result"
        }
      ],
      "source": [
        "shape(v)"
      ]
    },
    {
      "cell_type": "code",
      "execution_count": null,
      "metadata": {
        "id": "K8-WOYyRDjxB",
        "outputId": "a03448b0-3911-4337-c515-2570c0d57d6c"
      },
      "outputs": [
        {
          "data": {
            "text/plain": [
              "array([[1],\n",
              "       [2],\n",
              "       [3]])"
            ]
          },
          "execution_count": 209,
          "metadata": {},
          "output_type": "execute_result"
        }
      ],
      "source": [
        "# создание столбца матрицы из вектора v\n",
        "v[:, newaxis]"
      ]
    },
    {
      "cell_type": "code",
      "execution_count": null,
      "metadata": {
        "id": "f6aQsnSEDjxB",
        "outputId": "2de5b398-8e3c-49fc-e2bb-a5d121f69240"
      },
      "outputs": [
        {
          "data": {
            "text/plain": [
              "(3, 1)"
            ]
          },
          "execution_count": 210,
          "metadata": {},
          "output_type": "execute_result"
        }
      ],
      "source": [
        "# столбец матрицы\n",
        "v[:,newaxis].shape"
      ]
    },
    {
      "cell_type": "code",
      "execution_count": null,
      "metadata": {
        "id": "Si-cqh65DjxB",
        "outputId": "126cfb91-48d2-4728-d334-f56411fd48a5"
      },
      "outputs": [
        {
          "data": {
            "text/plain": [
              "(1, 3)"
            ]
          },
          "execution_count": 211,
          "metadata": {},
          "output_type": "execute_result"
        }
      ],
      "source": [
        "# строка матрицы\n",
        "v[newaxis,:].shape"
      ]
    },
    {
      "cell_type": "markdown",
      "metadata": {
        "id": "DGWTepzYDjxB"
      },
      "source": [
        "## Соединение и повторение массивов"
      ]
    },
    {
      "cell_type": "markdown",
      "metadata": {
        "id": "5DABYPjxDjxB"
      },
      "source": [
        "Используя функции `repeat`, `tile`, `vstack`, `hstack` и `concatenate` мы можем создать больше векторов и матриц из более мелких:"
      ]
    },
    {
      "cell_type": "markdown",
      "metadata": {
        "id": "-O09qAA0DjxB"
      },
      "source": [
        "### `tile` и `repeat`"
      ]
    },
    {
      "cell_type": "code",
      "execution_count": null,
      "metadata": {
        "id": "lfOmYS__DjxB"
      },
      "outputs": [],
      "source": [
        "a = array([[1, 2], [3, 4]])"
      ]
    },
    {
      "cell_type": "code",
      "execution_count": null,
      "metadata": {
        "id": "LP6J_-7kDjxC",
        "outputId": "33ed76a9-92f1-4964-bd7f-9683b76449a9"
      },
      "outputs": [
        {
          "data": {
            "text/plain": [
              "array([1, 1, 1, 2, 2, 2, 3, 3, 3, 4, 4, 4])"
            ]
          },
          "execution_count": 213,
          "metadata": {},
          "output_type": "execute_result"
        }
      ],
      "source": [
        "# повторить каждый элемент 3 раза\n",
        "repeat(a, 3)"
      ]
    },
    {
      "cell_type": "code",
      "execution_count": null,
      "metadata": {
        "id": "0BHYCiBJDjxC",
        "outputId": "a2ccc6e5-6f1a-4ea0-9e97-a9644ae84530"
      },
      "outputs": [
        {
          "data": {
            "text/plain": [
              "array([[1, 2, 1, 2, 1, 2],\n",
              "       [3, 4, 3, 4, 3, 4]])"
            ]
          },
          "execution_count": 214,
          "metadata": {},
          "output_type": "execute_result"
        }
      ],
      "source": [
        "# повторить матрицу 3 раза\n",
        "tile(a, 3)"
      ]
    },
    {
      "cell_type": "markdown",
      "metadata": {
        "id": "KSPVnhQ3DjxC"
      },
      "source": [
        "### `concatenate`"
      ]
    },
    {
      "cell_type": "code",
      "execution_count": null,
      "metadata": {
        "id": "Z67705jUDjxC"
      },
      "outputs": [],
      "source": [
        "b = array([[5, 6]])"
      ]
    },
    {
      "cell_type": "code",
      "execution_count": null,
      "metadata": {
        "id": "nVE44pwJDjxC",
        "outputId": "05238255-cde5-4999-b4ec-615323c9183b"
      },
      "outputs": [
        {
          "data": {
            "text/plain": [
              "array([[1, 2],\n",
              "       [3, 4],\n",
              "       [5, 6]])"
            ]
          },
          "execution_count": 216,
          "metadata": {},
          "output_type": "execute_result"
        }
      ],
      "source": [
        "concatenate((a, b), axis=0)"
      ]
    },
    {
      "cell_type": "code",
      "execution_count": null,
      "metadata": {
        "id": "Vj7ZrQ-4DjxC",
        "outputId": "d1b90fbd-07b4-4438-f813-48a841c3a7f8"
      },
      "outputs": [
        {
          "data": {
            "text/plain": [
              "array([[1, 2, 5],\n",
              "       [3, 4, 6]])"
            ]
          },
          "execution_count": 217,
          "metadata": {},
          "output_type": "execute_result"
        }
      ],
      "source": [
        "concatenate((a, b.T), axis=1)"
      ]
    },
    {
      "cell_type": "markdown",
      "metadata": {
        "id": "ey52kVpJDjxC"
      },
      "source": [
        "### `hstack` и `vstack`"
      ]
    },
    {
      "cell_type": "code",
      "execution_count": null,
      "metadata": {
        "id": "fJcZgXgaDjxC",
        "outputId": "410f645e-1505-46bc-eb80-39b95d790566"
      },
      "outputs": [
        {
          "data": {
            "text/plain": [
              "array([[1, 2],\n",
              "       [3, 4],\n",
              "       [5, 6]])"
            ]
          },
          "execution_count": 218,
          "metadata": {},
          "output_type": "execute_result"
        }
      ],
      "source": [
        "vstack((a,b))"
      ]
    },
    {
      "cell_type": "code",
      "execution_count": null,
      "metadata": {
        "id": "3kaELV1vDjxC",
        "outputId": "0050b494-3cd8-4487-c17b-ef4e1b5b6c90"
      },
      "outputs": [
        {
          "data": {
            "text/plain": [
              "array([[1, 2, 5],\n",
              "       [3, 4, 6]])"
            ]
          },
          "execution_count": 219,
          "metadata": {},
          "output_type": "execute_result"
        }
      ],
      "source": [
        "hstack((a,b.T))"
      ]
    },
    {
      "cell_type": "markdown",
      "metadata": {
        "id": "2GdgExcgDjxC"
      },
      "source": [
        "## Копия и \"глубокая копия\""
      ]
    },
    {
      "cell_type": "markdown",
      "metadata": {
        "id": "crWOYDLvDjxD"
      },
      "source": [
        "Для достижения высокой производительности назначения в Python обычно не копируют базовые объекты. Это важно, например, когда объекты передаются между функциями, чтобы избежать чрезмерного объема копирования памяти, когда это не является необходимым (технический термин: пропуск по ссылке)."
      ]
    },
    {
      "cell_type": "code",
      "execution_count": null,
      "metadata": {
        "id": "Vc7m0pN7DjxD",
        "outputId": "315b4714-608d-44a7-e567-9487d28e1d02"
      },
      "outputs": [
        {
          "data": {
            "text/plain": [
              "array([[1, 2],\n",
              "       [3, 4]])"
            ]
          },
          "execution_count": 220,
          "metadata": {},
          "output_type": "execute_result"
        }
      ],
      "source": [
        "A = array([[1, 2], [3, 4]])\n",
        "\n",
        "A"
      ]
    },
    {
      "cell_type": "code",
      "execution_count": null,
      "metadata": {
        "id": "XZhkJDTLDjxD"
      },
      "outputs": [],
      "source": [
        "# теперь В ссылается натеже данные, что и А\n",
        "B = A"
      ]
    },
    {
      "cell_type": "code",
      "execution_count": null,
      "metadata": {
        "id": "V39sYsghDjxD",
        "outputId": "172c3802-303b-432a-84d0-47fd49e750d4"
      },
      "outputs": [
        {
          "data": {
            "text/plain": [
              "array([[10,  2],\n",
              "       [ 3,  4]])"
            ]
          },
          "execution_count": 222,
          "metadata": {},
          "output_type": "execute_result"
        }
      ],
      "source": [
        "# изменения B отражаются в A\n",
        "B[0,0] = 10\n",
        "\n",
        "B"
      ]
    },
    {
      "cell_type": "code",
      "execution_count": null,
      "metadata": {
        "id": "7UKf-F00DjxD",
        "outputId": "25a95344-ea11-49be-b52a-a048d1719d2f"
      },
      "outputs": [
        {
          "data": {
            "text/plain": [
              "array([[10,  2],\n",
              "       [ 3,  4]])"
            ]
          },
          "execution_count": 223,
          "metadata": {},
          "output_type": "execute_result"
        }
      ],
      "source": [
        "A"
      ]
    },
    {
      "cell_type": "markdown",
      "metadata": {
        "id": "pb82-ybIDjxD"
      },
      "source": [
        "Если мы хотим избежать такого поведения, чтобы при получении нового полностью независимого объекта `B`, скопированного из `A`, нам нужно было сделать так называемое \"глубокое копирование\" с помощью функции `copy`:"
      ]
    },
    {
      "cell_type": "code",
      "execution_count": null,
      "metadata": {
        "id": "2qIzt6p8DjxD"
      },
      "outputs": [],
      "source": [
        "B = copy(A)"
      ]
    },
    {
      "cell_type": "code",
      "execution_count": null,
      "metadata": {
        "id": "XzDXmML4DjxD",
        "outputId": "b9c90f31-3091-4e14-b857-ba634b0a32db"
      },
      "outputs": [
        {
          "data": {
            "text/plain": [
              "array([[10,  2],\n",
              "       [ 3,  4]])"
            ]
          },
          "execution_count": 225,
          "metadata": {},
          "output_type": "execute_result"
        }
      ],
      "source": [
        "# теперь при изменении В, А не меняется\n",
        "\n",
        "B"
      ]
    },
    {
      "cell_type": "code",
      "execution_count": null,
      "metadata": {
        "id": "W6LeLAE5DjxD",
        "outputId": "728f34c2-fe6f-4111-a177-4c28aec4d78f"
      },
      "outputs": [
        {
          "data": {
            "text/plain": [
              "array([[10,  2],\n",
              "       [ 3,  4]])"
            ]
          },
          "execution_count": 226,
          "metadata": {},
          "output_type": "execute_result"
        }
      ],
      "source": [
        "A"
      ]
    },
    {
      "cell_type": "markdown",
      "metadata": {
        "id": "nBnAI5WIDjxD"
      },
      "source": [
        "## Иттерация на элементах массива"
      ]
    },
    {
      "cell_type": "markdown",
      "metadata": {
        "id": "NWGKwXc-DjxE"
      },
      "source": [
        "Как правило, мы хотим избежать повторения элементов массивов всякий раз, когда это возможно (любой ценой). Причина в том, что в интерпретируемом языке, таком как Python (или MATLAB), итерации действительно медленны по сравнению с векторизованными операциями.\n",
        "\n",
        "Однако, иногда итерации неизбежны. Для таких случаев цикл Python `for` является наиболее удобным способом перебора массива:"
      ]
    },
    {
      "cell_type": "code",
      "execution_count": null,
      "metadata": {
        "id": "w4Pd3AkODjxE",
        "outputId": "f0a6ebe3-a804-4227-ca6c-2e2bb293f6d7"
      },
      "outputs": [
        {
          "name": "stdout",
          "output_type": "stream",
          "text": [
            "1\n",
            "2\n",
            "3\n",
            "4\n"
          ]
        }
      ],
      "source": [
        "v = array([1,2,3,4])\n",
        "\n",
        "for element in v:\n",
        "    print(element)"
      ]
    },
    {
      "cell_type": "code",
      "execution_count": null,
      "metadata": {
        "id": "sBs7TQf_DjxE",
        "outputId": "69a953f9-5aa0-4e72-aace-72c1bd0b92db"
      },
      "outputs": [
        {
          "name": "stdout",
          "output_type": "stream",
          "text": [
            "row [1 2]\n",
            "1\n",
            "2\n",
            "row [3 4]\n",
            "3\n",
            "4\n"
          ]
        }
      ],
      "source": [
        "M = array([[1,2], [3,4]])\n",
        "\n",
        "for row in M:\n",
        "    print(\"row\", row)\n",
        "\n",
        "    for element in row:\n",
        "        print(element)"
      ]
    },
    {
      "cell_type": "markdown",
      "metadata": {
        "id": "0J59TJGwDjxE"
      },
      "source": [
        "Когда нам нужно перебирать каждый элемент массива и изменять его элементы, удобно использовать функцию `enumerate` для получения как элемента, так и его индекса в цикле `for` :"
      ]
    },
    {
      "cell_type": "code",
      "execution_count": null,
      "metadata": {
        "id": "LpvZZJi9DjxE",
        "outputId": "0d63d04b-76d9-4247-aacd-9556d81b49f4"
      },
      "outputs": [
        {
          "name": "stdout",
          "output_type": "stream",
          "text": [
            "row_idx 0 row [1 2]\n",
            "col_idx 0 element 1\n",
            "col_idx 1 element 2\n",
            "row_idx 1 row [3 4]\n",
            "col_idx 0 element 3\n",
            "col_idx 1 element 4\n"
          ]
        }
      ],
      "source": [
        "for row_idx, row in enumerate(M):\n",
        "    print(\"row_idx\", row_idx, \"row\", row)\n",
        "\n",
        "    for col_idx, element in enumerate(row):\n",
        "        print(\"col_idx\", col_idx, \"element\", element)\n",
        "\n",
        "        # обновляет матрицу M: возводя ее элементы в квадрат\n",
        "        M[row_idx, col_idx] = element ** 2"
      ]
    },
    {
      "cell_type": "code",
      "execution_count": null,
      "metadata": {
        "id": "Q3SH9QyuDjxE",
        "outputId": "83149c73-dd6c-481b-b362-b1ca5f6063a6"
      },
      "outputs": [
        {
          "data": {
            "text/plain": [
              "array([[ 1,  4],\n",
              "       [ 9, 16]])"
            ]
          },
          "execution_count": 230,
          "metadata": {},
          "output_type": "execute_result"
        }
      ],
      "source": [
        "# каждый элемент в M возведен в квадрат\n",
        "M"
      ]
    },
    {
      "cell_type": "markdown",
      "metadata": {
        "id": "5bPB2b6fDjxE"
      },
      "source": [
        "## Векторные функции"
      ]
    },
    {
      "cell_type": "markdown",
      "metadata": {
        "id": "4NvHSbS5DjxE"
      },
      "source": [
        "Как уже упоминалось несколько раз, чтобы получить хорошую производительность, мы должны стараться избегать циклического перебора элементов в наших векторах и матрицах, а вместо этого использовать векторизованные алгоритмы. Первый шаг в преобразовании скалярного алгоритма в векторизованный алгоритм заключается в том, чтобы убедиться, что функции, которые мы пишем, работают с векторными входными данными."
      ]
    },
    {
      "cell_type": "code",
      "execution_count": null,
      "metadata": {
        "id": "-Tsbo-ycDjxE"
      },
      "outputs": [],
      "source": [
        "def Theta(x):\n",
        "    \"\"\"\n",
        "    Скалярная реализация функции порога Хевисайда.\n",
        "    \"\"\"\n",
        "    if x >= 0:\n",
        "        return 1\n",
        "    else:\n",
        "        return 0"
      ]
    },
    {
      "cell_type": "code",
      "execution_count": null,
      "metadata": {
        "id": "HMMaCvUQDjxF",
        "outputId": "1c86129e-feff-4457-8279-507397a66d91"
      },
      "outputs": [
        {
          "ename": "ValueError",
          "evalue": "The truth value of an array with more than one element is ambiguous. Use a.any() or a.all()",
          "output_type": "error",
          "traceback": [
            "\u001b[1;31m---------------------------------------------------------------------------\u001b[0m",
            "\u001b[1;31mValueError\u001b[0m                                Traceback (most recent call last)",
            "\u001b[1;32m<ipython-input-232-2cb2062a7e18>\u001b[0m in \u001b[0;36m<module>\u001b[1;34m\u001b[0m\n\u001b[1;32m----> 1\u001b[1;33m \u001b[0mTheta\u001b[0m\u001b[1;33m(\u001b[0m\u001b[0marray\u001b[0m\u001b[1;33m(\u001b[0m\u001b[1;33m[\u001b[0m\u001b[1;33m-\u001b[0m\u001b[1;36m3\u001b[0m\u001b[1;33m,\u001b[0m\u001b[1;33m-\u001b[0m\u001b[1;36m2\u001b[0m\u001b[1;33m,\u001b[0m\u001b[1;33m-\u001b[0m\u001b[1;36m1\u001b[0m\u001b[1;33m,\u001b[0m\u001b[1;36m0\u001b[0m\u001b[1;33m,\u001b[0m\u001b[1;36m1\u001b[0m\u001b[1;33m,\u001b[0m\u001b[1;36m2\u001b[0m\u001b[1;33m,\u001b[0m\u001b[1;36m3\u001b[0m\u001b[1;33m]\u001b[0m\u001b[1;33m)\u001b[0m\u001b[1;33m)\u001b[0m\u001b[1;33m\u001b[0m\u001b[1;33m\u001b[0m\u001b[0m\n\u001b[0m",
            "\u001b[1;32m<ipython-input-231-c9c3b027fcc6>\u001b[0m in \u001b[0;36mTheta\u001b[1;34m(x)\u001b[0m\n\u001b[0;32m      3\u001b[0m     \u001b[0mСкалярная\u001b[0m \u001b[0mреализация\u001b[0m \u001b[0mфункции\u001b[0m \u001b[0mпорога\u001b[0m \u001b[0mХевисайда\u001b[0m\u001b[1;33m.\u001b[0m\u001b[1;33m\u001b[0m\u001b[1;33m\u001b[0m\u001b[0m\n\u001b[0;32m      4\u001b[0m     \"\"\"\n\u001b[1;32m----> 5\u001b[1;33m     \u001b[1;32mif\u001b[0m \u001b[0mx\u001b[0m \u001b[1;33m>=\u001b[0m \u001b[1;36m0\u001b[0m\u001b[1;33m:\u001b[0m\u001b[1;33m\u001b[0m\u001b[1;33m\u001b[0m\u001b[0m\n\u001b[0m\u001b[0;32m      6\u001b[0m         \u001b[1;32mreturn\u001b[0m \u001b[1;36m1\u001b[0m\u001b[1;33m\u001b[0m\u001b[1;33m\u001b[0m\u001b[0m\n\u001b[0;32m      7\u001b[0m     \u001b[1;32melse\u001b[0m\u001b[1;33m:\u001b[0m\u001b[1;33m\u001b[0m\u001b[1;33m\u001b[0m\u001b[0m\n",
            "\u001b[1;31mValueError\u001b[0m: The truth value of an array with more than one element is ambiguous. Use a.any() or a.all()"
          ]
        }
      ],
      "source": [
        "Theta(array([-3,-2,-1,0,1,2,3]))"
      ]
    },
    {
      "cell_type": "markdown",
      "metadata": {
        "id": "42k1Q_WSDjxF"
      },
      "source": [
        "Хорошо, это не сработало, потому что мы не написали функцию `Theta`, чтобы она могла обрабатывать векторный ввод...\n",
        "\n",
        "Чтобы получить векторизованную версию теты, мы можем использовать функцию Numpy `vectorize`. Во многих случаях он может автоматически векторизовать функцию:"
      ]
    },
    {
      "cell_type": "code",
      "execution_count": null,
      "metadata": {
        "id": "KsoWzrhbDjxF"
      },
      "outputs": [],
      "source": [
        "Theta_vec = vectorize(Theta)"
      ]
    },
    {
      "cell_type": "code",
      "execution_count": null,
      "metadata": {
        "id": "-QE9hjnmDjxF",
        "outputId": "b9b88f27-4bb4-485d-e209-0c4ef41a3428"
      },
      "outputs": [
        {
          "data": {
            "text/plain": [
              "array([0, 0, 0, 1, 1, 1, 1])"
            ]
          },
          "execution_count": 234,
          "metadata": {},
          "output_type": "execute_result"
        }
      ],
      "source": [
        "Theta_vec(array([-3,-2,-1,0,1,2,3]))"
      ]
    },
    {
      "cell_type": "markdown",
      "metadata": {
        "id": "uE9Qm5h8DjxF"
      },
      "source": [
        "Мы также можем реализовать функцию для приема векторного ввода с самого начала (требует больше усилий, но может дать лучшую производительность):"
      ]
    },
    {
      "cell_type": "code",
      "execution_count": null,
      "metadata": {
        "id": "NdCITa3KDjxF"
      },
      "outputs": [],
      "source": [
        "def Theta(x):\n",
        "    \"\"\"\n",
        "    Vector-aware implemenation of the Heaviside step function.\n",
        "    \"\"\"\n",
        "    return 1 * (x >= 0)"
      ]
    },
    {
      "cell_type": "code",
      "execution_count": null,
      "metadata": {
        "id": "RkdS6owWDjxF",
        "outputId": "99b76c9b-33e2-498b-baf3-db217d3bc65b"
      },
      "outputs": [
        {
          "data": {
            "text/plain": [
              "array([0, 0, 0, 1, 1, 1, 1])"
            ]
          },
          "execution_count": 236,
          "metadata": {},
          "output_type": "execute_result"
        }
      ],
      "source": [
        "Theta(array([-3,-2,-1,0,1,2,3]))"
      ]
    },
    {
      "cell_type": "code",
      "execution_count": null,
      "metadata": {
        "id": "-bhi1jXIDjxF",
        "outputId": "b3d90851-8f35-44fc-ae86-0586cb4bd18b"
      },
      "outputs": [
        {
          "data": {
            "text/plain": [
              "(0, 1)"
            ]
          },
          "execution_count": 237,
          "metadata": {},
          "output_type": "execute_result"
        }
      ],
      "source": [
        "# still works for scalars as well\n",
        "Theta(-1.2), Theta(2.6)"
      ]
    },
    {
      "cell_type": "markdown",
      "metadata": {
        "id": "nHSahYtMDjxF"
      },
      "source": [
        "## Использование массива в условии"
      ]
    },
    {
      "cell_type": "markdown",
      "metadata": {
        "id": "8A33JCvwDjxF"
      },
      "source": [
        "При использовании массивов в условиях, например, `if` операторы и другие логические выражения, нужно использовать `any` или `all`, что требует, чтобы любой или все элементы в массиве равнялись `True`:"
      ]
    },
    {
      "cell_type": "code",
      "execution_count": null,
      "metadata": {
        "id": "TXiu-663DjxG",
        "outputId": "a36fe345-8d7e-4e42-a714-5467c40aa55b"
      },
      "outputs": [
        {
          "data": {
            "text/plain": [
              "array([[ 1,  4],\n",
              "       [ 9, 16]])"
            ]
          },
          "execution_count": 238,
          "metadata": {},
          "output_type": "execute_result"
        }
      ],
      "source": [
        "M"
      ]
    },
    {
      "cell_type": "code",
      "execution_count": null,
      "metadata": {
        "id": "2uwYUqgkDjxG",
        "outputId": "a49565a2-17c3-44c1-84df-d25892dd367d"
      },
      "outputs": [
        {
          "name": "stdout",
          "output_type": "stream",
          "text": [
            "at least one element in M is larger than 5\n"
          ]
        }
      ],
      "source": [
        "if (M > 5).any():\n",
        "    print(\"at least one element in M is larger than 5\")\n",
        "else:\n",
        "    print(\"no element in M is larger than 5\")"
      ]
    },
    {
      "cell_type": "code",
      "execution_count": null,
      "metadata": {
        "id": "ligWJM_UDjxG",
        "outputId": "c891c1ac-72c4-457c-adad-90f4c8adef5e"
      },
      "outputs": [
        {
          "name": "stdout",
          "output_type": "stream",
          "text": [
            "all elements in M are not larger than 5\n"
          ]
        }
      ],
      "source": [
        "if (M > 5).all():\n",
        "    print(\"all elements in M are larger than 5\")\n",
        "else:\n",
        "    print(\"all elements in M are not larger than 5\")"
      ]
    },
    {
      "cell_type": "markdown",
      "metadata": {
        "id": "i-wDHg5MDjxG"
      },
      "source": [
        "## Подбор типа"
      ]
    },
    {
      "cell_type": "markdown",
      "metadata": {
        "id": "f5k8-WV7DjxG"
      },
      "source": [
        "Поскольку массивы Numpy статически типизированы, тип массива не изменяется после его создания. Но мы можем явно привести массив некоторого типа к другому, используя функции `astype` (см. также аналогичную функцию `asarray`). Это всегда создает новый массив нового типа:"
      ]
    },
    {
      "cell_type": "code",
      "execution_count": null,
      "metadata": {
        "id": "-c6iRKTUDjxG",
        "outputId": "2f3f3a62-7fe9-4ebc-a9a0-871c9e4ed791"
      },
      "outputs": [
        {
          "data": {
            "text/plain": [
              "dtype('int32')"
            ]
          },
          "execution_count": 241,
          "metadata": {},
          "output_type": "execute_result"
        }
      ],
      "source": [
        "M.dtype"
      ]
    },
    {
      "cell_type": "code",
      "execution_count": null,
      "metadata": {
        "id": "T3HGznnyDjxG",
        "outputId": "dd89b701-8cf0-4557-d6c3-c0aad93c522f"
      },
      "outputs": [
        {
          "data": {
            "text/plain": [
              "array([[ 1.,  4.],\n",
              "       [ 9., 16.]])"
            ]
          },
          "execution_count": 242,
          "metadata": {},
          "output_type": "execute_result"
        }
      ],
      "source": [
        "M2 = M.astype(float)\n",
        "\n",
        "M2"
      ]
    },
    {
      "cell_type": "code",
      "execution_count": null,
      "metadata": {
        "id": "4DjumxxUDjxG",
        "outputId": "bd1e9846-319f-40e8-b7c2-7326b06ecf09"
      },
      "outputs": [
        {
          "data": {
            "text/plain": [
              "dtype('float64')"
            ]
          },
          "execution_count": 243,
          "metadata": {},
          "output_type": "execute_result"
        }
      ],
      "source": [
        "M2.dtype"
      ]
    },
    {
      "cell_type": "code",
      "execution_count": null,
      "metadata": {
        "id": "hGqcN3c4DjxG",
        "outputId": "bdc6badc-5d76-45a8-cd61-90541a0eff6d"
      },
      "outputs": [
        {
          "data": {
            "text/plain": [
              "array([[ True,  True],\n",
              "       [ True,  True]])"
            ]
          },
          "execution_count": 244,
          "metadata": {},
          "output_type": "execute_result"
        }
      ],
      "source": [
        "M3 = M.astype(bool)\n",
        "\n",
        "M3"
      ]
    },
    {
      "cell_type": "markdown",
      "metadata": {
        "id": "IvQZ1v0ODjxH"
      },
      "source": [
        "## Дальнейшее изучение"
      ]
    },
    {
      "cell_type": "markdown",
      "metadata": {
        "id": "8cu-DhaODjxH"
      },
      "source": [
        "* http://numpy.scipy.org\n",
        "* [Tentative NumPy Tutorial](http://scipy.org/Tentative_NumPy_Tutorial)\n",
        "* [A Numpy guide for MATLAB users](http://scipy.org/NumPy_for_Matlab_Users).\n",
        "* Этот [материал](http://github.com/jrjohansson/scientific-python-lectures) создан на основе книг [J.R. Johansson](http://jrjohansson.github.io)."
      ]
    },
    {
      "cell_type": "code",
      "execution_count": null,
      "metadata": {
        "id": "Br8rln6cDjxH"
      },
      "outputs": [],
      "source": []
    }
  ],
  "metadata": {
    "kernelspec": {
      "display_name": "Python 3 (ipykernel)",
      "language": "python",
      "name": "python3"
    },
    "language_info": {
      "codemirror_mode": {
        "name": "ipython",
        "version": 3
      },
      "file_extension": ".py",
      "mimetype": "text/x-python",
      "name": "python",
      "nbconvert_exporter": "python",
      "pygments_lexer": "ipython3",
      "version": "3.8.0"
    },
    "nbTranslate": {
      "displayLangs": [
        "*"
      ],
      "hotkey": "alt-t",
      "langInMainMenu": true,
      "sourceLang": "en",
      "targetLang": "fr",
      "useGoogleTranslate": true
    },
    "colab": {
      "provenance": []
    }
  },
  "nbformat": 4,
  "nbformat_minor": 0
}