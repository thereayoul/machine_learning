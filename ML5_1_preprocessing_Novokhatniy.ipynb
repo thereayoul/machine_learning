{
  "cells": [
    {
      "cell_type": "markdown",
      "source": [
        "# Предварительная обработка данных."
      ],
      "metadata": {
        "id": "8qgDuTwythfc"
      },
      "id": "8qgDuTwythfc"
    },
    {
      "cell_type": "code",
      "execution_count": null,
      "id": "537b8558",
      "metadata": {
        "id": "537b8558"
      },
      "outputs": [],
      "source": [
        "import pandas as pd\n",
        "import seaborn as sns\n",
        "import numpy as np\n",
        "import scipy\n",
        "import matplotlib.pyplot as plt\n",
        "from sklearn.linear_model import LinearRegression\n",
        "from sklearn.model_selection import train_test_split\n",
        "from sklearn.metrics import mean_squared_log_error\n",
        "from sklearn.metrics import r2_score\n",
        "from sklearn.metrics import mean_absolute_error\n",
        "from sklearn.metrics import mean_squared_error"
      ]
    },
    {
      "cell_type": "markdown",
      "id": "75ee3081",
      "metadata": {
        "id": "75ee3081"
      },
      "source": [
        "1 Загрузите и прочитайте в pandas приложенный датасет. Обратите внимание, что датасет собран «криво», поэтому прежде чем он «правильно» загрузится (рис.1), необходимо его обработать."
      ]
    },
    {
      "cell_type": "code",
      "execution_count": null,
      "id": "78774c88",
      "metadata": {
        "id": "78774c88",
        "outputId": "9725ff4d-49d8-486a-96b6-9aa017aa05bf"
      },
      "outputs": [
        {
          "data": {
            "text/html": [
              "<div>\n",
              "<style scoped>\n",
              "    .dataframe tbody tr th:only-of-type {\n",
              "        vertical-align: middle;\n",
              "    }\n",
              "\n",
              "    .dataframe tbody tr th {\n",
              "        vertical-align: top;\n",
              "    }\n",
              "\n",
              "    .dataframe thead th {\n",
              "        text-align: right;\n",
              "    }\n",
              "</style>\n",
              "<table border=\"1\" class=\"dataframe\">\n",
              "  <thead>\n",
              "    <tr style=\"text-align: right;\">\n",
              "      <th></th>\n",
              "      <th>dateCrawled</th>\n",
              "      <th>name</th>\n",
              "      <th>seller</th>\n",
              "      <th>offerType</th>\n",
              "      <th>price</th>\n",
              "      <th>abtest</th>\n",
              "      <th>vehicleType</th>\n",
              "      <th>yearOfRegistration</th>\n",
              "      <th>gearbox</th>\n",
              "      <th>powerPS</th>\n",
              "      <th>model</th>\n",
              "      <th>kilometer</th>\n",
              "      <th>monthOfRegistration</th>\n",
              "      <th>fuelType</th>\n",
              "      <th>brand</th>\n",
              "      <th>notRepairedDamage</th>\n",
              "      <th>dateCreated</th>\n",
              "      <th>postalCode</th>\n",
              "      <th>lastSeen</th>\n",
              "    </tr>\n",
              "  </thead>\n",
              "  <tbody>\n",
              "    <tr>\n",
              "      <th>0</th>\n",
              "      <td>2016-03-30 13:51:00</td>\n",
              "      <td>Zu_verkaufen</td>\n",
              "      <td>private</td>\n",
              "      <td>offer</td>\n",
              "      <td>4450</td>\n",
              "      <td>test</td>\n",
              "      <td>limousine</td>\n",
              "      <td>2003</td>\n",
              "      <td>manual</td>\n",
              "      <td>150</td>\n",
              "      <td>3er</td>\n",
              "      <td>150000</td>\n",
              "      <td>3</td>\n",
              "      <td>diesel</td>\n",
              "      <td>bmw</td>\n",
              "      <td>NaN</td>\n",
              "      <td>2016-03-30</td>\n",
              "      <td>20257</td>\n",
              "      <td>7/4/2016 4:44</td>\n",
              "    </tr>\n",
              "    <tr>\n",
              "      <th>1</th>\n",
              "      <td>2016-07-03 09:54:00</td>\n",
              "      <td>Volvo_XC90_2.4D_Summum</td>\n",
              "      <td>private</td>\n",
              "      <td>offer</td>\n",
              "      <td>13299</td>\n",
              "      <td>control</td>\n",
              "      <td>suv</td>\n",
              "      <td>2005</td>\n",
              "      <td>manual</td>\n",
              "      <td>163</td>\n",
              "      <td>xc_reihe</td>\n",
              "      <td>150000</td>\n",
              "      <td>6</td>\n",
              "      <td>diesel</td>\n",
              "      <td>volvo</td>\n",
              "      <td>no</td>\n",
              "      <td>2016-07-03</td>\n",
              "      <td>88045</td>\n",
              "      <td>26/03/2016 13:17</td>\n",
              "    </tr>\n",
              "    <tr>\n",
              "      <th>2</th>\n",
              "      <td>2016-01-04 00:57:00</td>\n",
              "      <td>Volkswagen_Touran</td>\n",
              "      <td>private</td>\n",
              "      <td>offer</td>\n",
              "      <td>3200</td>\n",
              "      <td>test</td>\n",
              "      <td>bus</td>\n",
              "      <td>2003</td>\n",
              "      <td>manual</td>\n",
              "      <td>101</td>\n",
              "      <td>touran</td>\n",
              "      <td>150000</td>\n",
              "      <td>11</td>\n",
              "      <td>diesel</td>\n",
              "      <td>volkswagen</td>\n",
              "      <td>NaN</td>\n",
              "      <td>2016-03-31</td>\n",
              "      <td>27449</td>\n",
              "      <td>1/4/2016 8:40</td>\n",
              "    </tr>\n",
              "    <tr>\n",
              "      <th>3</th>\n",
              "      <td>2016-03-19 17:50:00</td>\n",
              "      <td>Seat_Ibiza_1.4_16V_Reference</td>\n",
              "      <td>private</td>\n",
              "      <td>offer</td>\n",
              "      <td>4500</td>\n",
              "      <td>control</td>\n",
              "      <td>small car</td>\n",
              "      <td>2006</td>\n",
              "      <td>manual</td>\n",
              "      <td>86</td>\n",
              "      <td>ibiza</td>\n",
              "      <td>60000</td>\n",
              "      <td>12</td>\n",
              "      <td>petrol</td>\n",
              "      <td>seat</td>\n",
              "      <td>no</td>\n",
              "      <td>2016-03-19</td>\n",
              "      <td>34537</td>\n",
              "      <td>7/4/2016 4:44</td>\n",
              "    </tr>\n",
              "    <tr>\n",
              "      <th>4</th>\n",
              "      <td>2016-03-16 14:51:00</td>\n",
              "      <td>Volvo_XC90_D5_Aut._RDesign_R_Design_AWD_GSHD_S...</td>\n",
              "      <td>private</td>\n",
              "      <td>offer</td>\n",
              "      <td>18750</td>\n",
              "      <td>test</td>\n",
              "      <td>suv</td>\n",
              "      <td>2008</td>\n",
              "      <td>automatic</td>\n",
              "      <td>185</td>\n",
              "      <td>xc_reihe</td>\n",
              "      <td>150000</td>\n",
              "      <td>11</td>\n",
              "      <td>diesel</td>\n",
              "      <td>volvo</td>\n",
              "      <td>no</td>\n",
              "      <td>2016-03-16</td>\n",
              "      <td>55270</td>\n",
              "      <td>1/4/2016 23:18</td>\n",
              "    </tr>\n",
              "    <tr>\n",
              "      <th>...</th>\n",
              "      <td>...</td>\n",
              "      <td>...</td>\n",
              "      <td>...</td>\n",
              "      <td>...</td>\n",
              "      <td>...</td>\n",
              "      <td>...</td>\n",
              "      <td>...</td>\n",
              "      <td>...</td>\n",
              "      <td>...</td>\n",
              "      <td>...</td>\n",
              "      <td>...</td>\n",
              "      <td>...</td>\n",
              "      <td>...</td>\n",
              "      <td>...</td>\n",
              "      <td>...</td>\n",
              "      <td>...</td>\n",
              "      <td>...</td>\n",
              "      <td>...</td>\n",
              "      <td>...</td>\n",
              "    </tr>\n",
              "    <tr>\n",
              "      <th>49996</th>\n",
              "      <td>2016-03-04 15:48:00</td>\n",
              "      <td>Suche_VW_T5_Multivan</td>\n",
              "      <td>private</td>\n",
              "      <td>request</td>\n",
              "      <td>0</td>\n",
              "      <td>test</td>\n",
              "      <td>bus</td>\n",
              "      <td>2005</td>\n",
              "      <td>NaN</td>\n",
              "      <td>0</td>\n",
              "      <td>transporter</td>\n",
              "      <td>150000</td>\n",
              "      <td>0</td>\n",
              "      <td>NaN</td>\n",
              "      <td>volkswagen</td>\n",
              "      <td>NaN</td>\n",
              "      <td>2016-03-04</td>\n",
              "      <td>29690</td>\n",
              "      <td>5/4/2016 15:16</td>\n",
              "    </tr>\n",
              "    <tr>\n",
              "      <th>49997</th>\n",
              "      <td>2016-03-27 14:55:00</td>\n",
              "      <td>Suche_einen_originalen_VW_Golf_2_Fire_and_Ice_G60</td>\n",
              "      <td>private</td>\n",
              "      <td>request</td>\n",
              "      <td>19999</td>\n",
              "      <td>control</td>\n",
              "      <td>NaN</td>\n",
              "      <td>1990</td>\n",
              "      <td>NaN</td>\n",
              "      <td>0</td>\n",
              "      <td>golf</td>\n",
              "      <td>5000</td>\n",
              "      <td>0</td>\n",
              "      <td>NaN</td>\n",
              "      <td>volkswagen</td>\n",
              "      <td>NaN</td>\n",
              "      <td>2016-03-27</td>\n",
              "      <td>50181</td>\n",
              "      <td>7/4/2016 11:45</td>\n",
              "    </tr>\n",
              "    <tr>\n",
              "      <th>49998</th>\n",
              "      <td>2016-03-14 18:51:00</td>\n",
              "      <td>[SUCHE]_BMW_e46_Coupe_330ci_M_Paket_Facelift__...</td>\n",
              "      <td>private</td>\n",
              "      <td>request</td>\n",
              "      <td>0</td>\n",
              "      <td>test</td>\n",
              "      <td>coupe</td>\n",
              "      <td>2004</td>\n",
              "      <td>manual</td>\n",
              "      <td>0</td>\n",
              "      <td>3er</td>\n",
              "      <td>150000</td>\n",
              "      <td>1</td>\n",
              "      <td>petrol</td>\n",
              "      <td>bmw</td>\n",
              "      <td>no</td>\n",
              "      <td>2016-03-14</td>\n",
              "      <td>86956</td>\n",
              "      <td>25/03/2016 6:17</td>\n",
              "    </tr>\n",
              "    <tr>\n",
              "      <th>49999</th>\n",
              "      <td>2016-03-15 18:06:00</td>\n",
              "      <td>Verkaufe_mehrere_Fahrzeuge_zum_Verschrotten</td>\n",
              "      <td>commercial</td>\n",
              "      <td>offer</td>\n",
              "      <td>100</td>\n",
              "      <td>control</td>\n",
              "      <td>station wagon</td>\n",
              "      <td>2000</td>\n",
              "      <td>manual</td>\n",
              "      <td>0</td>\n",
              "      <td>megane</td>\n",
              "      <td>150000</td>\n",
              "      <td>8</td>\n",
              "      <td>petrol</td>\n",
              "      <td>renault</td>\n",
              "      <td>NaN</td>\n",
              "      <td>2016-03-15</td>\n",
              "      <td>65232</td>\n",
              "      <td>6/4/2016 17:15</td>\n",
              "    </tr>\n",
              "    <tr>\n",
              "      <th>50000</th>\n",
              "      <td>2016-03-22 09:54:00</td>\n",
              "      <td>Chevrolet_Matiz_1.Hd_TÜV11/2017</td>\n",
              "      <td>commercial</td>\n",
              "      <td>offer</td>\n",
              "      <td>1100</td>\n",
              "      <td>test</td>\n",
              "      <td>small car</td>\n",
              "      <td>2006</td>\n",
              "      <td>manual</td>\n",
              "      <td>38</td>\n",
              "      <td>matiz</td>\n",
              "      <td>150000</td>\n",
              "      <td>10</td>\n",
              "      <td>petrol</td>\n",
              "      <td>chevrolet</td>\n",
              "      <td>no</td>\n",
              "      <td>2016-03-22</td>\n",
              "      <td>7973</td>\n",
              "      <td>5/4/2016 21:15</td>\n",
              "    </tr>\n",
              "  </tbody>\n",
              "</table>\n",
              "<p>50001 rows × 19 columns</p>\n",
              "</div>"
            ],
            "text/plain": [
              "              dateCrawled                                               name  \\\n",
              "0     2016-03-30 13:51:00                                       Zu_verkaufen   \n",
              "1     2016-07-03 09:54:00                             Volvo_XC90_2.4D_Summum   \n",
              "2     2016-01-04 00:57:00                                  Volkswagen_Touran   \n",
              "3     2016-03-19 17:50:00                       Seat_Ibiza_1.4_16V_Reference   \n",
              "4     2016-03-16 14:51:00  Volvo_XC90_D5_Aut._RDesign_R_Design_AWD_GSHD_S...   \n",
              "...                   ...                                                ...   \n",
              "49996 2016-03-04 15:48:00                               Suche_VW_T5_Multivan   \n",
              "49997 2016-03-27 14:55:00  Suche_einen_originalen_VW_Golf_2_Fire_and_Ice_G60   \n",
              "49998 2016-03-14 18:51:00  [SUCHE]_BMW_e46_Coupe_330ci_M_Paket_Facelift__...   \n",
              "49999 2016-03-15 18:06:00        Verkaufe_mehrere_Fahrzeuge_zum_Verschrotten   \n",
              "50000 2016-03-22 09:54:00                    Chevrolet_Matiz_1.Hd_TÜV11/2017   \n",
              "\n",
              "           seller offerType  price   abtest    vehicleType  \\\n",
              "0         private     offer   4450     test      limousine   \n",
              "1         private     offer  13299  control            suv   \n",
              "2         private     offer   3200     test            bus   \n",
              "3         private     offer   4500  control      small car   \n",
              "4         private     offer  18750     test            suv   \n",
              "...           ...       ...    ...      ...            ...   \n",
              "49996     private   request      0     test            bus   \n",
              "49997     private   request  19999  control            NaN   \n",
              "49998     private   request      0     test          coupe   \n",
              "49999  commercial     offer    100  control  station wagon   \n",
              "50000  commercial     offer   1100     test      small car   \n",
              "\n",
              "       yearOfRegistration    gearbox  powerPS        model  kilometer  \\\n",
              "0                    2003     manual      150          3er     150000   \n",
              "1                    2005     manual      163     xc_reihe     150000   \n",
              "2                    2003     manual      101       touran     150000   \n",
              "3                    2006     manual       86        ibiza      60000   \n",
              "4                    2008  automatic      185     xc_reihe     150000   \n",
              "...                   ...        ...      ...          ...        ...   \n",
              "49996                2005        NaN        0  transporter     150000   \n",
              "49997                1990        NaN        0         golf       5000   \n",
              "49998                2004     manual        0          3er     150000   \n",
              "49999                2000     manual        0       megane     150000   \n",
              "50000                2006     manual       38        matiz     150000   \n",
              "\n",
              "       monthOfRegistration fuelType       brand notRepairedDamage dateCreated  \\\n",
              "0                        3   diesel         bmw               NaN  2016-03-30   \n",
              "1                        6   diesel       volvo                no  2016-07-03   \n",
              "2                       11   diesel  volkswagen               NaN  2016-03-31   \n",
              "3                       12   petrol        seat                no  2016-03-19   \n",
              "4                       11   diesel       volvo                no  2016-03-16   \n",
              "...                    ...      ...         ...               ...         ...   \n",
              "49996                    0      NaN  volkswagen               NaN  2016-03-04   \n",
              "49997                    0      NaN  volkswagen               NaN  2016-03-27   \n",
              "49998                    1   petrol         bmw                no  2016-03-14   \n",
              "49999                    8   petrol     renault               NaN  2016-03-15   \n",
              "50000                   10   petrol   chevrolet                no  2016-03-22   \n",
              "\n",
              "       postalCode          lastSeen  \n",
              "0           20257     7/4/2016 4:44  \n",
              "1           88045  26/03/2016 13:17  \n",
              "2           27449     1/4/2016 8:40  \n",
              "3           34537     7/4/2016 4:44  \n",
              "4           55270    1/4/2016 23:18  \n",
              "...           ...               ...  \n",
              "49996       29690    5/4/2016 15:16  \n",
              "49997       50181    7/4/2016 11:45  \n",
              "49998       86956   25/03/2016 6:17  \n",
              "49999       65232    6/4/2016 17:15  \n",
              "50000        7973    5/4/2016 21:15  \n",
              "\n",
              "[50001 rows x 19 columns]"
            ]
          },
          "execution_count": 164,
          "metadata": {},
          "output_type": "execute_result"
        }
      ],
      "source": [
        "df = pd.read_csv('cars_sampled.csv',parse_dates=['dateCrawled','dateCreated'])\n",
        "df"
      ]
    },
    {
      "cell_type": "markdown",
      "id": "54560c45",
      "metadata": {
        "id": "54560c45"
      },
      "source": [
        "2 Сделайте описательную статистику: размер, типы переменных, пустые значения, уникальные имена и т.д."
      ]
    },
    {
      "cell_type": "code",
      "execution_count": null,
      "id": "037d4da8",
      "metadata": {
        "id": "037d4da8",
        "outputId": "2aab1fc1-8a08-4001-98e2-5c13a8e805f1"
      },
      "outputs": [
        {
          "data": {
            "text/html": [
              "<div>\n",
              "<style scoped>\n",
              "    .dataframe tbody tr th:only-of-type {\n",
              "        vertical-align: middle;\n",
              "    }\n",
              "\n",
              "    .dataframe tbody tr th {\n",
              "        vertical-align: top;\n",
              "    }\n",
              "\n",
              "    .dataframe thead th {\n",
              "        text-align: right;\n",
              "    }\n",
              "</style>\n",
              "<table border=\"1\" class=\"dataframe\">\n",
              "  <thead>\n",
              "    <tr style=\"text-align: right;\">\n",
              "      <th></th>\n",
              "      <th>price</th>\n",
              "      <th>yearOfRegistration</th>\n",
              "      <th>powerPS</th>\n",
              "      <th>kilometer</th>\n",
              "      <th>monthOfRegistration</th>\n",
              "      <th>postalCode</th>\n",
              "    </tr>\n",
              "  </thead>\n",
              "  <tbody>\n",
              "    <tr>\n",
              "      <th>count</th>\n",
              "      <td>5.000100e+04</td>\n",
              "      <td>50001.000000</td>\n",
              "      <td>50001.000000</td>\n",
              "      <td>50001.000000</td>\n",
              "      <td>50001.000000</td>\n",
              "      <td>50001.000000</td>\n",
              "    </tr>\n",
              "    <tr>\n",
              "      <th>mean</th>\n",
              "      <td>6.559865e+03</td>\n",
              "      <td>2005.544229</td>\n",
              "      <td>116.496130</td>\n",
              "      <td>125613.687726</td>\n",
              "      <td>5.743725</td>\n",
              "      <td>50775.216696</td>\n",
              "    </tr>\n",
              "    <tr>\n",
              "      <th>std</th>\n",
              "      <td>8.581847e+04</td>\n",
              "      <td>122.991832</td>\n",
              "      <td>230.567709</td>\n",
              "      <td>40205.234483</td>\n",
              "      <td>3.711345</td>\n",
              "      <td>25743.701933</td>\n",
              "    </tr>\n",
              "    <tr>\n",
              "      <th>min</th>\n",
              "      <td>0.000000e+00</td>\n",
              "      <td>1000.000000</td>\n",
              "      <td>0.000000</td>\n",
              "      <td>5000.000000</td>\n",
              "      <td>0.000000</td>\n",
              "      <td>1067.000000</td>\n",
              "    </tr>\n",
              "    <tr>\n",
              "      <th>25%</th>\n",
              "      <td>1.150000e+03</td>\n",
              "      <td>1999.000000</td>\n",
              "      <td>69.000000</td>\n",
              "      <td>125000.000000</td>\n",
              "      <td>3.000000</td>\n",
              "      <td>30559.000000</td>\n",
              "    </tr>\n",
              "    <tr>\n",
              "      <th>50%</th>\n",
              "      <td>2.950000e+03</td>\n",
              "      <td>2003.000000</td>\n",
              "      <td>105.000000</td>\n",
              "      <td>150000.000000</td>\n",
              "      <td>6.000000</td>\n",
              "      <td>49504.000000</td>\n",
              "    </tr>\n",
              "    <tr>\n",
              "      <th>75%</th>\n",
              "      <td>7.190000e+03</td>\n",
              "      <td>2008.000000</td>\n",
              "      <td>150.000000</td>\n",
              "      <td>150000.000000</td>\n",
              "      <td>9.000000</td>\n",
              "      <td>71404.000000</td>\n",
              "    </tr>\n",
              "    <tr>\n",
              "      <th>max</th>\n",
              "      <td>1.234568e+07</td>\n",
              "      <td>9999.000000</td>\n",
              "      <td>19312.000000</td>\n",
              "      <td>150000.000000</td>\n",
              "      <td>12.000000</td>\n",
              "      <td>99998.000000</td>\n",
              "    </tr>\n",
              "  </tbody>\n",
              "</table>\n",
              "</div>"
            ],
            "text/plain": [
              "              price  yearOfRegistration       powerPS      kilometer  \\\n",
              "count  5.000100e+04        50001.000000  50001.000000   50001.000000   \n",
              "mean   6.559865e+03         2005.544229    116.496130  125613.687726   \n",
              "std    8.581847e+04          122.991832    230.567709   40205.234483   \n",
              "min    0.000000e+00         1000.000000      0.000000    5000.000000   \n",
              "25%    1.150000e+03         1999.000000     69.000000  125000.000000   \n",
              "50%    2.950000e+03         2003.000000    105.000000  150000.000000   \n",
              "75%    7.190000e+03         2008.000000    150.000000  150000.000000   \n",
              "max    1.234568e+07         9999.000000  19312.000000  150000.000000   \n",
              "\n",
              "       monthOfRegistration    postalCode  \n",
              "count         50001.000000  50001.000000  \n",
              "mean              5.743725  50775.216696  \n",
              "std               3.711345  25743.701933  \n",
              "min               0.000000   1067.000000  \n",
              "25%               3.000000  30559.000000  \n",
              "50%               6.000000  49504.000000  \n",
              "75%               9.000000  71404.000000  \n",
              "max              12.000000  99998.000000  "
            ]
          },
          "execution_count": 165,
          "metadata": {},
          "output_type": "execute_result"
        }
      ],
      "source": [
        "df.describe()"
      ]
    },
    {
      "cell_type": "code",
      "execution_count": null,
      "id": "2dd9d1c9",
      "metadata": {
        "id": "2dd9d1c9",
        "outputId": "08a48577-91b9-4419-856b-08043460ed18"
      },
      "outputs": [
        {
          "data": {
            "text/plain": [
              "dateCrawled            datetime64[ns]\n",
              "name                           object\n",
              "seller                         object\n",
              "offerType                      object\n",
              "price                           int64\n",
              "abtest                         object\n",
              "vehicleType                    object\n",
              "yearOfRegistration              int64\n",
              "gearbox                        object\n",
              "powerPS                         int64\n",
              "model                          object\n",
              "kilometer                       int64\n",
              "monthOfRegistration             int64\n",
              "fuelType                       object\n",
              "brand                          object\n",
              "notRepairedDamage              object\n",
              "dateCreated            datetime64[ns]\n",
              "postalCode                      int64\n",
              "lastSeen                       object\n",
              "dtype: object"
            ]
          },
          "execution_count": 166,
          "metadata": {},
          "output_type": "execute_result"
        }
      ],
      "source": [
        "df.dtypes"
      ]
    },
    {
      "cell_type": "code",
      "execution_count": null,
      "id": "b9611d1d",
      "metadata": {
        "id": "b9611d1d",
        "outputId": "9b8429ce-0690-4362-8ad9-ca3c01161114"
      },
      "outputs": [
        {
          "data": {
            "text/plain": [
              "dateCrawled            12039\n",
              "name                   38766\n",
              "seller                     2\n",
              "offerType                  2\n",
              "price                   2393\n",
              "abtest                     2\n",
              "vehicleType                8\n",
              "yearOfRegistration        97\n",
              "gearbox                    2\n",
              "powerPS                  460\n",
              "model                    248\n",
              "kilometer                 13\n",
              "monthOfRegistration       13\n",
              "fuelType                   7\n",
              "brand                     40\n",
              "notRepairedDamage          2\n",
              "dateCreated               75\n",
              "postalCode              7018\n",
              "lastSeen               10413\n",
              "dtype: int64"
            ]
          },
          "execution_count": 167,
          "metadata": {},
          "output_type": "execute_result"
        }
      ],
      "source": [
        "df.nunique()"
      ]
    },
    {
      "cell_type": "code",
      "execution_count": null,
      "id": "256688fc",
      "metadata": {
        "id": "256688fc",
        "outputId": "a041ddbb-1a4e-4036-b118-7f5b661fb7a3"
      },
      "outputs": [
        {
          "data": {
            "text/plain": [
              "dateCrawled               0\n",
              "name                      0\n",
              "seller                    0\n",
              "offerType                 0\n",
              "price                     0\n",
              "abtest                    0\n",
              "vehicleType            5188\n",
              "yearOfRegistration        0\n",
              "gearbox                2824\n",
              "powerPS                   0\n",
              "model                  2758\n",
              "kilometer                 0\n",
              "monthOfRegistration       0\n",
              "fuelType               4503\n",
              "brand                     0\n",
              "notRepairedDamage      9716\n",
              "dateCreated               0\n",
              "postalCode                0\n",
              "lastSeen                  0\n",
              "dtype: int64"
            ]
          },
          "execution_count": 168,
          "metadata": {},
          "output_type": "execute_result"
        }
      ],
      "source": [
        "df.isna().sum()"
      ]
    },
    {
      "cell_type": "markdown",
      "id": "f1458d25",
      "metadata": {
        "id": "f1458d25"
      },
      "source": [
        "## фильтровка данных"
      ]
    },
    {
      "cell_type": "code",
      "execution_count": null,
      "id": "572f2bd5",
      "metadata": {
        "id": "572f2bd5",
        "outputId": "19d65e65-0dce-4f61-fe89-002a8c1f1814"
      },
      "outputs": [
        {
          "data": {
            "text/plain": [
              "200.0"
            ]
          },
          "execution_count": 169,
          "metadata": {},
          "output_type": "execute_result"
        }
      ],
      "source": [
        "q5 = np.percentile (df.price, 5)\n",
        "q5"
      ]
    },
    {
      "cell_type": "code",
      "execution_count": null,
      "id": "84d1d93d",
      "metadata": {
        "id": "84d1d93d",
        "outputId": "749378a3-c9de-4ad9-ffde-803eeee76f3c"
      },
      "outputs": [
        {
          "data": {
            "text/plain": [
              "19650.0"
            ]
          },
          "execution_count": 170,
          "metadata": {},
          "output_type": "execute_result"
        }
      ],
      "source": [
        "q95 = np.percentile (df.price, 95)\n",
        "q95"
      ]
    },
    {
      "cell_type": "code",
      "execution_count": null,
      "id": "967a4265",
      "metadata": {
        "id": "967a4265"
      },
      "outputs": [],
      "source": [
        "df = df.query('price > 200 & price < 19608')"
      ]
    },
    {
      "cell_type": "code",
      "execution_count": null,
      "id": "efbadb88",
      "metadata": {
        "id": "efbadb88",
        "outputId": "0c7d3b5f-2bbc-4c25-af96-dbd1c2cb6462"
      },
      "outputs": [
        {
          "data": {
            "text/plain": [
              "1993.0"
            ]
          },
          "execution_count": 172,
          "metadata": {},
          "output_type": "execute_result"
        }
      ],
      "source": [
        "q5 = np.percentile (df.yearOfRegistration, 5)\n",
        "q5"
      ]
    },
    {
      "cell_type": "code",
      "execution_count": null,
      "id": "a5afa57d",
      "metadata": {
        "id": "a5afa57d",
        "outputId": "9e3f6d8b-2fcb-4559-a240-8eb639d20ed1"
      },
      "outputs": [
        {
          "data": {
            "text/plain": [
              "2016.0"
            ]
          },
          "execution_count": 173,
          "metadata": {},
          "output_type": "execute_result"
        }
      ],
      "source": [
        "q95 = np.percentile (df.yearOfRegistration, 95)\n",
        "q95"
      ]
    },
    {
      "cell_type": "code",
      "execution_count": null,
      "id": "c3229283",
      "metadata": {
        "id": "c3229283",
        "outputId": "4cc7ff59-8470-4cb0-a4e5-8ed8e2c6433d"
      },
      "outputs": [
        {
          "data": {
            "text/plain": [
              "1000"
            ]
          },
          "execution_count": 174,
          "metadata": {},
          "output_type": "execute_result"
        }
      ],
      "source": [
        "df.yearOfRegistration.min()"
      ]
    },
    {
      "cell_type": "code",
      "execution_count": null,
      "id": "6e06b85c",
      "metadata": {
        "id": "6e06b85c"
      },
      "outputs": [],
      "source": [
        "df = df.query('yearOfRegistration >= 1993 & yearOfRegistration <= 2016')"
      ]
    },
    {
      "cell_type": "code",
      "execution_count": null,
      "id": "1de0c9b1",
      "metadata": {
        "id": "1de0c9b1",
        "outputId": "9b12f68e-747f-4b33-e3fe-2dc8d16e7ccc"
      },
      "outputs": [
        {
          "data": {
            "text/html": [
              "<div>\n",
              "<style scoped>\n",
              "    .dataframe tbody tr th:only-of-type {\n",
              "        vertical-align: middle;\n",
              "    }\n",
              "\n",
              "    .dataframe tbody tr th {\n",
              "        vertical-align: top;\n",
              "    }\n",
              "\n",
              "    .dataframe thead th {\n",
              "        text-align: right;\n",
              "    }\n",
              "</style>\n",
              "<table border=\"1\" class=\"dataframe\">\n",
              "  <thead>\n",
              "    <tr style=\"text-align: right;\">\n",
              "      <th></th>\n",
              "      <th>dateCrawled</th>\n",
              "      <th>name</th>\n",
              "      <th>seller</th>\n",
              "      <th>offerType</th>\n",
              "      <th>price</th>\n",
              "      <th>abtest</th>\n",
              "      <th>vehicleType</th>\n",
              "      <th>yearOfRegistration</th>\n",
              "      <th>gearbox</th>\n",
              "      <th>powerPS</th>\n",
              "      <th>model</th>\n",
              "      <th>kilometer</th>\n",
              "      <th>monthOfRegistration</th>\n",
              "      <th>fuelType</th>\n",
              "      <th>brand</th>\n",
              "      <th>notRepairedDamage</th>\n",
              "      <th>dateCreated</th>\n",
              "      <th>postalCode</th>\n",
              "      <th>lastSeen</th>\n",
              "    </tr>\n",
              "  </thead>\n",
              "  <tbody>\n",
              "    <tr>\n",
              "      <th>0</th>\n",
              "      <td>2016-03-30 13:51:00</td>\n",
              "      <td>Zu_verkaufen</td>\n",
              "      <td>private</td>\n",
              "      <td>offer</td>\n",
              "      <td>4450</td>\n",
              "      <td>test</td>\n",
              "      <td>limousine</td>\n",
              "      <td>2003</td>\n",
              "      <td>manual</td>\n",
              "      <td>150</td>\n",
              "      <td>3er</td>\n",
              "      <td>150000</td>\n",
              "      <td>3</td>\n",
              "      <td>diesel</td>\n",
              "      <td>bmw</td>\n",
              "      <td>NaN</td>\n",
              "      <td>2016-03-30</td>\n",
              "      <td>20257</td>\n",
              "      <td>7/4/2016 4:44</td>\n",
              "    </tr>\n",
              "    <tr>\n",
              "      <th>1</th>\n",
              "      <td>2016-07-03 09:54:00</td>\n",
              "      <td>Volvo_XC90_2.4D_Summum</td>\n",
              "      <td>private</td>\n",
              "      <td>offer</td>\n",
              "      <td>13299</td>\n",
              "      <td>control</td>\n",
              "      <td>suv</td>\n",
              "      <td>2005</td>\n",
              "      <td>manual</td>\n",
              "      <td>163</td>\n",
              "      <td>xc_reihe</td>\n",
              "      <td>150000</td>\n",
              "      <td>6</td>\n",
              "      <td>diesel</td>\n",
              "      <td>volvo</td>\n",
              "      <td>no</td>\n",
              "      <td>2016-07-03</td>\n",
              "      <td>88045</td>\n",
              "      <td>26/03/2016 13:17</td>\n",
              "    </tr>\n",
              "    <tr>\n",
              "      <th>2</th>\n",
              "      <td>2016-01-04 00:57:00</td>\n",
              "      <td>Volkswagen_Touran</td>\n",
              "      <td>private</td>\n",
              "      <td>offer</td>\n",
              "      <td>3200</td>\n",
              "      <td>test</td>\n",
              "      <td>bus</td>\n",
              "      <td>2003</td>\n",
              "      <td>manual</td>\n",
              "      <td>101</td>\n",
              "      <td>touran</td>\n",
              "      <td>150000</td>\n",
              "      <td>11</td>\n",
              "      <td>diesel</td>\n",
              "      <td>volkswagen</td>\n",
              "      <td>NaN</td>\n",
              "      <td>2016-03-31</td>\n",
              "      <td>27449</td>\n",
              "      <td>1/4/2016 8:40</td>\n",
              "    </tr>\n",
              "    <tr>\n",
              "      <th>3</th>\n",
              "      <td>2016-03-19 17:50:00</td>\n",
              "      <td>Seat_Ibiza_1.4_16V_Reference</td>\n",
              "      <td>private</td>\n",
              "      <td>offer</td>\n",
              "      <td>4500</td>\n",
              "      <td>control</td>\n",
              "      <td>small car</td>\n",
              "      <td>2006</td>\n",
              "      <td>manual</td>\n",
              "      <td>86</td>\n",
              "      <td>ibiza</td>\n",
              "      <td>60000</td>\n",
              "      <td>12</td>\n",
              "      <td>petrol</td>\n",
              "      <td>seat</td>\n",
              "      <td>no</td>\n",
              "      <td>2016-03-19</td>\n",
              "      <td>34537</td>\n",
              "      <td>7/4/2016 4:44</td>\n",
              "    </tr>\n",
              "    <tr>\n",
              "      <th>4</th>\n",
              "      <td>2016-03-16 14:51:00</td>\n",
              "      <td>Volvo_XC90_D5_Aut._RDesign_R_Design_AWD_GSHD_S...</td>\n",
              "      <td>private</td>\n",
              "      <td>offer</td>\n",
              "      <td>18750</td>\n",
              "      <td>test</td>\n",
              "      <td>suv</td>\n",
              "      <td>2008</td>\n",
              "      <td>automatic</td>\n",
              "      <td>185</td>\n",
              "      <td>xc_reihe</td>\n",
              "      <td>150000</td>\n",
              "      <td>11</td>\n",
              "      <td>diesel</td>\n",
              "      <td>volvo</td>\n",
              "      <td>no</td>\n",
              "      <td>2016-03-16</td>\n",
              "      <td>55270</td>\n",
              "      <td>1/4/2016 23:18</td>\n",
              "    </tr>\n",
              "    <tr>\n",
              "      <th>...</th>\n",
              "      <td>...</td>\n",
              "      <td>...</td>\n",
              "      <td>...</td>\n",
              "      <td>...</td>\n",
              "      <td>...</td>\n",
              "      <td>...</td>\n",
              "      <td>...</td>\n",
              "      <td>...</td>\n",
              "      <td>...</td>\n",
              "      <td>...</td>\n",
              "      <td>...</td>\n",
              "      <td>...</td>\n",
              "      <td>...</td>\n",
              "      <td>...</td>\n",
              "      <td>...</td>\n",
              "      <td>...</td>\n",
              "      <td>...</td>\n",
              "      <td>...</td>\n",
              "      <td>...</td>\n",
              "    </tr>\n",
              "    <tr>\n",
              "      <th>49991</th>\n",
              "      <td>2016-10-03 23:36:00</td>\n",
              "      <td>BMW_X3_3.0i</td>\n",
              "      <td>private</td>\n",
              "      <td>offer</td>\n",
              "      <td>10900</td>\n",
              "      <td>test</td>\n",
              "      <td>limousine</td>\n",
              "      <td>2004</td>\n",
              "      <td>manual</td>\n",
              "      <td>231</td>\n",
              "      <td>x_reihe</td>\n",
              "      <td>150000</td>\n",
              "      <td>8</td>\n",
              "      <td>petrol</td>\n",
              "      <td>bmw</td>\n",
              "      <td>no</td>\n",
              "      <td>2016-10-03</td>\n",
              "      <td>96152</td>\n",
              "      <td>6/4/2016 2:17</td>\n",
              "    </tr>\n",
              "    <tr>\n",
              "      <th>49992</th>\n",
              "      <td>2016-03-14 13:57:00</td>\n",
              "      <td>Opel_Astra_2.0_DI_Elegance</td>\n",
              "      <td>private</td>\n",
              "      <td>offer</td>\n",
              "      <td>790</td>\n",
              "      <td>test</td>\n",
              "      <td>limousine</td>\n",
              "      <td>1998</td>\n",
              "      <td>manual</td>\n",
              "      <td>82</td>\n",
              "      <td>astra</td>\n",
              "      <td>150000</td>\n",
              "      <td>9</td>\n",
              "      <td>diesel</td>\n",
              "      <td>opel</td>\n",
              "      <td>no</td>\n",
              "      <td>2016-03-14</td>\n",
              "      <td>99310</td>\n",
              "      <td>31/03/2016 0:45</td>\n",
              "    </tr>\n",
              "    <tr>\n",
              "      <th>49993</th>\n",
              "      <td>2016-03-14 11:37:00</td>\n",
              "      <td>Renault_Clio_mit_Servolenkung_und_neuem_TÜV!</td>\n",
              "      <td>private</td>\n",
              "      <td>offer</td>\n",
              "      <td>830</td>\n",
              "      <td>test</td>\n",
              "      <td>small car</td>\n",
              "      <td>1999</td>\n",
              "      <td>manual</td>\n",
              "      <td>60</td>\n",
              "      <td>clio</td>\n",
              "      <td>125000</td>\n",
              "      <td>8</td>\n",
              "      <td>petrol</td>\n",
              "      <td>renault</td>\n",
              "      <td>no</td>\n",
              "      <td>2016-03-14</td>\n",
              "      <td>33659</td>\n",
              "      <td>22/03/2016 4:47</td>\n",
              "    </tr>\n",
              "    <tr>\n",
              "      <th>49995</th>\n",
              "      <td>2016-03-23 21:45:00</td>\n",
              "      <td>Opel_Astra_G_Caravan__Tuev_2/2018__Scheckheft_...</td>\n",
              "      <td>private</td>\n",
              "      <td>offer</td>\n",
              "      <td>2290</td>\n",
              "      <td>test</td>\n",
              "      <td>station wagon</td>\n",
              "      <td>2001</td>\n",
              "      <td>manual</td>\n",
              "      <td>101</td>\n",
              "      <td>astra</td>\n",
              "      <td>150000</td>\n",
              "      <td>3</td>\n",
              "      <td>petrol</td>\n",
              "      <td>opel</td>\n",
              "      <td>no</td>\n",
              "      <td>2016-03-23</td>\n",
              "      <td>27305</td>\n",
              "      <td>4/4/2016 1:47</td>\n",
              "    </tr>\n",
              "    <tr>\n",
              "      <th>50000</th>\n",
              "      <td>2016-03-22 09:54:00</td>\n",
              "      <td>Chevrolet_Matiz_1.Hd_TÜV11/2017</td>\n",
              "      <td>commercial</td>\n",
              "      <td>offer</td>\n",
              "      <td>1100</td>\n",
              "      <td>test</td>\n",
              "      <td>small car</td>\n",
              "      <td>2006</td>\n",
              "      <td>manual</td>\n",
              "      <td>38</td>\n",
              "      <td>matiz</td>\n",
              "      <td>150000</td>\n",
              "      <td>10</td>\n",
              "      <td>petrol</td>\n",
              "      <td>chevrolet</td>\n",
              "      <td>no</td>\n",
              "      <td>2016-03-22</td>\n",
              "      <td>7973</td>\n",
              "      <td>5/4/2016 21:15</td>\n",
              "    </tr>\n",
              "  </tbody>\n",
              "</table>\n",
              "<p>40937 rows × 19 columns</p>\n",
              "</div>"
            ],
            "text/plain": [
              "              dateCrawled                                               name  \\\n",
              "0     2016-03-30 13:51:00                                       Zu_verkaufen   \n",
              "1     2016-07-03 09:54:00                             Volvo_XC90_2.4D_Summum   \n",
              "2     2016-01-04 00:57:00                                  Volkswagen_Touran   \n",
              "3     2016-03-19 17:50:00                       Seat_Ibiza_1.4_16V_Reference   \n",
              "4     2016-03-16 14:51:00  Volvo_XC90_D5_Aut._RDesign_R_Design_AWD_GSHD_S...   \n",
              "...                   ...                                                ...   \n",
              "49991 2016-10-03 23:36:00                                        BMW_X3_3.0i   \n",
              "49992 2016-03-14 13:57:00                         Opel_Astra_2.0_DI_Elegance   \n",
              "49993 2016-03-14 11:37:00       Renault_Clio_mit_Servolenkung_und_neuem_TÜV!   \n",
              "49995 2016-03-23 21:45:00  Opel_Astra_G_Caravan__Tuev_2/2018__Scheckheft_...   \n",
              "50000 2016-03-22 09:54:00                    Chevrolet_Matiz_1.Hd_TÜV11/2017   \n",
              "\n",
              "           seller offerType  price   abtest    vehicleType  \\\n",
              "0         private     offer   4450     test      limousine   \n",
              "1         private     offer  13299  control            suv   \n",
              "2         private     offer   3200     test            bus   \n",
              "3         private     offer   4500  control      small car   \n",
              "4         private     offer  18750     test            suv   \n",
              "...           ...       ...    ...      ...            ...   \n",
              "49991     private     offer  10900     test      limousine   \n",
              "49992     private     offer    790     test      limousine   \n",
              "49993     private     offer    830     test      small car   \n",
              "49995     private     offer   2290     test  station wagon   \n",
              "50000  commercial     offer   1100     test      small car   \n",
              "\n",
              "       yearOfRegistration    gearbox  powerPS     model  kilometer  \\\n",
              "0                    2003     manual      150       3er     150000   \n",
              "1                    2005     manual      163  xc_reihe     150000   \n",
              "2                    2003     manual      101    touran     150000   \n",
              "3                    2006     manual       86     ibiza      60000   \n",
              "4                    2008  automatic      185  xc_reihe     150000   \n",
              "...                   ...        ...      ...       ...        ...   \n",
              "49991                2004     manual      231   x_reihe     150000   \n",
              "49992                1998     manual       82     astra     150000   \n",
              "49993                1999     manual       60      clio     125000   \n",
              "49995                2001     manual      101     astra     150000   \n",
              "50000                2006     manual       38     matiz     150000   \n",
              "\n",
              "       monthOfRegistration fuelType       brand notRepairedDamage dateCreated  \\\n",
              "0                        3   diesel         bmw               NaN  2016-03-30   \n",
              "1                        6   diesel       volvo                no  2016-07-03   \n",
              "2                       11   diesel  volkswagen               NaN  2016-03-31   \n",
              "3                       12   petrol        seat                no  2016-03-19   \n",
              "4                       11   diesel       volvo                no  2016-03-16   \n",
              "...                    ...      ...         ...               ...         ...   \n",
              "49991                    8   petrol         bmw                no  2016-10-03   \n",
              "49992                    9   diesel        opel                no  2016-03-14   \n",
              "49993                    8   petrol     renault                no  2016-03-14   \n",
              "49995                    3   petrol        opel                no  2016-03-23   \n",
              "50000                   10   petrol   chevrolet                no  2016-03-22   \n",
              "\n",
              "       postalCode          lastSeen  \n",
              "0           20257     7/4/2016 4:44  \n",
              "1           88045  26/03/2016 13:17  \n",
              "2           27449     1/4/2016 8:40  \n",
              "3           34537     7/4/2016 4:44  \n",
              "4           55270    1/4/2016 23:18  \n",
              "...           ...               ...  \n",
              "49991       96152     6/4/2016 2:17  \n",
              "49992       99310   31/03/2016 0:45  \n",
              "49993       33659   22/03/2016 4:47  \n",
              "49995       27305     4/4/2016 1:47  \n",
              "50000        7973    5/4/2016 21:15  \n",
              "\n",
              "[40937 rows x 19 columns]"
            ]
          },
          "execution_count": 176,
          "metadata": {},
          "output_type": "execute_result"
        }
      ],
      "source": [
        "df"
      ]
    },
    {
      "cell_type": "markdown",
      "id": "946c5cee",
      "metadata": {
        "id": "946c5cee"
      },
      "source": [
        "## замена пропущенных значений"
      ]
    },
    {
      "cell_type": "code",
      "execution_count": null,
      "id": "1c6025bc",
      "metadata": {
        "id": "1c6025bc"
      },
      "outputs": [],
      "source": [
        "df.notRepairedDamage = df.notRepairedDamage.fillna('no')"
      ]
    },
    {
      "cell_type": "code",
      "execution_count": null,
      "id": "464c5d7a",
      "metadata": {
        "id": "464c5d7a"
      },
      "outputs": [],
      "source": [
        "x = df.vehicleType.mode()[0]\n",
        "df.vehicleType = df.vehicleType.fillna(x)"
      ]
    },
    {
      "cell_type": "code",
      "execution_count": null,
      "id": "be666bd0",
      "metadata": {
        "id": "be666bd0"
      },
      "outputs": [],
      "source": [
        "x = df.gearbox.mode()[0]\n",
        "df.gearbox = df.gearbox.fillna(x)"
      ]
    },
    {
      "cell_type": "code",
      "execution_count": null,
      "id": "a9fe7362",
      "metadata": {
        "id": "a9fe7362"
      },
      "outputs": [],
      "source": [
        "x = df.fuelType.mode()[0]\n",
        "df.fuelType = df.fuelType.fillna(x)"
      ]
    },
    {
      "cell_type": "code",
      "execution_count": null,
      "id": "540c7c0f",
      "metadata": {
        "id": "540c7c0f"
      },
      "outputs": [],
      "source": [
        "x = df.model.mode()[0]\n",
        "df.model = df.model.fillna(x)"
      ]
    },
    {
      "cell_type": "code",
      "execution_count": null,
      "id": "f97fcb95",
      "metadata": {
        "id": "f97fcb95",
        "outputId": "e5b43a0b-5355-41dd-a876-c19808cac52a"
      },
      "outputs": [
        {
          "data": {
            "text/plain": [
              "'manual'"
            ]
          },
          "execution_count": 182,
          "metadata": {},
          "output_type": "execute_result"
        }
      ],
      "source": [
        "df.gearbox.mode()[0]"
      ]
    },
    {
      "cell_type": "code",
      "execution_count": null,
      "id": "388f53b7",
      "metadata": {
        "id": "388f53b7",
        "outputId": "a669c874-fb21-42cf-dad4-95fc7e082113"
      },
      "outputs": [
        {
          "data": {
            "text/plain": [
              "dateCrawled            0\n",
              "name                   0\n",
              "seller                 0\n",
              "offerType              0\n",
              "price                  0\n",
              "abtest                 0\n",
              "vehicleType            0\n",
              "yearOfRegistration     0\n",
              "gearbox                0\n",
              "powerPS                0\n",
              "model                  0\n",
              "kilometer              0\n",
              "monthOfRegistration    0\n",
              "fuelType               0\n",
              "brand                  0\n",
              "notRepairedDamage      0\n",
              "dateCreated            0\n",
              "postalCode             0\n",
              "lastSeen               0\n",
              "dtype: int64"
            ]
          },
          "execution_count": 183,
          "metadata": {},
          "output_type": "execute_result"
        }
      ],
      "source": [
        "df.isna().sum()"
      ]
    },
    {
      "cell_type": "markdown",
      "id": "759de856",
      "metadata": {
        "id": "759de856"
      },
      "source": [
        "3 Поработайте с типами переменных. Все числовые значения переведите в формат int."
      ]
    },
    {
      "cell_type": "code",
      "execution_count": null,
      "id": "585984c6",
      "metadata": {
        "id": "585984c6"
      },
      "outputs": [],
      "source": [
        "# все числовые значения в формате int"
      ]
    },
    {
      "cell_type": "markdown",
      "id": "adedc639",
      "metadata": {
        "id": "adedc639"
      },
      "source": [
        "4 Поработайте со столбцом price. Постройте гистограмму, найдите выбросы (ящиковая диаграмма), удалите аномальные значения, постарайтесь привести к нормальному распределению."
      ]
    },
    {
      "cell_type": "code",
      "execution_count": null,
      "id": "a3f24cc4",
      "metadata": {
        "id": "a3f24cc4",
        "outputId": "651e4eae-ae1b-4281-9bdc-9b965abe6b94"
      },
      "outputs": [
        {
          "name": "stderr",
          "output_type": "stream",
          "text": [
            "C:\\ProgramData\\Anaconda3\\lib\\site-packages\\seaborn\\distributions.py:2619: FutureWarning: `distplot` is a deprecated function and will be removed in a future version. Please adapt your code to use either `displot` (a figure-level function with similar flexibility) or `histplot` (an axes-level function for histograms).\n",
            "  warnings.warn(msg, FutureWarning)\n"
          ]
        },
        {
          "data": {
            "text/plain": [
              "<AxesSubplot:xlabel='price'>"
            ]
          },
          "execution_count": 185,
          "metadata": {},
          "output_type": "execute_result"
        },
        {
          "data": {
            "image/png": "[encoded data removed]",
            "text/plain": [
              "<Figure size 864x576 with 1 Axes>"
            ]
          },
          "metadata": {
            "needs_background": "light"
          },
          "output_type": "display_data"
        }
      ],
      "source": [
        "plt.figure(figsize=(12,8))\n",
        "sns.distplot(df.price,kde=False)"
      ]
    },
    {
      "cell_type": "code",
      "execution_count": null,
      "id": "00baf13b",
      "metadata": {
        "id": "00baf13b"
      },
      "outputs": [],
      "source": [
        "df['log_price'] = np.log(df['price'])"
      ]
    },
    {
      "cell_type": "code",
      "execution_count": null,
      "id": "8f52af22",
      "metadata": {
        "id": "8f52af22",
        "outputId": "6848771a-ff6e-4bb1-eec0-0c37435baa48"
      },
      "outputs": [
        {
          "data": {
            "text/plain": [
              "<AxesSubplot:xlabel='log_price'>"
            ]
          },
          "execution_count": 187,
          "metadata": {},
          "output_type": "execute_result"
        },
        {
          "data": {
            "image/png": "[encoded data removed]",
            "text/plain": [
              "<Figure size 864x576 with 1 Axes>"
            ]
          },
          "metadata": {
            "needs_background": "light"
          },
          "output_type": "display_data"
        }
      ],
      "source": [
        "plt.figure(figsize=(12,8))\n",
        "sns.distplot(df.query('log_price < 100000 & log_price > -100000').log_price,kde=False)"
      ]
    },
    {
      "cell_type": "code",
      "execution_count": null,
      "id": "f9e897fb",
      "metadata": {
        "id": "f9e897fb",
        "outputId": "f6875dbd-07f2-4762-fd65-853ebc664057"
      },
      "outputs": [
        {
          "data": {
            "text/plain": [
              "<AxesSubplot:>"
            ]
          },
          "execution_count": 188,
          "metadata": {},
          "output_type": "execute_result"
        },
        {
          "data": {
            "image/png": "[encoded data removed]",
            "text/plain": [
              "<Figure size 432x288 with 1 Axes>"
            ]
          },
          "metadata": {
            "needs_background": "light"
          },
          "output_type": "display_data"
        }
      ],
      "source": [
        "df.query('log_price < 100000 & log_price > -100000').log_price.hist()"
      ]
    },
    {
      "cell_type": "code",
      "execution_count": null,
      "id": "6cb3f247",
      "metadata": {
        "id": "6cb3f247",
        "outputId": "079a95e5-f2ee-4cf1-8dbd-39b6ee2021bb"
      },
      "outputs": [
        {
          "name": "stderr",
          "output_type": "stream",
          "text": [
            "C:\\ProgramData\\Anaconda3\\lib\\site-packages\\seaborn\\_decorators.py:36: FutureWarning: Pass the following variable as a keyword arg: x. From version 0.12, the only valid positional argument will be `data`, and passing other arguments without an explicit keyword will result in an error or misinterpretation.\n",
            "  warnings.warn(\n"
          ]
        },
        {
          "data": {
            "text/plain": [
              "<AxesSubplot:xlabel='price'>"
            ]
          },
          "execution_count": 189,
          "metadata": {},
          "output_type": "execute_result"
        },
        {
          "data": {
            "image/png": "[encoded data removed]",
            "text/plain": [
              "<Figure size 864x576 with 1 Axes>"
            ]
          },
          "metadata": {
            "needs_background": "light"
          },
          "output_type": "display_data"
        }
      ],
      "source": [
        "plt.figure(figsize=(12,8))\n",
        "sns.boxplot(df.price)"
      ]
    },
    {
      "cell_type": "code",
      "execution_count": null,
      "id": "76a3883b",
      "metadata": {
        "id": "76a3883b"
      },
      "outputs": [],
      "source": [
        "#df.price.max()"
      ]
    },
    {
      "cell_type": "code",
      "execution_count": null,
      "id": "23450ca1",
      "metadata": {
        "id": "23450ca1"
      },
      "outputs": [],
      "source": [
        "#df.query('price < 2795000').price.max()"
      ]
    },
    {
      "cell_type": "code",
      "execution_count": null,
      "id": "0e9dba40",
      "metadata": {
        "id": "0e9dba40"
      },
      "outputs": [],
      "source": [
        "#df = df.query('price < 9999999')"
      ]
    },
    {
      "cell_type": "code",
      "execution_count": null,
      "id": "b35687a1",
      "metadata": {
        "id": "b35687a1"
      },
      "outputs": [],
      "source": [
        "#plt.figure(figsize=(12,8))\n",
        "#sns.boxplot(df.price)"
      ]
    },
    {
      "cell_type": "code",
      "execution_count": null,
      "id": "8e4220f1",
      "metadata": {
        "id": "8e4220f1"
      },
      "outputs": [],
      "source": [
        "#plt.figure(figsize=(12,8))\n",
        "#sns.distplot(df.query('log_price < 1000000 & log_price > -1000000').log_price,kde=False)"
      ]
    },
    {
      "cell_type": "markdown",
      "id": "19fd2d24",
      "metadata": {
        "id": "19fd2d24"
      },
      "source": [
        "5 Аналогично поработайте и с другими «важными для целевой функции price» параметрами (powerPS, yearOfRegistration, kilometer и т.д). «Важность» докажите через коэффициент корреляции. Сделайте визуализацию."
      ]
    },
    {
      "cell_type": "code",
      "execution_count": null,
      "id": "1db25385",
      "metadata": {
        "id": "1db25385",
        "outputId": "7c0c42aa-2383-43ca-c5f4-e5edeccc77c9"
      },
      "outputs": [
        {
          "data": {
            "text/html": [
              "<div>\n",
              "<style scoped>\n",
              "    .dataframe tbody tr th:only-of-type {\n",
              "        vertical-align: middle;\n",
              "    }\n",
              "\n",
              "    .dataframe tbody tr th {\n",
              "        vertical-align: top;\n",
              "    }\n",
              "\n",
              "    .dataframe thead th {\n",
              "        text-align: right;\n",
              "    }\n",
              "</style>\n",
              "<table border=\"1\" class=\"dataframe\">\n",
              "  <thead>\n",
              "    <tr style=\"text-align: right;\">\n",
              "      <th></th>\n",
              "      <th>dateCrawled</th>\n",
              "      <th>name</th>\n",
              "      <th>seller</th>\n",
              "      <th>offerType</th>\n",
              "      <th>price</th>\n",
              "      <th>abtest</th>\n",
              "      <th>vehicleType</th>\n",
              "      <th>yearOfRegistration</th>\n",
              "      <th>gearbox</th>\n",
              "      <th>powerPS</th>\n",
              "      <th>model</th>\n",
              "      <th>kilometer</th>\n",
              "      <th>monthOfRegistration</th>\n",
              "      <th>fuelType</th>\n",
              "      <th>brand</th>\n",
              "      <th>notRepairedDamage</th>\n",
              "      <th>dateCreated</th>\n",
              "      <th>postalCode</th>\n",
              "      <th>lastSeen</th>\n",
              "      <th>log_price</th>\n",
              "    </tr>\n",
              "  </thead>\n",
              "  <tbody>\n",
              "    <tr>\n",
              "      <th>0</th>\n",
              "      <td>2016-03-30 13:51:00</td>\n",
              "      <td>Zu_verkaufen</td>\n",
              "      <td>private</td>\n",
              "      <td>offer</td>\n",
              "      <td>4450</td>\n",
              "      <td>test</td>\n",
              "      <td>limousine</td>\n",
              "      <td>2003</td>\n",
              "      <td>manual</td>\n",
              "      <td>150</td>\n",
              "      <td>3er</td>\n",
              "      <td>150000</td>\n",
              "      <td>3</td>\n",
              "      <td>diesel</td>\n",
              "      <td>bmw</td>\n",
              "      <td>no</td>\n",
              "      <td>2016-03-30</td>\n",
              "      <td>20257</td>\n",
              "      <td>7/4/2016 4:44</td>\n",
              "      <td>8.400659</td>\n",
              "    </tr>\n",
              "    <tr>\n",
              "      <th>1</th>\n",
              "      <td>2016-07-03 09:54:00</td>\n",
              "      <td>Volvo_XC90_2.4D_Summum</td>\n",
              "      <td>private</td>\n",
              "      <td>offer</td>\n",
              "      <td>13299</td>\n",
              "      <td>control</td>\n",
              "      <td>suv</td>\n",
              "      <td>2005</td>\n",
              "      <td>manual</td>\n",
              "      <td>163</td>\n",
              "      <td>xc_reihe</td>\n",
              "      <td>150000</td>\n",
              "      <td>6</td>\n",
              "      <td>diesel</td>\n",
              "      <td>volvo</td>\n",
              "      <td>no</td>\n",
              "      <td>2016-07-03</td>\n",
              "      <td>88045</td>\n",
              "      <td>26/03/2016 13:17</td>\n",
              "      <td>9.495444</td>\n",
              "    </tr>\n",
              "    <tr>\n",
              "      <th>2</th>\n",
              "      <td>2016-01-04 00:57:00</td>\n",
              "      <td>Volkswagen_Touran</td>\n",
              "      <td>private</td>\n",
              "      <td>offer</td>\n",
              "      <td>3200</td>\n",
              "      <td>test</td>\n",
              "      <td>bus</td>\n",
              "      <td>2003</td>\n",
              "      <td>manual</td>\n",
              "      <td>101</td>\n",
              "      <td>touran</td>\n",
              "      <td>150000</td>\n",
              "      <td>11</td>\n",
              "      <td>diesel</td>\n",
              "      <td>volkswagen</td>\n",
              "      <td>no</td>\n",
              "      <td>2016-03-31</td>\n",
              "      <td>27449</td>\n",
              "      <td>1/4/2016 8:40</td>\n",
              "      <td>8.070906</td>\n",
              "    </tr>\n",
              "    <tr>\n",
              "      <th>3</th>\n",
              "      <td>2016-03-19 17:50:00</td>\n",
              "      <td>Seat_Ibiza_1.4_16V_Reference</td>\n",
              "      <td>private</td>\n",
              "      <td>offer</td>\n",
              "      <td>4500</td>\n",
              "      <td>control</td>\n",
              "      <td>small car</td>\n",
              "      <td>2006</td>\n",
              "      <td>manual</td>\n",
              "      <td>86</td>\n",
              "      <td>ibiza</td>\n",
              "      <td>60000</td>\n",
              "      <td>12</td>\n",
              "      <td>petrol</td>\n",
              "      <td>seat</td>\n",
              "      <td>no</td>\n",
              "      <td>2016-03-19</td>\n",
              "      <td>34537</td>\n",
              "      <td>7/4/2016 4:44</td>\n",
              "      <td>8.411833</td>\n",
              "    </tr>\n",
              "    <tr>\n",
              "      <th>4</th>\n",
              "      <td>2016-03-16 14:51:00</td>\n",
              "      <td>Volvo_XC90_D5_Aut._RDesign_R_Design_AWD_GSHD_S...</td>\n",
              "      <td>private</td>\n",
              "      <td>offer</td>\n",
              "      <td>18750</td>\n",
              "      <td>test</td>\n",
              "      <td>suv</td>\n",
              "      <td>2008</td>\n",
              "      <td>automatic</td>\n",
              "      <td>185</td>\n",
              "      <td>xc_reihe</td>\n",
              "      <td>150000</td>\n",
              "      <td>11</td>\n",
              "      <td>diesel</td>\n",
              "      <td>volvo</td>\n",
              "      <td>no</td>\n",
              "      <td>2016-03-16</td>\n",
              "      <td>55270</td>\n",
              "      <td>1/4/2016 23:18</td>\n",
              "      <td>9.838949</td>\n",
              "    </tr>\n",
              "  </tbody>\n",
              "</table>\n",
              "</div>"
            ],
            "text/plain": [
              "          dateCrawled                                               name  \\\n",
              "0 2016-03-30 13:51:00                                       Zu_verkaufen   \n",
              "1 2016-07-03 09:54:00                             Volvo_XC90_2.4D_Summum   \n",
              "2 2016-01-04 00:57:00                                  Volkswagen_Touran   \n",
              "3 2016-03-19 17:50:00                       Seat_Ibiza_1.4_16V_Reference   \n",
              "4 2016-03-16 14:51:00  Volvo_XC90_D5_Aut._RDesign_R_Design_AWD_GSHD_S...   \n",
              "\n",
              "    seller offerType  price   abtest vehicleType  yearOfRegistration  \\\n",
              "0  private     offer   4450     test   limousine                2003   \n",
              "1  private     offer  13299  control         suv                2005   \n",
              "2  private     offer   3200     test         bus                2003   \n",
              "3  private     offer   4500  control   small car                2006   \n",
              "4  private     offer  18750     test         suv                2008   \n",
              "\n",
              "     gearbox  powerPS     model  kilometer  monthOfRegistration fuelType  \\\n",
              "0     manual      150       3er     150000                    3   diesel   \n",
              "1     manual      163  xc_reihe     150000                    6   diesel   \n",
              "2     manual      101    touran     150000                   11   diesel   \n",
              "3     manual       86     ibiza      60000                   12   petrol   \n",
              "4  automatic      185  xc_reihe     150000                   11   diesel   \n",
              "\n",
              "        brand notRepairedDamage dateCreated  postalCode          lastSeen  \\\n",
              "0         bmw                no  2016-03-30       20257     7/4/2016 4:44   \n",
              "1       volvo                no  2016-07-03       88045  26/03/2016 13:17   \n",
              "2  volkswagen                no  2016-03-31       27449     1/4/2016 8:40   \n",
              "3        seat                no  2016-03-19       34537     7/4/2016 4:44   \n",
              "4       volvo                no  2016-03-16       55270    1/4/2016 23:18   \n",
              "\n",
              "   log_price  \n",
              "0   8.400659  \n",
              "1   9.495444  \n",
              "2   8.070906  \n",
              "3   8.411833  \n",
              "4   9.838949  "
            ]
          },
          "execution_count": 195,
          "metadata": {},
          "output_type": "execute_result"
        }
      ],
      "source": [
        "df.head(5)"
      ]
    },
    {
      "cell_type": "code",
      "execution_count": null,
      "id": "d620efaf",
      "metadata": {
        "id": "d620efaf",
        "outputId": "f58fbf24-4ba8-41a9-d4d3-c9cc606be696"
      },
      "outputs": [
        {
          "data": {
            "text/plain": [
              "dateCrawled            11576\n",
              "name                   31023\n",
              "seller                     2\n",
              "offerType                  1\n",
              "price                   1586\n",
              "abtest                     2\n",
              "vehicleType                8\n",
              "yearOfRegistration        24\n",
              "gearbox                    2\n",
              "powerPS                  381\n",
              "model                    243\n",
              "kilometer                 13\n",
              "monthOfRegistration       13\n",
              "fuelType                   7\n",
              "brand                     40\n",
              "notRepairedDamage          2\n",
              "dateCreated               70\n",
              "postalCode              6751\n",
              "lastSeen                9624\n",
              "log_price               1586\n",
              "dtype: int64"
            ]
          },
          "execution_count": 196,
          "metadata": {},
          "output_type": "execute_result"
        }
      ],
      "source": [
        "df.nunique()"
      ]
    },
    {
      "cell_type": "code",
      "execution_count": null,
      "id": "4470e47c",
      "metadata": {
        "id": "4470e47c",
        "outputId": "3753b173-f4e9-4040-eebd-1556732ee71a"
      },
      "outputs": [
        {
          "data": {
            "text/plain": [
              "array(['private', 'commercial'], dtype=object)"
            ]
          },
          "execution_count": 197,
          "metadata": {},
          "output_type": "execute_result"
        }
      ],
      "source": [
        "df.seller.unique()"
      ]
    },
    {
      "cell_type": "markdown",
      "id": "05292c6a",
      "metadata": {
        "id": "05292c6a"
      },
      "source": [
        "## переформатирование строковых в инт"
      ]
    },
    {
      "cell_type": "code",
      "execution_count": null,
      "id": "67e76053",
      "metadata": {
        "id": "67e76053"
      },
      "outputs": [],
      "source": [
        "df['sel_private'] = np.where(df.seller == \"commercial\", 0, 1)"
      ]
    },
    {
      "cell_type": "code",
      "execution_count": null,
      "id": "d7a5b922",
      "metadata": {
        "id": "d7a5b922"
      },
      "outputs": [],
      "source": [
        "#df['offerType_type'] = np.where(df.offerType == \"offer\", 0, 1)"
      ]
    },
    {
      "cell_type": "code",
      "execution_count": null,
      "id": "8f22fc9d",
      "metadata": {
        "id": "8f22fc9d"
      },
      "outputs": [],
      "source": [
        "df_new = df.query('seller == \"commercial\"').sel_private-1"
      ]
    },
    {
      "cell_type": "code",
      "execution_count": null,
      "id": "6fde638f",
      "metadata": {
        "id": "6fde638f"
      },
      "outputs": [],
      "source": [
        "df['abtest_type'] = np.where(df.abtest == \"test\", 0, 1)"
      ]
    },
    {
      "cell_type": "code",
      "execution_count": null,
      "id": "c2e28136",
      "metadata": {
        "id": "c2e28136"
      },
      "outputs": [],
      "source": [
        "df['gearbox_type'] = np.where(df.gearbox == \"manual\", 0, 1)"
      ]
    },
    {
      "cell_type": "code",
      "execution_count": null,
      "id": "41a5e845",
      "metadata": {
        "id": "41a5e845"
      },
      "outputs": [],
      "source": [
        "df['notRepairedDamage_type'] = np.where(df.notRepairedDamage == \"no\", 0, 1)"
      ]
    },
    {
      "cell_type": "code",
      "execution_count": null,
      "id": "e6c8c3fe",
      "metadata": {
        "id": "e6c8c3fe",
        "outputId": "27db2021-8f67-4c1e-95b4-e09da66f1e9f"
      },
      "outputs": [
        {
          "data": {
            "text/html": [
              "<div>\n",
              "<style scoped>\n",
              "    .dataframe tbody tr th:only-of-type {\n",
              "        vertical-align: middle;\n",
              "    }\n",
              "\n",
              "    .dataframe tbody tr th {\n",
              "        vertical-align: top;\n",
              "    }\n",
              "\n",
              "    .dataframe thead th {\n",
              "        text-align: right;\n",
              "    }\n",
              "</style>\n",
              "<table border=\"1\" class=\"dataframe\">\n",
              "  <thead>\n",
              "    <tr style=\"text-align: right;\">\n",
              "      <th></th>\n",
              "      <th>dateCrawled</th>\n",
              "      <th>name</th>\n",
              "      <th>seller</th>\n",
              "      <th>offerType</th>\n",
              "      <th>price</th>\n",
              "      <th>abtest</th>\n",
              "      <th>vehicleType</th>\n",
              "      <th>yearOfRegistration</th>\n",
              "      <th>gearbox</th>\n",
              "      <th>powerPS</th>\n",
              "      <th>...</th>\n",
              "      <th>brand</th>\n",
              "      <th>notRepairedDamage</th>\n",
              "      <th>dateCreated</th>\n",
              "      <th>postalCode</th>\n",
              "      <th>lastSeen</th>\n",
              "      <th>log_price</th>\n",
              "      <th>sel_private</th>\n",
              "      <th>abtest_type</th>\n",
              "      <th>gearbox_type</th>\n",
              "      <th>notRepairedDamage_type</th>\n",
              "    </tr>\n",
              "  </thead>\n",
              "  <tbody>\n",
              "    <tr>\n",
              "      <th>0</th>\n",
              "      <td>2016-03-30 13:51:00</td>\n",
              "      <td>Zu_verkaufen</td>\n",
              "      <td>private</td>\n",
              "      <td>offer</td>\n",
              "      <td>4450</td>\n",
              "      <td>test</td>\n",
              "      <td>limousine</td>\n",
              "      <td>2003</td>\n",
              "      <td>manual</td>\n",
              "      <td>150</td>\n",
              "      <td>...</td>\n",
              "      <td>bmw</td>\n",
              "      <td>no</td>\n",
              "      <td>2016-03-30</td>\n",
              "      <td>20257</td>\n",
              "      <td>7/4/2016 4:44</td>\n",
              "      <td>8.400659</td>\n",
              "      <td>1</td>\n",
              "      <td>0</td>\n",
              "      <td>0</td>\n",
              "      <td>0</td>\n",
              "    </tr>\n",
              "    <tr>\n",
              "      <th>1</th>\n",
              "      <td>2016-07-03 09:54:00</td>\n",
              "      <td>Volvo_XC90_2.4D_Summum</td>\n",
              "      <td>private</td>\n",
              "      <td>offer</td>\n",
              "      <td>13299</td>\n",
              "      <td>control</td>\n",
              "      <td>suv</td>\n",
              "      <td>2005</td>\n",
              "      <td>manual</td>\n",
              "      <td>163</td>\n",
              "      <td>...</td>\n",
              "      <td>volvo</td>\n",
              "      <td>no</td>\n",
              "      <td>2016-07-03</td>\n",
              "      <td>88045</td>\n",
              "      <td>26/03/2016 13:17</td>\n",
              "      <td>9.495444</td>\n",
              "      <td>1</td>\n",
              "      <td>1</td>\n",
              "      <td>0</td>\n",
              "      <td>0</td>\n",
              "    </tr>\n",
              "    <tr>\n",
              "      <th>2</th>\n",
              "      <td>2016-01-04 00:57:00</td>\n",
              "      <td>Volkswagen_Touran</td>\n",
              "      <td>private</td>\n",
              "      <td>offer</td>\n",
              "      <td>3200</td>\n",
              "      <td>test</td>\n",
              "      <td>bus</td>\n",
              "      <td>2003</td>\n",
              "      <td>manual</td>\n",
              "      <td>101</td>\n",
              "      <td>...</td>\n",
              "      <td>volkswagen</td>\n",
              "      <td>no</td>\n",
              "      <td>2016-03-31</td>\n",
              "      <td>27449</td>\n",
              "      <td>1/4/2016 8:40</td>\n",
              "      <td>8.070906</td>\n",
              "      <td>1</td>\n",
              "      <td>0</td>\n",
              "      <td>0</td>\n",
              "      <td>0</td>\n",
              "    </tr>\n",
              "    <tr>\n",
              "      <th>3</th>\n",
              "      <td>2016-03-19 17:50:00</td>\n",
              "      <td>Seat_Ibiza_1.4_16V_Reference</td>\n",
              "      <td>private</td>\n",
              "      <td>offer</td>\n",
              "      <td>4500</td>\n",
              "      <td>control</td>\n",
              "      <td>small car</td>\n",
              "      <td>2006</td>\n",
              "      <td>manual</td>\n",
              "      <td>86</td>\n",
              "      <td>...</td>\n",
              "      <td>seat</td>\n",
              "      <td>no</td>\n",
              "      <td>2016-03-19</td>\n",
              "      <td>34537</td>\n",
              "      <td>7/4/2016 4:44</td>\n",
              "      <td>8.411833</td>\n",
              "      <td>1</td>\n",
              "      <td>1</td>\n",
              "      <td>0</td>\n",
              "      <td>0</td>\n",
              "    </tr>\n",
              "    <tr>\n",
              "      <th>4</th>\n",
              "      <td>2016-03-16 14:51:00</td>\n",
              "      <td>Volvo_XC90_D5_Aut._RDesign_R_Design_AWD_GSHD_S...</td>\n",
              "      <td>private</td>\n",
              "      <td>offer</td>\n",
              "      <td>18750</td>\n",
              "      <td>test</td>\n",
              "      <td>suv</td>\n",
              "      <td>2008</td>\n",
              "      <td>automatic</td>\n",
              "      <td>185</td>\n",
              "      <td>...</td>\n",
              "      <td>volvo</td>\n",
              "      <td>no</td>\n",
              "      <td>2016-03-16</td>\n",
              "      <td>55270</td>\n",
              "      <td>1/4/2016 23:18</td>\n",
              "      <td>9.838949</td>\n",
              "      <td>1</td>\n",
              "      <td>0</td>\n",
              "      <td>1</td>\n",
              "      <td>0</td>\n",
              "    </tr>\n",
              "    <tr>\n",
              "      <th>...</th>\n",
              "      <td>...</td>\n",
              "      <td>...</td>\n",
              "      <td>...</td>\n",
              "      <td>...</td>\n",
              "      <td>...</td>\n",
              "      <td>...</td>\n",
              "      <td>...</td>\n",
              "      <td>...</td>\n",
              "      <td>...</td>\n",
              "      <td>...</td>\n",
              "      <td>...</td>\n",
              "      <td>...</td>\n",
              "      <td>...</td>\n",
              "      <td>...</td>\n",
              "      <td>...</td>\n",
              "      <td>...</td>\n",
              "      <td>...</td>\n",
              "      <td>...</td>\n",
              "      <td>...</td>\n",
              "      <td>...</td>\n",
              "      <td>...</td>\n",
              "    </tr>\n",
              "    <tr>\n",
              "      <th>49991</th>\n",
              "      <td>2016-10-03 23:36:00</td>\n",
              "      <td>BMW_X3_3.0i</td>\n",
              "      <td>private</td>\n",
              "      <td>offer</td>\n",
              "      <td>10900</td>\n",
              "      <td>test</td>\n",
              "      <td>limousine</td>\n",
              "      <td>2004</td>\n",
              "      <td>manual</td>\n",
              "      <td>231</td>\n",
              "      <td>...</td>\n",
              "      <td>bmw</td>\n",
              "      <td>no</td>\n",
              "      <td>2016-10-03</td>\n",
              "      <td>96152</td>\n",
              "      <td>6/4/2016 2:17</td>\n",
              "      <td>9.296518</td>\n",
              "      <td>1</td>\n",
              "      <td>0</td>\n",
              "      <td>0</td>\n",
              "      <td>0</td>\n",
              "    </tr>\n",
              "    <tr>\n",
              "      <th>49992</th>\n",
              "      <td>2016-03-14 13:57:00</td>\n",
              "      <td>Opel_Astra_2.0_DI_Elegance</td>\n",
              "      <td>private</td>\n",
              "      <td>offer</td>\n",
              "      <td>790</td>\n",
              "      <td>test</td>\n",
              "      <td>limousine</td>\n",
              "      <td>1998</td>\n",
              "      <td>manual</td>\n",
              "      <td>82</td>\n",
              "      <td>...</td>\n",
              "      <td>opel</td>\n",
              "      <td>no</td>\n",
              "      <td>2016-03-14</td>\n",
              "      <td>99310</td>\n",
              "      <td>31/03/2016 0:45</td>\n",
              "      <td>6.672033</td>\n",
              "      <td>1</td>\n",
              "      <td>0</td>\n",
              "      <td>0</td>\n",
              "      <td>0</td>\n",
              "    </tr>\n",
              "    <tr>\n",
              "      <th>49993</th>\n",
              "      <td>2016-03-14 11:37:00</td>\n",
              "      <td>Renault_Clio_mit_Servolenkung_und_neuem_TÜV!</td>\n",
              "      <td>private</td>\n",
              "      <td>offer</td>\n",
              "      <td>830</td>\n",
              "      <td>test</td>\n",
              "      <td>small car</td>\n",
              "      <td>1999</td>\n",
              "      <td>manual</td>\n",
              "      <td>60</td>\n",
              "      <td>...</td>\n",
              "      <td>renault</td>\n",
              "      <td>no</td>\n",
              "      <td>2016-03-14</td>\n",
              "      <td>33659</td>\n",
              "      <td>22/03/2016 4:47</td>\n",
              "      <td>6.721426</td>\n",
              "      <td>1</td>\n",
              "      <td>0</td>\n",
              "      <td>0</td>\n",
              "      <td>0</td>\n",
              "    </tr>\n",
              "    <tr>\n",
              "      <th>49995</th>\n",
              "      <td>2016-03-23 21:45:00</td>\n",
              "      <td>Opel_Astra_G_Caravan__Tuev_2/2018__Scheckheft_...</td>\n",
              "      <td>private</td>\n",
              "      <td>offer</td>\n",
              "      <td>2290</td>\n",
              "      <td>test</td>\n",
              "      <td>station wagon</td>\n",
              "      <td>2001</td>\n",
              "      <td>manual</td>\n",
              "      <td>101</td>\n",
              "      <td>...</td>\n",
              "      <td>opel</td>\n",
              "      <td>no</td>\n",
              "      <td>2016-03-23</td>\n",
              "      <td>27305</td>\n",
              "      <td>4/4/2016 1:47</td>\n",
              "      <td>7.736307</td>\n",
              "      <td>1</td>\n",
              "      <td>0</td>\n",
              "      <td>0</td>\n",
              "      <td>0</td>\n",
              "    </tr>\n",
              "    <tr>\n",
              "      <th>50000</th>\n",
              "      <td>2016-03-22 09:54:00</td>\n",
              "      <td>Chevrolet_Matiz_1.Hd_TÜV11/2017</td>\n",
              "      <td>commercial</td>\n",
              "      <td>offer</td>\n",
              "      <td>1100</td>\n",
              "      <td>test</td>\n",
              "      <td>small car</td>\n",
              "      <td>2006</td>\n",
              "      <td>manual</td>\n",
              "      <td>38</td>\n",
              "      <td>...</td>\n",
              "      <td>chevrolet</td>\n",
              "      <td>no</td>\n",
              "      <td>2016-03-22</td>\n",
              "      <td>7973</td>\n",
              "      <td>5/4/2016 21:15</td>\n",
              "      <td>7.003065</td>\n",
              "      <td>0</td>\n",
              "      <td>0</td>\n",
              "      <td>0</td>\n",
              "      <td>0</td>\n",
              "    </tr>\n",
              "  </tbody>\n",
              "</table>\n",
              "<p>40937 rows × 24 columns</p>\n",
              "</div>"
            ],
            "text/plain": [
              "              dateCrawled                                               name  \\\n",
              "0     2016-03-30 13:51:00                                       Zu_verkaufen   \n",
              "1     2016-07-03 09:54:00                             Volvo_XC90_2.4D_Summum   \n",
              "2     2016-01-04 00:57:00                                  Volkswagen_Touran   \n",
              "3     2016-03-19 17:50:00                       Seat_Ibiza_1.4_16V_Reference   \n",
              "4     2016-03-16 14:51:00  Volvo_XC90_D5_Aut._RDesign_R_Design_AWD_GSHD_S...   \n",
              "...                   ...                                                ...   \n",
              "49991 2016-10-03 23:36:00                                        BMW_X3_3.0i   \n",
              "49992 2016-03-14 13:57:00                         Opel_Astra_2.0_DI_Elegance   \n",
              "49993 2016-03-14 11:37:00       Renault_Clio_mit_Servolenkung_und_neuem_TÜV!   \n",
              "49995 2016-03-23 21:45:00  Opel_Astra_G_Caravan__Tuev_2/2018__Scheckheft_...   \n",
              "50000 2016-03-22 09:54:00                    Chevrolet_Matiz_1.Hd_TÜV11/2017   \n",
              "\n",
              "           seller offerType  price   abtest    vehicleType  \\\n",
              "0         private     offer   4450     test      limousine   \n",
              "1         private     offer  13299  control            suv   \n",
              "2         private     offer   3200     test            bus   \n",
              "3         private     offer   4500  control      small car   \n",
              "4         private     offer  18750     test            suv   \n",
              "...           ...       ...    ...      ...            ...   \n",
              "49991     private     offer  10900     test      limousine   \n",
              "49992     private     offer    790     test      limousine   \n",
              "49993     private     offer    830     test      small car   \n",
              "49995     private     offer   2290     test  station wagon   \n",
              "50000  commercial     offer   1100     test      small car   \n",
              "\n",
              "       yearOfRegistration    gearbox  powerPS  ...       brand  \\\n",
              "0                    2003     manual      150  ...         bmw   \n",
              "1                    2005     manual      163  ...       volvo   \n",
              "2                    2003     manual      101  ...  volkswagen   \n",
              "3                    2006     manual       86  ...        seat   \n",
              "4                    2008  automatic      185  ...       volvo   \n",
              "...                   ...        ...      ...  ...         ...   \n",
              "49991                2004     manual      231  ...         bmw   \n",
              "49992                1998     manual       82  ...        opel   \n",
              "49993                1999     manual       60  ...     renault   \n",
              "49995                2001     manual      101  ...        opel   \n",
              "50000                2006     manual       38  ...   chevrolet   \n",
              "\n",
              "       notRepairedDamage  dateCreated postalCode          lastSeen log_price  \\\n",
              "0                     no   2016-03-30      20257     7/4/2016 4:44  8.400659   \n",
              "1                     no   2016-07-03      88045  26/03/2016 13:17  9.495444   \n",
              "2                     no   2016-03-31      27449     1/4/2016 8:40  8.070906   \n",
              "3                     no   2016-03-19      34537     7/4/2016 4:44  8.411833   \n",
              "4                     no   2016-03-16      55270    1/4/2016 23:18  9.838949   \n",
              "...                  ...          ...        ...               ...       ...   \n",
              "49991                 no   2016-10-03      96152     6/4/2016 2:17  9.296518   \n",
              "49992                 no   2016-03-14      99310   31/03/2016 0:45  6.672033   \n",
              "49993                 no   2016-03-14      33659   22/03/2016 4:47  6.721426   \n",
              "49995                 no   2016-03-23      27305     4/4/2016 1:47  7.736307   \n",
              "50000                 no   2016-03-22       7973    5/4/2016 21:15  7.003065   \n",
              "\n",
              "      sel_private  abtest_type gearbox_type  notRepairedDamage_type  \n",
              "0               1            0            0                       0  \n",
              "1               1            1            0                       0  \n",
              "2               1            0            0                       0  \n",
              "3               1            1            0                       0  \n",
              "4               1            0            1                       0  \n",
              "...           ...          ...          ...                     ...  \n",
              "49991           1            0            0                       0  \n",
              "49992           1            0            0                       0  \n",
              "49993           1            0            0                       0  \n",
              "49995           1            0            0                       0  \n",
              "50000           0            0            0                       0  \n",
              "\n",
              "[40937 rows x 24 columns]"
            ]
          },
          "execution_count": 204,
          "metadata": {},
          "output_type": "execute_result"
        }
      ],
      "source": [
        "df"
      ]
    },
    {
      "cell_type": "code",
      "execution_count": null,
      "id": "6da880b9",
      "metadata": {
        "id": "6da880b9",
        "outputId": "77e5bf6c-7d1e-4408-ff06-129e6dd704f3"
      },
      "outputs": [
        {
          "data": {
            "text/plain": [
              "dateCrawled               11576\n",
              "name                      31023\n",
              "seller                        2\n",
              "offerType                     1\n",
              "price                      1586\n",
              "abtest                        2\n",
              "vehicleType                   8\n",
              "yearOfRegistration           24\n",
              "gearbox                       2\n",
              "powerPS                     381\n",
              "model                       243\n",
              "kilometer                    13\n",
              "monthOfRegistration          13\n",
              "fuelType                      7\n",
              "brand                        40\n",
              "notRepairedDamage             2\n",
              "dateCreated                  70\n",
              "postalCode                 6751\n",
              "lastSeen                   9624\n",
              "log_price                  1586\n",
              "sel_private                   2\n",
              "abtest_type                   2\n",
              "gearbox_type                  2\n",
              "notRepairedDamage_type        2\n",
              "dtype: int64"
            ]
          },
          "execution_count": 205,
          "metadata": {},
          "output_type": "execute_result"
        }
      ],
      "source": [
        "df.nunique()"
      ]
    },
    {
      "cell_type": "code",
      "execution_count": null,
      "id": "6ac371de",
      "metadata": {
        "id": "6ac371de",
        "outputId": "18555423-58b7-4546-83e1-a60cde8154b1"
      },
      "outputs": [
        {
          "data": {
            "text/html": [
              "<div>\n",
              "<style scoped>\n",
              "    .dataframe tbody tr th:only-of-type {\n",
              "        vertical-align: middle;\n",
              "    }\n",
              "\n",
              "    .dataframe tbody tr th {\n",
              "        vertical-align: top;\n",
              "    }\n",
              "\n",
              "    .dataframe thead th {\n",
              "        text-align: right;\n",
              "    }\n",
              "</style>\n",
              "<table border=\"1\" class=\"dataframe\">\n",
              "  <thead>\n",
              "    <tr style=\"text-align: right;\">\n",
              "      <th></th>\n",
              "      <th>price</th>\n",
              "      <th>yearOfRegistration</th>\n",
              "      <th>powerPS</th>\n",
              "      <th>kilometer</th>\n",
              "      <th>monthOfRegistration</th>\n",
              "      <th>postalCode</th>\n",
              "      <th>log_price</th>\n",
              "      <th>sel_private</th>\n",
              "      <th>abtest_type</th>\n",
              "      <th>gearbox_type</th>\n",
              "      <th>notRepairedDamage_type</th>\n",
              "    </tr>\n",
              "  </thead>\n",
              "  <tbody>\n",
              "    <tr>\n",
              "      <th>price</th>\n",
              "      <td>1.000000</td>\n",
              "      <td>0.600032</td>\n",
              "      <td>0.138229</td>\n",
              "      <td>-0.368090</td>\n",
              "      <td>0.084135</td>\n",
              "      <td>0.065477</td>\n",
              "      <td>0.886778</td>\n",
              "      <td>0.003998</td>\n",
              "      <td>-0.002517</td>\n",
              "      <td>0.257620</td>\n",
              "      <td>-0.181816</td>\n",
              "    </tr>\n",
              "    <tr>\n",
              "      <th>yearOfRegistration</th>\n",
              "      <td>0.600032</td>\n",
              "      <td>1.000000</td>\n",
              "      <td>0.032381</td>\n",
              "      <td>-0.393015</td>\n",
              "      <td>0.028395</td>\n",
              "      <td>0.030180</td>\n",
              "      <td>0.613645</td>\n",
              "      <td>-0.002283</td>\n",
              "      <td>-0.005469</td>\n",
              "      <td>0.044793</td>\n",
              "      <td>-0.097591</td>\n",
              "    </tr>\n",
              "    <tr>\n",
              "      <th>powerPS</th>\n",
              "      <td>0.138229</td>\n",
              "      <td>0.032381</td>\n",
              "      <td>1.000000</td>\n",
              "      <td>0.008250</td>\n",
              "      <td>0.023338</td>\n",
              "      <td>0.012819</td>\n",
              "      <td>0.139505</td>\n",
              "      <td>0.001720</td>\n",
              "      <td>-0.003247</td>\n",
              "      <td>0.102657</td>\n",
              "      <td>-0.013199</td>\n",
              "    </tr>\n",
              "    <tr>\n",
              "      <th>kilometer</th>\n",
              "      <td>-0.368090</td>\n",
              "      <td>-0.393015</td>\n",
              "      <td>0.008250</td>\n",
              "      <td>1.000000</td>\n",
              "      <td>-0.012988</td>\n",
              "      <td>-0.005608</td>\n",
              "      <td>-0.321965</td>\n",
              "      <td>-0.002838</td>\n",
              "      <td>0.003636</td>\n",
              "      <td>0.018724</td>\n",
              "      <td>0.068371</td>\n",
              "    </tr>\n",
              "    <tr>\n",
              "      <th>monthOfRegistration</th>\n",
              "      <td>0.084135</td>\n",
              "      <td>0.028395</td>\n",
              "      <td>0.023338</td>\n",
              "      <td>-0.012988</td>\n",
              "      <td>1.000000</td>\n",
              "      <td>0.008928</td>\n",
              "      <td>0.116878</td>\n",
              "      <td>-0.005518</td>\n",
              "      <td>-0.001681</td>\n",
              "      <td>0.038151</td>\n",
              "      <td>-0.044568</td>\n",
              "    </tr>\n",
              "    <tr>\n",
              "      <th>postalCode</th>\n",
              "      <td>0.065477</td>\n",
              "      <td>0.030180</td>\n",
              "      <td>0.012819</td>\n",
              "      <td>-0.005608</td>\n",
              "      <td>0.008928</td>\n",
              "      <td>1.000000</td>\n",
              "      <td>0.067309</td>\n",
              "      <td>0.008287</td>\n",
              "      <td>-0.004327</td>\n",
              "      <td>-0.036593</td>\n",
              "      <td>0.007533</td>\n",
              "    </tr>\n",
              "    <tr>\n",
              "      <th>log_price</th>\n",
              "      <td>0.886778</td>\n",
              "      <td>0.613645</td>\n",
              "      <td>0.139505</td>\n",
              "      <td>-0.321965</td>\n",
              "      <td>0.116878</td>\n",
              "      <td>0.067309</td>\n",
              "      <td>1.000000</td>\n",
              "      <td>0.004519</td>\n",
              "      <td>0.000693</td>\n",
              "      <td>0.244844</td>\n",
              "      <td>-0.245508</td>\n",
              "    </tr>\n",
              "    <tr>\n",
              "      <th>sel_private</th>\n",
              "      <td>0.003998</td>\n",
              "      <td>-0.002283</td>\n",
              "      <td>0.001720</td>\n",
              "      <td>-0.002838</td>\n",
              "      <td>-0.005518</td>\n",
              "      <td>0.008287</td>\n",
              "      <td>0.004519</td>\n",
              "      <td>1.000000</td>\n",
              "      <td>0.004775</td>\n",
              "      <td>0.002430</td>\n",
              "      <td>0.001597</td>\n",
              "    </tr>\n",
              "    <tr>\n",
              "      <th>abtest_type</th>\n",
              "      <td>-0.002517</td>\n",
              "      <td>-0.005469</td>\n",
              "      <td>-0.003247</td>\n",
              "      <td>0.003636</td>\n",
              "      <td>-0.001681</td>\n",
              "      <td>-0.004327</td>\n",
              "      <td>0.000693</td>\n",
              "      <td>0.004775</td>\n",
              "      <td>1.000000</td>\n",
              "      <td>-0.005683</td>\n",
              "      <td>0.004930</td>\n",
              "    </tr>\n",
              "    <tr>\n",
              "      <th>gearbox_type</th>\n",
              "      <td>0.257620</td>\n",
              "      <td>0.044793</td>\n",
              "      <td>0.102657</td>\n",
              "      <td>0.018724</td>\n",
              "      <td>0.038151</td>\n",
              "      <td>-0.036593</td>\n",
              "      <td>0.244844</td>\n",
              "      <td>0.002430</td>\n",
              "      <td>-0.005683</td>\n",
              "      <td>1.000000</td>\n",
              "      <td>-0.012746</td>\n",
              "    </tr>\n",
              "    <tr>\n",
              "      <th>notRepairedDamage_type</th>\n",
              "      <td>-0.181816</td>\n",
              "      <td>-0.097591</td>\n",
              "      <td>-0.013199</td>\n",
              "      <td>0.068371</td>\n",
              "      <td>-0.044568</td>\n",
              "      <td>0.007533</td>\n",
              "      <td>-0.245508</td>\n",
              "      <td>0.001597</td>\n",
              "      <td>0.004930</td>\n",
              "      <td>-0.012746</td>\n",
              "      <td>1.000000</td>\n",
              "    </tr>\n",
              "  </tbody>\n",
              "</table>\n",
              "</div>"
            ],
            "text/plain": [
              "                           price  yearOfRegistration   powerPS  kilometer  \\\n",
              "price                   1.000000            0.600032  0.138229  -0.368090   \n",
              "yearOfRegistration      0.600032            1.000000  0.032381  -0.393015   \n",
              "powerPS                 0.138229            0.032381  1.000000   0.008250   \n",
              "kilometer              -0.368090           -0.393015  0.008250   1.000000   \n",
              "monthOfRegistration     0.084135            0.028395  0.023338  -0.012988   \n",
              "postalCode              0.065477            0.030180  0.012819  -0.005608   \n",
              "log_price               0.886778            0.613645  0.139505  -0.321965   \n",
              "sel_private             0.003998           -0.002283  0.001720  -0.002838   \n",
              "abtest_type            -0.002517           -0.005469 -0.003247   0.003636   \n",
              "gearbox_type            0.257620            0.044793  0.102657   0.018724   \n",
              "notRepairedDamage_type -0.181816           -0.097591 -0.013199   0.068371   \n",
              "\n",
              "                        monthOfRegistration  postalCode  log_price  \\\n",
              "price                              0.084135    0.065477   0.886778   \n",
              "yearOfRegistration                 0.028395    0.030180   0.613645   \n",
              "powerPS                            0.023338    0.012819   0.139505   \n",
              "kilometer                         -0.012988   -0.005608  -0.321965   \n",
              "monthOfRegistration                1.000000    0.008928   0.116878   \n",
              "postalCode                         0.008928    1.000000   0.067309   \n",
              "log_price                          0.116878    0.067309   1.000000   \n",
              "sel_private                       -0.005518    0.008287   0.004519   \n",
              "abtest_type                       -0.001681   -0.004327   0.000693   \n",
              "gearbox_type                       0.038151   -0.036593   0.244844   \n",
              "notRepairedDamage_type            -0.044568    0.007533  -0.245508   \n",
              "\n",
              "                        sel_private  abtest_type  gearbox_type  \\\n",
              "price                      0.003998    -0.002517      0.257620   \n",
              "yearOfRegistration        -0.002283    -0.005469      0.044793   \n",
              "powerPS                    0.001720    -0.003247      0.102657   \n",
              "kilometer                 -0.002838     0.003636      0.018724   \n",
              "monthOfRegistration       -0.005518    -0.001681      0.038151   \n",
              "postalCode                 0.008287    -0.004327     -0.036593   \n",
              "log_price                  0.004519     0.000693      0.244844   \n",
              "sel_private                1.000000     0.004775      0.002430   \n",
              "abtest_type                0.004775     1.000000     -0.005683   \n",
              "gearbox_type               0.002430    -0.005683      1.000000   \n",
              "notRepairedDamage_type     0.001597     0.004930     -0.012746   \n",
              "\n",
              "                        notRepairedDamage_type  \n",
              "price                                -0.181816  \n",
              "yearOfRegistration                   -0.097591  \n",
              "powerPS                              -0.013199  \n",
              "kilometer                             0.068371  \n",
              "monthOfRegistration                  -0.044568  \n",
              "postalCode                            0.007533  \n",
              "log_price                            -0.245508  \n",
              "sel_private                           0.001597  \n",
              "abtest_type                           0.004930  \n",
              "gearbox_type                         -0.012746  \n",
              "notRepairedDamage_type                1.000000  "
            ]
          },
          "execution_count": 206,
          "metadata": {},
          "output_type": "execute_result"
        }
      ],
      "source": [
        "df.corr()"
      ]
    },
    {
      "cell_type": "code",
      "execution_count": null,
      "id": "099b929a",
      "metadata": {
        "id": "099b929a"
      },
      "outputs": [],
      "source": [
        "#np.corrcoef(x=df.price, y = [df.yearOfRegistration,df.powerPS])"
      ]
    },
    {
      "cell_type": "code",
      "execution_count": null,
      "id": "6d0dbca7",
      "metadata": {
        "id": "6d0dbca7",
        "outputId": "c4999501-81f6-4439-e90d-92b0b1c953d8"
      },
      "outputs": [
        {
          "data": {
            "text/plain": [
              "<AxesSubplot:>"
            ]
          },
          "execution_count": 207,
          "metadata": {},
          "output_type": "execute_result"
        },
        {
          "data": {
            "image/png": "[encoded data removed]",
            "text/plain": [
              "<Figure size 1080x720 with 2 Axes>"
            ]
          },
          "metadata": {
            "needs_background": "light"
          },
          "output_type": "display_data"
        }
      ],
      "source": [
        "plt.figure(figsize=(15,10))\n",
        "sns.heatmap(df.corr(), annot = True)"
      ]
    },
    {
      "cell_type": "markdown",
      "id": "6f63c227",
      "metadata": {
        "id": "6f63c227"
      },
      "source": [
        "из таблицы корреляций можно сделать вывод, что важными являются yearOfRegistration, powerPS, kilometer, gearbox_type, notRepairedDamage_type"
      ]
    },
    {
      "cell_type": "markdown",
      "id": "806b4e28",
      "metadata": {
        "id": "806b4e28"
      },
      "source": [
        "6 Постройте ящиковые диаграммы зависимости gearbox, fuelType, vehicleType, notRepairedDamage от price. Сделайте выводы. Можно ли убрать значения с малой частотой? Повлияет ли это на дальнейшее исследование?"
      ]
    },
    {
      "cell_type": "code",
      "execution_count": null,
      "id": "b42450fd",
      "metadata": {
        "id": "b42450fd",
        "outputId": "9b91366b-c8c1-4c5a-9a96-7db50febace6"
      },
      "outputs": [
        {
          "data": {
            "text/plain": [
              "<AxesSubplot:xlabel='fuelType', ylabel='price'>"
            ]
          },
          "execution_count": 208,
          "metadata": {},
          "output_type": "execute_result"
        },
        {
          "data": {
            "image/png": "[encoded data removed]",
            "text/plain": [
              "<Figure size 864x576 with 1 Axes>"
            ]
          },
          "metadata": {
            "needs_background": "light"
          },
          "output_type": "display_data"
        }
      ],
      "source": [
        "plt.figure(figsize=(12,8))\n",
        "sns.violinplot(x=\"fuelType\", y=\"price\", data=df)"
      ]
    },
    {
      "cell_type": "code",
      "execution_count": null,
      "id": "39c76cac",
      "metadata": {
        "id": "39c76cac",
        "outputId": "d7a0358d-165f-407d-f071-e578f1ae49fe"
      },
      "outputs": [
        {
          "data": {
            "text/plain": [
              "<AxesSubplot:xlabel='vehicleType', ylabel='price'>"
            ]
          },
          "execution_count": 209,
          "metadata": {},
          "output_type": "execute_result"
        },
        {
          "data": {
            "image/png": "[encoded data removed]",
            "text/plain": [
              "<Figure size 864x576 with 1 Axes>"
            ]
          },
          "metadata": {
            "needs_background": "light"
          },
          "output_type": "display_data"
        }
      ],
      "source": [
        "plt.figure(figsize=(12,8))\n",
        "sns.violinplot(x=\"vehicleType\", y=\"price\", data=df)"
      ]
    },
    {
      "cell_type": "code",
      "execution_count": null,
      "id": "812a2644",
      "metadata": {
        "id": "812a2644",
        "outputId": "69f50aad-dba1-4330-d3bd-0bb85ad1dae6"
      },
      "outputs": [
        {
          "data": {
            "text/plain": [
              "<AxesSubplot:xlabel='notRepairedDamage', ylabel='price'>"
            ]
          },
          "execution_count": 210,
          "metadata": {},
          "output_type": "execute_result"
        },
        {
          "data": {
            "image/png": "[encoded data removed]",
            "text/plain": [
              "<Figure size 864x576 with 1 Axes>"
            ]
          },
          "metadata": {
            "needs_background": "light"
          },
          "output_type": "display_data"
        }
      ],
      "source": [
        "plt.figure(figsize=(12,8))\n",
        "sns.violinplot(x=\"notRepairedDamage\", y=\"price\", data=df)"
      ]
    },
    {
      "cell_type": "code",
      "execution_count": null,
      "id": "7127e1a8",
      "metadata": {
        "id": "7127e1a8",
        "outputId": "9b730759-fbd3-4285-c4cb-faf95d202aec"
      },
      "outputs": [
        {
          "data": {
            "image/png": "[encoded data removed]",
            "text/plain": [
              "<Figure size 432x288 with 1 Axes>"
            ]
          },
          "metadata": {
            "needs_background": "light"
          },
          "output_type": "display_data"
        }
      ],
      "source": [
        "sns.boxplot(\n",
        "data=df,\n",
        "x='price',\n",
        "y='fuelType'\n",
        ")"
      ]
    },
    {
      "cell_type": "code",
      "execution_count": null,
      "id": "d1286f4b",
      "metadata": {
        "id": "d1286f4b",
        "outputId": "fe7d7edc-d61a-4e90-879d-b2124dc3a075"
      },
      "outputs": [
        {
          "data": {
            "image/png": "[encoded data removed]",
            "text/plain": [
              "<Figure size 432x288 with 1 Axes>"
            ]
          },
          "metadata": {
            "needs_background": "light"
          },
          "output_type": "display_data"
        }
      ],
      "source": [
        "sns.boxplot(\n",
        "data=df,\n",
        "x='price',\n",
        "y='gearbox'\n",
        ")"
      ]
    },
    {
      "cell_type": "code",
      "execution_count": null,
      "id": "37d141d7",
      "metadata": {
        "id": "37d141d7",
        "outputId": "873fa8e5-0c23-40e5-a04d-e8f63f842c1c"
      },
      "outputs": [
        {
          "data": {
            "image/png": "[encoded data removed]",
            "text/plain": [
              "<Figure size 432x288 with 1 Axes>"
            ]
          },
          "metadata": {
            "needs_background": "light"
          },
          "output_type": "display_data"
        }
      ],
      "source": [
        "sns.boxplot(\n",
        "data=df,\n",
        "x='price',\n",
        "y='vehicleType'\n",
        ")"
      ]
    },
    {
      "cell_type": "code",
      "execution_count": null,
      "id": "b694b39a",
      "metadata": {
        "id": "b694b39a",
        "outputId": "0a1ce694-88b1-43f5-8ce3-96c2e99294d8"
      },
      "outputs": [
        {
          "data": {
            "text/plain": [
              "<AxesSubplot:xlabel='price', ylabel='notRepairedDamage'>"
            ]
          },
          "execution_count": 217,
          "metadata": {},
          "output_type": "execute_result"
        },
        {
          "data": {
            "image/png": "[encoded data removed]",
            "text/plain": [
              "<Figure size 432x288 with 1 Axes>"
            ]
          },
          "metadata": {
            "needs_background": "light"
          },
          "output_type": "display_data"
        }
      ],
      "source": [
        "sns.boxplot(\n",
        "data=df,\n",
        "x='price',\n",
        "y='notRepairedDamage'\n",
        ")"
      ]
    },
    {
      "cell_type": "markdown",
      "id": "ff4953e6",
      "metadata": {
        "id": "ff4953e6"
      },
      "source": [
        "# построение модели регрессии"
      ]
    },
    {
      "cell_type": "code",
      "execution_count": null,
      "id": "4fadb225",
      "metadata": {
        "id": "4fadb225",
        "outputId": "e75015cc-3d03-4bfb-9dc8-1c5786f78591"
      },
      "outputs": [
        {
          "data": {
            "text/html": [
              "<div>\n",
              "<style scoped>\n",
              "    .dataframe tbody tr th:only-of-type {\n",
              "        vertical-align: middle;\n",
              "    }\n",
              "\n",
              "    .dataframe tbody tr th {\n",
              "        vertical-align: top;\n",
              "    }\n",
              "\n",
              "    .dataframe thead th {\n",
              "        text-align: right;\n",
              "    }\n",
              "</style>\n",
              "<table border=\"1\" class=\"dataframe\">\n",
              "  <thead>\n",
              "    <tr style=\"text-align: right;\">\n",
              "      <th></th>\n",
              "      <th>dateCrawled</th>\n",
              "      <th>name</th>\n",
              "      <th>seller</th>\n",
              "      <th>offerType</th>\n",
              "      <th>price</th>\n",
              "      <th>abtest</th>\n",
              "      <th>vehicleType</th>\n",
              "      <th>yearOfRegistration</th>\n",
              "      <th>gearbox</th>\n",
              "      <th>powerPS</th>\n",
              "      <th>...</th>\n",
              "      <th>brand</th>\n",
              "      <th>notRepairedDamage</th>\n",
              "      <th>dateCreated</th>\n",
              "      <th>postalCode</th>\n",
              "      <th>lastSeen</th>\n",
              "      <th>log_price</th>\n",
              "      <th>sel_private</th>\n",
              "      <th>abtest_type</th>\n",
              "      <th>gearbox_type</th>\n",
              "      <th>notRepairedDamage_type</th>\n",
              "    </tr>\n",
              "  </thead>\n",
              "  <tbody>\n",
              "    <tr>\n",
              "      <th>0</th>\n",
              "      <td>2016-03-30 13:51:00</td>\n",
              "      <td>Zu_verkaufen</td>\n",
              "      <td>private</td>\n",
              "      <td>offer</td>\n",
              "      <td>4450</td>\n",
              "      <td>test</td>\n",
              "      <td>limousine</td>\n",
              "      <td>2003</td>\n",
              "      <td>manual</td>\n",
              "      <td>150</td>\n",
              "      <td>...</td>\n",
              "      <td>bmw</td>\n",
              "      <td>no</td>\n",
              "      <td>2016-03-30</td>\n",
              "      <td>20257</td>\n",
              "      <td>7/4/2016 4:44</td>\n",
              "      <td>8.400659</td>\n",
              "      <td>1</td>\n",
              "      <td>0</td>\n",
              "      <td>0</td>\n",
              "      <td>0</td>\n",
              "    </tr>\n",
              "    <tr>\n",
              "      <th>1</th>\n",
              "      <td>2016-07-03 09:54:00</td>\n",
              "      <td>Volvo_XC90_2.4D_Summum</td>\n",
              "      <td>private</td>\n",
              "      <td>offer</td>\n",
              "      <td>13299</td>\n",
              "      <td>control</td>\n",
              "      <td>suv</td>\n",
              "      <td>2005</td>\n",
              "      <td>manual</td>\n",
              "      <td>163</td>\n",
              "      <td>...</td>\n",
              "      <td>volvo</td>\n",
              "      <td>no</td>\n",
              "      <td>2016-07-03</td>\n",
              "      <td>88045</td>\n",
              "      <td>26/03/2016 13:17</td>\n",
              "      <td>9.495444</td>\n",
              "      <td>1</td>\n",
              "      <td>1</td>\n",
              "      <td>0</td>\n",
              "      <td>0</td>\n",
              "    </tr>\n",
              "    <tr>\n",
              "      <th>2</th>\n",
              "      <td>2016-01-04 00:57:00</td>\n",
              "      <td>Volkswagen_Touran</td>\n",
              "      <td>private</td>\n",
              "      <td>offer</td>\n",
              "      <td>3200</td>\n",
              "      <td>test</td>\n",
              "      <td>bus</td>\n",
              "      <td>2003</td>\n",
              "      <td>manual</td>\n",
              "      <td>101</td>\n",
              "      <td>...</td>\n",
              "      <td>volkswagen</td>\n",
              "      <td>no</td>\n",
              "      <td>2016-03-31</td>\n",
              "      <td>27449</td>\n",
              "      <td>1/4/2016 8:40</td>\n",
              "      <td>8.070906</td>\n",
              "      <td>1</td>\n",
              "      <td>0</td>\n",
              "      <td>0</td>\n",
              "      <td>0</td>\n",
              "    </tr>\n",
              "    <tr>\n",
              "      <th>3</th>\n",
              "      <td>2016-03-19 17:50:00</td>\n",
              "      <td>Seat_Ibiza_1.4_16V_Reference</td>\n",
              "      <td>private</td>\n",
              "      <td>offer</td>\n",
              "      <td>4500</td>\n",
              "      <td>control</td>\n",
              "      <td>small car</td>\n",
              "      <td>2006</td>\n",
              "      <td>manual</td>\n",
              "      <td>86</td>\n",
              "      <td>...</td>\n",
              "      <td>seat</td>\n",
              "      <td>no</td>\n",
              "      <td>2016-03-19</td>\n",
              "      <td>34537</td>\n",
              "      <td>7/4/2016 4:44</td>\n",
              "      <td>8.411833</td>\n",
              "      <td>1</td>\n",
              "      <td>1</td>\n",
              "      <td>0</td>\n",
              "      <td>0</td>\n",
              "    </tr>\n",
              "    <tr>\n",
              "      <th>4</th>\n",
              "      <td>2016-03-16 14:51:00</td>\n",
              "      <td>Volvo_XC90_D5_Aut._RDesign_R_Design_AWD_GSHD_S...</td>\n",
              "      <td>private</td>\n",
              "      <td>offer</td>\n",
              "      <td>18750</td>\n",
              "      <td>test</td>\n",
              "      <td>suv</td>\n",
              "      <td>2008</td>\n",
              "      <td>automatic</td>\n",
              "      <td>185</td>\n",
              "      <td>...</td>\n",
              "      <td>volvo</td>\n",
              "      <td>no</td>\n",
              "      <td>2016-03-16</td>\n",
              "      <td>55270</td>\n",
              "      <td>1/4/2016 23:18</td>\n",
              "      <td>9.838949</td>\n",
              "      <td>1</td>\n",
              "      <td>0</td>\n",
              "      <td>1</td>\n",
              "      <td>0</td>\n",
              "    </tr>\n",
              "    <tr>\n",
              "      <th>...</th>\n",
              "      <td>...</td>\n",
              "      <td>...</td>\n",
              "      <td>...</td>\n",
              "      <td>...</td>\n",
              "      <td>...</td>\n",
              "      <td>...</td>\n",
              "      <td>...</td>\n",
              "      <td>...</td>\n",
              "      <td>...</td>\n",
              "      <td>...</td>\n",
              "      <td>...</td>\n",
              "      <td>...</td>\n",
              "      <td>...</td>\n",
              "      <td>...</td>\n",
              "      <td>...</td>\n",
              "      <td>...</td>\n",
              "      <td>...</td>\n",
              "      <td>...</td>\n",
              "      <td>...</td>\n",
              "      <td>...</td>\n",
              "      <td>...</td>\n",
              "    </tr>\n",
              "    <tr>\n",
              "      <th>49991</th>\n",
              "      <td>2016-10-03 23:36:00</td>\n",
              "      <td>BMW_X3_3.0i</td>\n",
              "      <td>private</td>\n",
              "      <td>offer</td>\n",
              "      <td>10900</td>\n",
              "      <td>test</td>\n",
              "      <td>limousine</td>\n",
              "      <td>2004</td>\n",
              "      <td>manual</td>\n",
              "      <td>231</td>\n",
              "      <td>...</td>\n",
              "      <td>bmw</td>\n",
              "      <td>no</td>\n",
              "      <td>2016-10-03</td>\n",
              "      <td>96152</td>\n",
              "      <td>6/4/2016 2:17</td>\n",
              "      <td>9.296518</td>\n",
              "      <td>1</td>\n",
              "      <td>0</td>\n",
              "      <td>0</td>\n",
              "      <td>0</td>\n",
              "    </tr>\n",
              "    <tr>\n",
              "      <th>49992</th>\n",
              "      <td>2016-03-14 13:57:00</td>\n",
              "      <td>Opel_Astra_2.0_DI_Elegance</td>\n",
              "      <td>private</td>\n",
              "      <td>offer</td>\n",
              "      <td>790</td>\n",
              "      <td>test</td>\n",
              "      <td>limousine</td>\n",
              "      <td>1998</td>\n",
              "      <td>manual</td>\n",
              "      <td>82</td>\n",
              "      <td>...</td>\n",
              "      <td>opel</td>\n",
              "      <td>no</td>\n",
              "      <td>2016-03-14</td>\n",
              "      <td>99310</td>\n",
              "      <td>31/03/2016 0:45</td>\n",
              "      <td>6.672033</td>\n",
              "      <td>1</td>\n",
              "      <td>0</td>\n",
              "      <td>0</td>\n",
              "      <td>0</td>\n",
              "    </tr>\n",
              "    <tr>\n",
              "      <th>49993</th>\n",
              "      <td>2016-03-14 11:37:00</td>\n",
              "      <td>Renault_Clio_mit_Servolenkung_und_neuem_TÜV!</td>\n",
              "      <td>private</td>\n",
              "      <td>offer</td>\n",
              "      <td>830</td>\n",
              "      <td>test</td>\n",
              "      <td>small car</td>\n",
              "      <td>1999</td>\n",
              "      <td>manual</td>\n",
              "      <td>60</td>\n",
              "      <td>...</td>\n",
              "      <td>renault</td>\n",
              "      <td>no</td>\n",
              "      <td>2016-03-14</td>\n",
              "      <td>33659</td>\n",
              "      <td>22/03/2016 4:47</td>\n",
              "      <td>6.721426</td>\n",
              "      <td>1</td>\n",
              "      <td>0</td>\n",
              "      <td>0</td>\n",
              "      <td>0</td>\n",
              "    </tr>\n",
              "    <tr>\n",
              "      <th>49995</th>\n",
              "      <td>2016-03-23 21:45:00</td>\n",
              "      <td>Opel_Astra_G_Caravan__Tuev_2/2018__Scheckheft_...</td>\n",
              "      <td>private</td>\n",
              "      <td>offer</td>\n",
              "      <td>2290</td>\n",
              "      <td>test</td>\n",
              "      <td>station wagon</td>\n",
              "      <td>2001</td>\n",
              "      <td>manual</td>\n",
              "      <td>101</td>\n",
              "      <td>...</td>\n",
              "      <td>opel</td>\n",
              "      <td>no</td>\n",
              "      <td>2016-03-23</td>\n",
              "      <td>27305</td>\n",
              "      <td>4/4/2016 1:47</td>\n",
              "      <td>7.736307</td>\n",
              "      <td>1</td>\n",
              "      <td>0</td>\n",
              "      <td>0</td>\n",
              "      <td>0</td>\n",
              "    </tr>\n",
              "    <tr>\n",
              "      <th>50000</th>\n",
              "      <td>2016-03-22 09:54:00</td>\n",
              "      <td>Chevrolet_Matiz_1.Hd_TÜV11/2017</td>\n",
              "      <td>commercial</td>\n",
              "      <td>offer</td>\n",
              "      <td>1100</td>\n",
              "      <td>test</td>\n",
              "      <td>small car</td>\n",
              "      <td>2006</td>\n",
              "      <td>manual</td>\n",
              "      <td>38</td>\n",
              "      <td>...</td>\n",
              "      <td>chevrolet</td>\n",
              "      <td>no</td>\n",
              "      <td>2016-03-22</td>\n",
              "      <td>7973</td>\n",
              "      <td>5/4/2016 21:15</td>\n",
              "      <td>7.003065</td>\n",
              "      <td>0</td>\n",
              "      <td>0</td>\n",
              "      <td>0</td>\n",
              "      <td>0</td>\n",
              "    </tr>\n",
              "  </tbody>\n",
              "</table>\n",
              "<p>40937 rows × 24 columns</p>\n",
              "</div>"
            ],
            "text/plain": [
              "              dateCrawled                                               name  \\\n",
              "0     2016-03-30 13:51:00                                       Zu_verkaufen   \n",
              "1     2016-07-03 09:54:00                             Volvo_XC90_2.4D_Summum   \n",
              "2     2016-01-04 00:57:00                                  Volkswagen_Touran   \n",
              "3     2016-03-19 17:50:00                       Seat_Ibiza_1.4_16V_Reference   \n",
              "4     2016-03-16 14:51:00  Volvo_XC90_D5_Aut._RDesign_R_Design_AWD_GSHD_S...   \n",
              "...                   ...                                                ...   \n",
              "49991 2016-10-03 23:36:00                                        BMW_X3_3.0i   \n",
              "49992 2016-03-14 13:57:00                         Opel_Astra_2.0_DI_Elegance   \n",
              "49993 2016-03-14 11:37:00       Renault_Clio_mit_Servolenkung_und_neuem_TÜV!   \n",
              "49995 2016-03-23 21:45:00  Opel_Astra_G_Caravan__Tuev_2/2018__Scheckheft_...   \n",
              "50000 2016-03-22 09:54:00                    Chevrolet_Matiz_1.Hd_TÜV11/2017   \n",
              "\n",
              "           seller offerType  price   abtest    vehicleType  \\\n",
              "0         private     offer   4450     test      limousine   \n",
              "1         private     offer  13299  control            suv   \n",
              "2         private     offer   3200     test            bus   \n",
              "3         private     offer   4500  control      small car   \n",
              "4         private     offer  18750     test            suv   \n",
              "...           ...       ...    ...      ...            ...   \n",
              "49991     private     offer  10900     test      limousine   \n",
              "49992     private     offer    790     test      limousine   \n",
              "49993     private     offer    830     test      small car   \n",
              "49995     private     offer   2290     test  station wagon   \n",
              "50000  commercial     offer   1100     test      small car   \n",
              "\n",
              "       yearOfRegistration    gearbox  powerPS  ...       brand  \\\n",
              "0                    2003     manual      150  ...         bmw   \n",
              "1                    2005     manual      163  ...       volvo   \n",
              "2                    2003     manual      101  ...  volkswagen   \n",
              "3                    2006     manual       86  ...        seat   \n",
              "4                    2008  automatic      185  ...       volvo   \n",
              "...                   ...        ...      ...  ...         ...   \n",
              "49991                2004     manual      231  ...         bmw   \n",
              "49992                1998     manual       82  ...        opel   \n",
              "49993                1999     manual       60  ...     renault   \n",
              "49995                2001     manual      101  ...        opel   \n",
              "50000                2006     manual       38  ...   chevrolet   \n",
              "\n",
              "       notRepairedDamage  dateCreated postalCode          lastSeen log_price  \\\n",
              "0                     no   2016-03-30      20257     7/4/2016 4:44  8.400659   \n",
              "1                     no   2016-07-03      88045  26/03/2016 13:17  9.495444   \n",
              "2                     no   2016-03-31      27449     1/4/2016 8:40  8.070906   \n",
              "3                     no   2016-03-19      34537     7/4/2016 4:44  8.411833   \n",
              "4                     no   2016-03-16      55270    1/4/2016 23:18  9.838949   \n",
              "...                  ...          ...        ...               ...       ...   \n",
              "49991                 no   2016-10-03      96152     6/4/2016 2:17  9.296518   \n",
              "49992                 no   2016-03-14      99310   31/03/2016 0:45  6.672033   \n",
              "49993                 no   2016-03-14      33659   22/03/2016 4:47  6.721426   \n",
              "49995                 no   2016-03-23      27305     4/4/2016 1:47  7.736307   \n",
              "50000                 no   2016-03-22       7973    5/4/2016 21:15  7.003065   \n",
              "\n",
              "      sel_private  abtest_type gearbox_type  notRepairedDamage_type  \n",
              "0               1            0            0                       0  \n",
              "1               1            1            0                       0  \n",
              "2               1            0            0                       0  \n",
              "3               1            1            0                       0  \n",
              "4               1            0            1                       0  \n",
              "...           ...          ...          ...                     ...  \n",
              "49991           1            0            0                       0  \n",
              "49992           1            0            0                       0  \n",
              "49993           1            0            0                       0  \n",
              "49995           1            0            0                       0  \n",
              "50000           0            0            0                       0  \n",
              "\n",
              "[40937 rows x 24 columns]"
            ]
          },
          "execution_count": 218,
          "metadata": {},
          "output_type": "execute_result"
        }
      ],
      "source": [
        "df"
      ]
    },
    {
      "cell_type": "code",
      "execution_count": null,
      "id": "e2ad37b6",
      "metadata": {
        "id": "e2ad37b6",
        "outputId": "89984ff4-6c6a-4827-ef40-2acf70e7cd57"
      },
      "outputs": [
        {
          "data": {
            "text/html": [
              "<div>\n",
              "<style scoped>\n",
              "    .dataframe tbody tr th:only-of-type {\n",
              "        vertical-align: middle;\n",
              "    }\n",
              "\n",
              "    .dataframe tbody tr th {\n",
              "        vertical-align: top;\n",
              "    }\n",
              "\n",
              "    .dataframe thead th {\n",
              "        text-align: right;\n",
              "    }\n",
              "</style>\n",
              "<table border=\"1\" class=\"dataframe\">\n",
              "  <thead>\n",
              "    <tr style=\"text-align: right;\">\n",
              "      <th></th>\n",
              "      <th>price</th>\n",
              "      <th>yearOfRegistration</th>\n",
              "      <th>powerPS</th>\n",
              "      <th>kilometer</th>\n",
              "      <th>monthOfRegistration</th>\n",
              "      <th>postalCode</th>\n",
              "      <th>log_price</th>\n",
              "      <th>sel_private</th>\n",
              "      <th>abtest_type</th>\n",
              "      <th>gearbox_type</th>\n",
              "      <th>notRepairedDamage_type</th>\n",
              "    </tr>\n",
              "  </thead>\n",
              "  <tbody>\n",
              "    <tr>\n",
              "      <th>price</th>\n",
              "      <td>1.000000</td>\n",
              "      <td>0.600032</td>\n",
              "      <td>0.138229</td>\n",
              "      <td>-0.368090</td>\n",
              "      <td>0.084135</td>\n",
              "      <td>0.065477</td>\n",
              "      <td>0.886778</td>\n",
              "      <td>0.003998</td>\n",
              "      <td>-0.002517</td>\n",
              "      <td>0.257620</td>\n",
              "      <td>-0.181816</td>\n",
              "    </tr>\n",
              "    <tr>\n",
              "      <th>yearOfRegistration</th>\n",
              "      <td>0.600032</td>\n",
              "      <td>1.000000</td>\n",
              "      <td>0.032381</td>\n",
              "      <td>-0.393015</td>\n",
              "      <td>0.028395</td>\n",
              "      <td>0.030180</td>\n",
              "      <td>0.613645</td>\n",
              "      <td>-0.002283</td>\n",
              "      <td>-0.005469</td>\n",
              "      <td>0.044793</td>\n",
              "      <td>-0.097591</td>\n",
              "    </tr>\n",
              "    <tr>\n",
              "      <th>powerPS</th>\n",
              "      <td>0.138229</td>\n",
              "      <td>0.032381</td>\n",
              "      <td>1.000000</td>\n",
              "      <td>0.008250</td>\n",
              "      <td>0.023338</td>\n",
              "      <td>0.012819</td>\n",
              "      <td>0.139505</td>\n",
              "      <td>0.001720</td>\n",
              "      <td>-0.003247</td>\n",
              "      <td>0.102657</td>\n",
              "      <td>-0.013199</td>\n",
              "    </tr>\n",
              "    <tr>\n",
              "      <th>kilometer</th>\n",
              "      <td>-0.368090</td>\n",
              "      <td>-0.393015</td>\n",
              "      <td>0.008250</td>\n",
              "      <td>1.000000</td>\n",
              "      <td>-0.012988</td>\n",
              "      <td>-0.005608</td>\n",
              "      <td>-0.321965</td>\n",
              "      <td>-0.002838</td>\n",
              "      <td>0.003636</td>\n",
              "      <td>0.018724</td>\n",
              "      <td>0.068371</td>\n",
              "    </tr>\n",
              "    <tr>\n",
              "      <th>monthOfRegistration</th>\n",
              "      <td>0.084135</td>\n",
              "      <td>0.028395</td>\n",
              "      <td>0.023338</td>\n",
              "      <td>-0.012988</td>\n",
              "      <td>1.000000</td>\n",
              "      <td>0.008928</td>\n",
              "      <td>0.116878</td>\n",
              "      <td>-0.005518</td>\n",
              "      <td>-0.001681</td>\n",
              "      <td>0.038151</td>\n",
              "      <td>-0.044568</td>\n",
              "    </tr>\n",
              "    <tr>\n",
              "      <th>postalCode</th>\n",
              "      <td>0.065477</td>\n",
              "      <td>0.030180</td>\n",
              "      <td>0.012819</td>\n",
              "      <td>-0.005608</td>\n",
              "      <td>0.008928</td>\n",
              "      <td>1.000000</td>\n",
              "      <td>0.067309</td>\n",
              "      <td>0.008287</td>\n",
              "      <td>-0.004327</td>\n",
              "      <td>-0.036593</td>\n",
              "      <td>0.007533</td>\n",
              "    </tr>\n",
              "    <tr>\n",
              "      <th>log_price</th>\n",
              "      <td>0.886778</td>\n",
              "      <td>0.613645</td>\n",
              "      <td>0.139505</td>\n",
              "      <td>-0.321965</td>\n",
              "      <td>0.116878</td>\n",
              "      <td>0.067309</td>\n",
              "      <td>1.000000</td>\n",
              "      <td>0.004519</td>\n",
              "      <td>0.000693</td>\n",
              "      <td>0.244844</td>\n",
              "      <td>-0.245508</td>\n",
              "    </tr>\n",
              "    <tr>\n",
              "      <th>sel_private</th>\n",
              "      <td>0.003998</td>\n",
              "      <td>-0.002283</td>\n",
              "      <td>0.001720</td>\n",
              "      <td>-0.002838</td>\n",
              "      <td>-0.005518</td>\n",
              "      <td>0.008287</td>\n",
              "      <td>0.004519</td>\n",
              "      <td>1.000000</td>\n",
              "      <td>0.004775</td>\n",
              "      <td>0.002430</td>\n",
              "      <td>0.001597</td>\n",
              "    </tr>\n",
              "    <tr>\n",
              "      <th>abtest_type</th>\n",
              "      <td>-0.002517</td>\n",
              "      <td>-0.005469</td>\n",
              "      <td>-0.003247</td>\n",
              "      <td>0.003636</td>\n",
              "      <td>-0.001681</td>\n",
              "      <td>-0.004327</td>\n",
              "      <td>0.000693</td>\n",
              "      <td>0.004775</td>\n",
              "      <td>1.000000</td>\n",
              "      <td>-0.005683</td>\n",
              "      <td>0.004930</td>\n",
              "    </tr>\n",
              "    <tr>\n",
              "      <th>gearbox_type</th>\n",
              "      <td>0.257620</td>\n",
              "      <td>0.044793</td>\n",
              "      <td>0.102657</td>\n",
              "      <td>0.018724</td>\n",
              "      <td>0.038151</td>\n",
              "      <td>-0.036593</td>\n",
              "      <td>0.244844</td>\n",
              "      <td>0.002430</td>\n",
              "      <td>-0.005683</td>\n",
              "      <td>1.000000</td>\n",
              "      <td>-0.012746</td>\n",
              "    </tr>\n",
              "    <tr>\n",
              "      <th>notRepairedDamage_type</th>\n",
              "      <td>-0.181816</td>\n",
              "      <td>-0.097591</td>\n",
              "      <td>-0.013199</td>\n",
              "      <td>0.068371</td>\n",
              "      <td>-0.044568</td>\n",
              "      <td>0.007533</td>\n",
              "      <td>-0.245508</td>\n",
              "      <td>0.001597</td>\n",
              "      <td>0.004930</td>\n",
              "      <td>-0.012746</td>\n",
              "      <td>1.000000</td>\n",
              "    </tr>\n",
              "  </tbody>\n",
              "</table>\n",
              "</div>"
            ],
            "text/plain": [
              "                           price  yearOfRegistration   powerPS  kilometer  \\\n",
              "price                   1.000000            0.600032  0.138229  -0.368090   \n",
              "yearOfRegistration      0.600032            1.000000  0.032381  -0.393015   \n",
              "powerPS                 0.138229            0.032381  1.000000   0.008250   \n",
              "kilometer              -0.368090           -0.393015  0.008250   1.000000   \n",
              "monthOfRegistration     0.084135            0.028395  0.023338  -0.012988   \n",
              "postalCode              0.065477            0.030180  0.012819  -0.005608   \n",
              "log_price               0.886778            0.613645  0.139505  -0.321965   \n",
              "sel_private             0.003998           -0.002283  0.001720  -0.002838   \n",
              "abtest_type            -0.002517           -0.005469 -0.003247   0.003636   \n",
              "gearbox_type            0.257620            0.044793  0.102657   0.018724   \n",
              "notRepairedDamage_type -0.181816           -0.097591 -0.013199   0.068371   \n",
              "\n",
              "                        monthOfRegistration  postalCode  log_price  \\\n",
              "price                              0.084135    0.065477   0.886778   \n",
              "yearOfRegistration                 0.028395    0.030180   0.613645   \n",
              "powerPS                            0.023338    0.012819   0.139505   \n",
              "kilometer                         -0.012988   -0.005608  -0.321965   \n",
              "monthOfRegistration                1.000000    0.008928   0.116878   \n",
              "postalCode                         0.008928    1.000000   0.067309   \n",
              "log_price                          0.116878    0.067309   1.000000   \n",
              "sel_private                       -0.005518    0.008287   0.004519   \n",
              "abtest_type                       -0.001681   -0.004327   0.000693   \n",
              "gearbox_type                       0.038151   -0.036593   0.244844   \n",
              "notRepairedDamage_type            -0.044568    0.007533  -0.245508   \n",
              "\n",
              "                        sel_private  abtest_type  gearbox_type  \\\n",
              "price                      0.003998    -0.002517      0.257620   \n",
              "yearOfRegistration        -0.002283    -0.005469      0.044793   \n",
              "powerPS                    0.001720    -0.003247      0.102657   \n",
              "kilometer                 -0.002838     0.003636      0.018724   \n",
              "monthOfRegistration       -0.005518    -0.001681      0.038151   \n",
              "postalCode                 0.008287    -0.004327     -0.036593   \n",
              "log_price                  0.004519     0.000693      0.244844   \n",
              "sel_private                1.000000     0.004775      0.002430   \n",
              "abtest_type                0.004775     1.000000     -0.005683   \n",
              "gearbox_type               0.002430    -0.005683      1.000000   \n",
              "notRepairedDamage_type     0.001597     0.004930     -0.012746   \n",
              "\n",
              "                        notRepairedDamage_type  \n",
              "price                                -0.181816  \n",
              "yearOfRegistration                   -0.097591  \n",
              "powerPS                              -0.013199  \n",
              "kilometer                             0.068371  \n",
              "monthOfRegistration                  -0.044568  \n",
              "postalCode                            0.007533  \n",
              "log_price                            -0.245508  \n",
              "sel_private                           0.001597  \n",
              "abtest_type                           0.004930  \n",
              "gearbox_type                         -0.012746  \n",
              "notRepairedDamage_type                1.000000  "
            ]
          },
          "execution_count": 219,
          "metadata": {},
          "output_type": "execute_result"
        }
      ],
      "source": [
        "df.corr()"
      ]
    },
    {
      "cell_type": "code",
      "execution_count": null,
      "id": "6174ae90",
      "metadata": {
        "id": "6174ae90"
      },
      "outputs": [],
      "source": [
        "X = df[['yearOfRegistration','powerPS','kilometer','notRepairedDamage_type','gearbox_type']]\n",
        "Y = df.price"
      ]
    },
    {
      "cell_type": "code",
      "execution_count": null,
      "id": "308674ed",
      "metadata": {
        "id": "308674ed"
      },
      "outputs": [],
      "source": [
        "X_train, X_test, y_train, y_test = train_test_split(X, Y, train_size=0.75, random_state=100)\n",
        "model = LinearRegression().fit(X_train, y_train)"
      ]
    },
    {
      "cell_type": "code",
      "execution_count": null,
      "id": "a4fc8c94",
      "metadata": {
        "id": "a4fc8c94",
        "outputId": "a1ecacf1-36da-45df-db9a-8e2c191acf6c"
      },
      "outputs": [
        {
          "data": {
            "text/plain": [
              "0.464745163649143"
            ]
          },
          "execution_count": 279,
          "metadata": {},
          "output_type": "execute_result"
        }
      ],
      "source": [
        "r2_score(y_test, model.predict(X_test))"
      ]
    },
    {
      "cell_type": "code",
      "execution_count": null,
      "id": "a35eabec",
      "metadata": {
        "id": "a35eabec",
        "outputId": "0756e668-2d39-4eaa-bc28-ca314a6ca0f7"
      },
      "outputs": [
        {
          "data": {
            "text/plain": [
              "2315.8377680287035"
            ]
          },
          "execution_count": 282,
          "metadata": {},
          "output_type": "execute_result"
        }
      ],
      "source": [
        "mean_absolute_error(y_test, model.predict(X_test)) # сумма всех отклонений"
      ]
    },
    {
      "cell_type": "code",
      "execution_count": null,
      "id": "ece564cf",
      "metadata": {
        "id": "ece564cf",
        "outputId": "069e5121-ae9e-4068-e438-76b1ad33a93d"
      },
      "outputs": [
        {
          "data": {
            "text/plain": [
              "10698240.827583285"
            ]
          },
          "execution_count": 284,
          "metadata": {},
          "output_type": "execute_result"
        }
      ],
      "source": [
        "mean_squared_error(y_test, model.predict(X_test))"
      ]
    },
    {
      "cell_type": "code",
      "execution_count": null,
      "id": "11217c9c",
      "metadata": {
        "id": "11217c9c",
        "outputId": "cead2189-d2a5-4067-a579-cf347f8e5547"
      },
      "outputs": [
        {
          "data": {
            "text/plain": [
              "3270.8164118458253"
            ]
          },
          "execution_count": 285,
          "metadata": {},
          "output_type": "execute_result"
        }
      ],
      "source": [
        "10698240**0.5 # RMSE"
      ]
    },
    {
      "cell_type": "code",
      "execution_count": null,
      "id": "d7b83c32",
      "metadata": {
        "id": "d7b83c32"
      },
      "outputs": [],
      "source": []
    }
  ],
  "metadata": {
    "kernelspec": {
      "display_name": "Python 3 (ipykernel)",
      "language": "python",
      "name": "python3"
    },
    "language_info": {
      "codemirror_mode": {
        "name": "ipython",
        "version": 3
      },
      "file_extension": ".py",
      "mimetype": "text/x-python",
      "name": "python",
      "nbconvert_exporter": "python",
      "pygments_lexer": "ipython3",
      "version": "3.9.7"
    },
    "colab": {
      "provenance": []
    }
  },
  "nbformat": 4,
  "nbformat_minor": 5
}